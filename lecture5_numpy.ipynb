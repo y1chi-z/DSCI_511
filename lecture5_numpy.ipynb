{
 "cells": [
  {
   "cell_type": "markdown",
   "id": "aca90e24-7d35-4b52-b2f5-34c20ddb6065",
   "metadata": {},
   "source": [
    "<img src=\"img/dsci511_header.png\" width=\"600\">"
   ]
  },
  {
   "cell_type": "markdown",
   "id": "c55af97c-0ad6-4b44-bb46-f1af1f44d513",
   "metadata": {},
   "source": [
    "# Lecture 5: Numpy\n",
    "\n",
    "## Lecture Learning Objectives\n",
    "\n",
    "- Explain what a NumPy array is, and why it is useful in data science.\n",
    "- Explain the relationship and differences between `numpy.ndarray`, `pandas.Series` and `pandas.DataFrame` objects in Python.\n",
    "- Use NumPy to create arrays with Numpy functions including `numpy.array()`, `numpy.arange()`, `numpy.linspace()` and `numpy.full()`, `numpy.zeros()` and `numpy.random.rand()`\n",
    "- Perform mathematical operations on and with arrays, like `+`, `-`, `*`, `**` on numeric values\n",
    "- Use NumPy math functions like `numpy.sum()`, `numpy.mean()`, `numpy.min()`, `numpy.max()`, `numpy.log()` as stand-alone functions or as methods of numpy arrays (when available)\n",
    "- Be able to access values from a NumPy array by numeric indexing and slicing and boolean indexing\n",
    "- Explain what broadcasting is and how to use it.\n",
    "- Reshape arrays by adding/removing/reshaping axes with `numpy.transpose()`, `numpy.reshape()`, `numpy.ravel()`, `numpy.flatten()`"
   ]
  },
  {
   "cell_type": "markdown",
   "id": "2c12ae41-26e2-4073-aca6-cc0a7cdcb22e",
   "metadata": {
    "jp-MarkdownHeadingCollapsed": true
   },
   "source": [
    "## What is NumPy\n",
    "\n",
    "**NumPy -> “Numerical Python extensions”.**\n",
    "\n",
    "NumPy offers:\n",
    "- Arrays\n",
    "- Mathematical Constants\n",
    "- Mathematical Functions\n",
    "\n",
    "The name NumPy is derived from **“Numerical Python extensions”.**\n",
    "\n",
    "NumPy is a Python library used primarily for computing involving numbers. It is especially useful as it provides a multidimensional array object, called an **array**. In addition, NumPy also offers numerous other mathematical functions used in the domain of Linear Algebra and Calculus. NumPy is written in C, making NumPy arrays faster and more memory efficient than Python lists, read more [here](https://www.labri.fr/perso/nrougier/from-python-to-numpy/)). The Numpy docs are excellent: <https://numpy.org/doc/stable/index.html>\n",
    "\n",
    "#### Almost everything in scientific Python relies on NumPy  \n",
    "\n",
    "<img src=\"https://media.springernature.com/full/springer-static/image/art%3A10.1038%2Fs41586-020-2649-2/MediaObjects/41586_2020_2649_Fig2_HTML.png?as=webp\" width=500>\n",
    "\n",
    "*__Source__: Harris, C.R., Millman, K.J., van der Walt, S.J. et al. Array programming with NumPy. Nature 585, 357–362 (2020). https://doi.org/10.1038/s41586-020-2649-2*"
   ]
  },
  {
   "cell_type": "markdown",
   "id": "304f51bd-890f-4254-8183-45dd4573cddd",
   "metadata": {},
   "source": [
    "## NumPy arrays\n",
    "\n",
    "- \"n-dimensional\" data structures called `ndarray`s, which must be rectilinear \n",
    "- Can contain all the basic `dtype`s, e.g., floats, integers, strings etc, but work best with numeric data\n",
    "- Generally homogeneous, meaning that items in the array should be of the same type. Type coercion usually happens when creating an array from mixed types.\n",
    "- Are vectorized (apply operations (like addition, subtraction, multiplication, etc.) over an entire array without needing to explicitly write loops)\n",
    "- Compatible with NumPy's vast collection of built-in functions\n",
    "\n",
    "<img src=\"img/numpy_arrays.png\" width=400>\n",
    "\n",
    "*__Source:__ [Medium.com](https://medium.com/hackernoon/10-machine-learning-data-science-and-deep-learning-courses-for-programmers-7edc56078cde)*"
   ]
  },
  {
   "cell_type": "markdown",
   "id": "215f2896-b86c-4f57-9169-f9921c4510ce",
   "metadata": {},
   "source": [
    "#### Why is it important to have the same `dtype`?\n",
    "\n",
    "- We can allocate memory in advance knowing that all items are the same `dtype`\n",
    "- Items are stored in contiguous block of memory\n",
    "\n",
    "<img src=\"https://jakevdp.github.io/PythonDataScienceHandbook/figures/array_vs_list.png\" width=600>\n",
    "\n",
    "*__Source:__ https://jakevdp.github.io/PythonDataScienceHandbook/*"
   ]
  },
  {
   "cell_type": "markdown",
   "id": "9da92ccd-6889-4a95-943d-cd62bd5418e2",
   "metadata": {},
   "source": [
    "### Our first array:\n",
    "\n",
    "We can make arrays in many ways, but we'll create our first one from a list:"
   ]
  },
  {
   "cell_type": "code",
   "execution_count": 10,
   "id": "fdc21251-75e0-46bf-8902-81ad1a560fa9",
   "metadata": {},
   "outputs": [
    {
     "data": {
      "text/plain": [
       "[1, 2, 3, 4, 5]"
      ]
     },
     "execution_count": 10,
     "metadata": {},
     "output_type": "execute_result"
    }
   ],
   "source": [
    "my_list = [1, 2, 3, 4, 5]\n",
    "my_list"
   ]
  },
  {
   "cell_type": "code",
   "execution_count": 1,
   "id": "70016dda-9775-4b27-aa33-006cf67a7286",
   "metadata": {},
   "outputs": [
    {
     "data": {
      "text/plain": [
       "array([1, 2, 3, 4, 5])"
      ]
     },
     "execution_count": 1,
     "metadata": {},
     "output_type": "execute_result"
    }
   ],
   "source": [
    "import numpy as np\n",
    "\n",
    "my_array = np.array([1, 2, 3, 4, 5])\n",
    "my_array"
   ]
  },
  {
   "cell_type": "markdown",
   "id": "7061be70-b8f4-411c-87b5-596ca9cef384",
   "metadata": {},
   "source": [
    "We can learn things about our array from functions and attributes we have met before:"
   ]
  },
  {
   "cell_type": "code",
   "execution_count": 75,
   "id": "86aecfe5-bccf-493e-b061-8ae9c7a297e8",
   "metadata": {},
   "outputs": [
    {
     "data": {
      "text/plain": [
       "numpy.ndarray"
      ]
     },
     "execution_count": 75,
     "metadata": {},
     "output_type": "execute_result"
    }
   ],
   "source": [
    "type(my_array)"
   ]
  },
  {
   "cell_type": "code",
   "execution_count": 76,
   "id": "572104b6-41cf-4285-956a-9dc2dd1be491",
   "metadata": {},
   "outputs": [
    {
     "data": {
      "text/plain": [
       "dtype('int64')"
      ]
     },
     "execution_count": 76,
     "metadata": {},
     "output_type": "execute_result"
    }
   ],
   "source": [
    "my_array.dtype"
   ]
  },
  {
   "cell_type": "code",
   "execution_count": 77,
   "id": "31c41382-741e-464a-acb9-8d2cb466413a",
   "metadata": {},
   "outputs": [
    {
     "data": {
      "text/plain": [
       "(5,)"
      ]
     },
     "execution_count": 77,
     "metadata": {},
     "output_type": "execute_result"
    }
   ],
   "source": [
    "my_array.shape # elements in each dimension"
   ]
  },
  {
   "cell_type": "code",
   "execution_count": 78,
   "id": "da5598af-e599-4cc2-bc9e-efe908eb7b32",
   "metadata": {},
   "outputs": [
    {
     "data": {
      "text/plain": [
       "5"
      ]
     },
     "execution_count": 78,
     "metadata": {},
     "output_type": "execute_result"
    }
   ],
   "source": [
    "my_array.size # elements in total"
   ]
  },
  {
   "cell_type": "markdown",
   "id": "0e380495-bb19-4d96-ae75-a5996d74648d",
   "metadata": {},
   "source": [
    "And because they can come in $n$ dimensions, we also sometimes want to use `numpy.ndim`"
   ]
  },
  {
   "cell_type": "code",
   "execution_count": 79,
   "id": "47024072-6167-4f71-9a6f-5dd94408047e",
   "metadata": {},
   "outputs": [
    {
     "data": {
      "text/plain": [
       "1"
      ]
     },
     "execution_count": 79,
     "metadata": {},
     "output_type": "execute_result"
    }
   ],
   "source": [
    "my_array.ndim"
   ]
  },
  {
   "cell_type": "markdown",
   "id": "2787983e-a1b2-435f-bf90-8fa082279d48",
   "metadata": {},
   "source": [
    "And we can use numerical subsetting to get elements back from our array:"
   ]
  },
  {
   "cell_type": "code",
   "execution_count": 80,
   "id": "83bcb332-2b8e-4ec8-bb86-0fa2b6df4a73",
   "metadata": {},
   "outputs": [
    {
     "data": {
      "text/plain": [
       "array([3, 4])"
      ]
     },
     "execution_count": 80,
     "metadata": {},
     "output_type": "execute_result"
    }
   ],
   "source": [
    "my_array[2:4]"
   ]
  },
  {
   "cell_type": "markdown",
   "id": "9e0a96fb-272f-42f9-9d4b-2686e9be17a5",
   "metadata": {},
   "source": [
    "### What is vectorization?\n",
    "\n",
    "Vectorization is the ability to operate on objects with multiple elements in an element-wise fashion, without loops.\n",
    "\n",
    "Here's an example where because `numpy.ndarray`s are vectorized we can add 5 to each element using `+`. "
   ]
  },
  {
   "cell_type": "code",
   "execution_count": 2,
   "id": "be1610ef-4c4f-432b-8daf-26d3954491f4",
   "metadata": {},
   "outputs": [
    {
     "data": {
      "text/plain": [
       "array([ 6,  7,  8,  9, 10])"
      ]
     },
     "execution_count": 2,
     "metadata": {},
     "output_type": "execute_result"
    }
   ],
   "source": [
    "my_array + 5"
   ]
  },
  {
   "cell_type": "markdown",
   "id": "09386039-7ce4-4ad9-9487-44fabb5bf52e",
   "metadata": {},
   "source": [
    "In contrast, to add 5 to every element in a list, we need to iterate over every item with a loop:"
   ]
  },
  {
   "cell_type": "code",
   "execution_count": 5,
   "id": "8b18de56-e562-4177-85f3-91ddeb112c12",
   "metadata": {},
   "outputs": [
    {
     "ename": "TypeError",
     "evalue": "can only concatenate list (not \"int\") to list",
     "output_type": "error",
     "traceback": [
      "\u001b[0;31m---------------------------------------------------------------------------\u001b[0m",
      "\u001b[0;31mTypeError\u001b[0m                                 Traceback (most recent call last)",
      "Cell \u001b[0;32mIn[5], line 1\u001b[0m\n\u001b[0;32m----> 1\u001b[0m \u001b[43mmy_list\u001b[49m\u001b[43m \u001b[49m\u001b[38;5;241;43m+\u001b[39;49m\u001b[43m \u001b[49m\u001b[38;5;241;43m5\u001b[39;49m\n",
      "\u001b[0;31mTypeError\u001b[0m: can only concatenate list (not \"int\") to list"
     ]
    }
   ],
   "source": [
    "my_list + 5 # throws an error"
   ]
  },
  {
   "cell_type": "code",
   "execution_count": 11,
   "id": "ab47853f-5597-45c3-9f90-3bc5dc2c4217",
   "metadata": {},
   "outputs": [
    {
     "data": {
      "text/plain": [
       "[6, 7, 8, 9, 10]"
      ]
     },
     "execution_count": 11,
     "metadata": {},
     "output_type": "execute_result"
    }
   ],
   "source": [
    "for i in range(len(my_list)):\n",
    "    my_list[i] = my_list[i] + 5\n",
    "my_list    "
   ]
  },
  {
   "cell_type": "markdown",
   "id": "f7031f9f-d3cb-4206-9e98-fcd70b06aadd",
   "metadata": {},
   "source": [
    "### Relationship to Pandas\n",
    "\n",
    "- NumPy `ndarray` are the object that Pandas `Series` objects are built on top of.\n",
    "- The elements/values in a `Series` are actually represented as an `ndarray` in memory.\n",
    "- Pandas `Series` objects have an attribute called an index that is used to label and access its elements. NumPy `ndarray`s do not have an index and instead can only be accessed by numerical subsetting.\n",
    "- We can easily convert a NumPy `ndarray` to Pandas `Series` object via `pandas.Series()`, and we can covert a Pandas `Series` to a a NumPy `ndarray` via `pandas.Series.to_numpy()`\n",
    "\n",
    "<img src=\"img/numpy-series.png\" width=375>"
   ]
  },
  {
   "cell_type": "code",
   "execution_count": 84,
   "id": "90be7588-e7ce-4d3e-956b-80057d822825",
   "metadata": {},
   "outputs": [
    {
     "data": {
      "text/plain": [
       "array([1, 2, 3, 4, 5])"
      ]
     },
     "execution_count": 84,
     "metadata": {},
     "output_type": "execute_result"
    }
   ],
   "source": [
    "my_array"
   ]
  },
  {
   "cell_type": "code",
   "execution_count": 85,
   "id": "98fc7fe3-ca76-40ac-9fef-aed0e9ec3a2c",
   "metadata": {},
   "outputs": [
    {
     "data": {
      "text/plain": [
       "0    1\n",
       "1    2\n",
       "2    3\n",
       "3    4\n",
       "4    5\n",
       "dtype: int64"
      ]
     },
     "execution_count": 85,
     "metadata": {},
     "output_type": "execute_result"
    }
   ],
   "source": [
    "import pandas as pd\n",
    "\n",
    "my_series = pd.Series(my_array)\n",
    "my_series"
   ]
  },
  {
   "cell_type": "code",
   "execution_count": 86,
   "id": "f92ef1c1-079d-4d86-a35a-e12a14761a2c",
   "metadata": {},
   "outputs": [
    {
     "data": {
      "text/plain": [
       "array([1, 2, 3, 4, 5])"
      ]
     },
     "execution_count": 86,
     "metadata": {},
     "output_type": "execute_result"
    }
   ],
   "source": [
    "my_array_from_series = my_series.to_numpy()\n",
    "my_array_from_series"
   ]
  },
  {
   "cell_type": "markdown",
   "id": "f0e7a2d3-bed0-4f4c-b217-65b2553f6632",
   "metadata": {},
   "source": [
    "## Creating `ndarray`s\n",
    "\n",
    "`ndarray`s are typically created using two main methods:\n",
    "- From existing data (usually lists or tuples) using `numpy.array()`, like we saw above; or,\n",
    "- Using other Numpy functions such as `numpy.arange()`, `numpy.linspace()`, `numpy.zeros()`, etc.\n",
    "\n",
    "#### From existing data\n",
    "\n",
    "Here we take two lists to create a 2D `ndarray` (of DNA sequences that correspond to amino acid codons):"
   ]
  },
  {
   "cell_type": "code",
   "execution_count": 90,
   "id": "8e5a803d-00a0-4e86-90ee-b8e59feb6827",
   "metadata": {},
   "outputs": [
    {
     "data": {
      "text/plain": [
       "array([['ttt', 'ttc', 'ttaere', 'ttg'],\n",
       "       ['ctt', 'ctc', 'cta', 'ctg']], dtype='<U6')"
      ]
     },
     "execution_count": 90,
     "metadata": {},
     "output_type": "execute_result"
    }
   ],
   "source": [
    "codons = np.array([[\"ttt\", \"ttc\", \"ttaere\", \"ttg\"],\n",
    "        [\"ctt\", \"ctc\", \"cta\", \"ctg\"]])\n",
    "codons"
   ]
  },
  {
   "cell_type": "markdown",
   "id": "86ee1326-7e1c-4019-83f9-4cb38317d8e4",
   "metadata": {},
   "source": [
    "> Note: See the `[[` in the `codons` `ndarray` we created above? In the print output of `ndarray`s, each `[` indicates one dimension. So for the `codons` `ndarray` we can read that as it being a 2D array because there are two `[`'s in the print output for that object."
   ]
  },
  {
   "cell_type": "markdown",
   "id": "60f1aac7-b1c5-40fc-948e-e43861982b4f",
   "metadata": {},
   "source": [
    "## From other Numpy functions\n",
    "\n",
    "Here we use `numpy.arrange()` to create an 1D `ndarray` with the values from 2 - 10, skip counting by 2's:"
   ]
  },
  {
   "cell_type": "code",
   "execution_count": 94,
   "id": "98ac3e9c-c53c-4232-904b-2eeaa5ee0542",
   "metadata": {},
   "outputs": [
    {
     "data": {
      "text/plain": [
       "array([ 0,  2,  4,  6,  8, 10])"
      ]
     },
     "execution_count": 94,
     "metadata": {},
     "output_type": "execute_result"
    }
   ],
   "source": [
    "np.arange(0, 11, 2)"
   ]
  },
  {
   "cell_type": "markdown",
   "id": "e4acef96-1c69-46ed-be44-9efa4cec5bb3",
   "metadata": {},
   "source": [
    "There are many, many, maaaaaaaaannnnnny Numpy functions we can use to create `ndarray`s in useful ways. We summarise some with think will be most important to you below in this table, and each function is linked to its official Numpy documentation so you can learn more and view examples.\n",
    "\n",
    "#### Functions for creating `ndarray`s\n",
    "\n",
    "| Numpy function | Description |\n",
    "|----------------|-------------|\n",
    "| [`numpy.arange()`](https://numpy.org/doc/stable/reference/generated/numpy.arange.html) | Returns an `ndarray` with evenly spaced values within a given interval, given a start, stop and step-size. | \n",
    "| [`numpy.linspace()`](https://numpy.org/doc/stable/reference/generated/numpy.linspace.html) | Returns an `ndarray` with evenly spaced numbers over a specified interval, given a start, stop and number of steps. |\n",
    "| [`numpy.full()`](https://numpy.org/doc/stable/reference/generated/numpy.full.html) | Returns an `ndarray` of a given shape and type, filled with fill_value. |\n",
    "| [`numpy.zeros()`](https://numpy.org/doc/stable/reference/generated/numpy.zeros.html)| Returns an `ndarray` of a given shape and type, filled with zeros. |\n",
    "| [`numpy.random.rand()`](https://numpy.org/doc/stable/reference/random/generated/numpy.random.rand.html) | Returns an `ndarray` of random values in a given shape. |"
   ]
  },
  {
   "cell_type": "markdown",
   "id": "3403601f-c1cd-4a2d-ad7b-0f7bbfc40792",
   "metadata": {},
   "source": [
    "## Mathematical operations with `ndarray`s\n",
    "\n",
    "As mentioned in the introduction, `ndarray`s are vectorized. This means that we can do element-wise operations on them without having to write `for` loops. Our element-wise operations can be an operation applied to each element of an array or can be between the paired entries of two (or more) arrays.\n",
    "\n",
    "### Mathematical operators\n",
    "\n",
    "We can use the standard Python math operators (e.g., `+`, `-`, `*`, `**`) to do math on `ndarray`s. \n",
    "\n",
    "Here we create an array, `x` and then use the `+` operator to create a new `ndarray` named `y` with the value of 1 added to all the elements in `x`:"
   ]
  },
  {
   "cell_type": "code",
   "execution_count": 95,
   "id": "3fae9f9b-f3bb-4927-b80c-942790d4cb42",
   "metadata": {},
   "outputs": [
    {
     "data": {
      "text/plain": [
       "array([4, 4, 4, 4, 4])"
      ]
     },
     "execution_count": 95,
     "metadata": {},
     "output_type": "execute_result"
    }
   ],
   "source": [
    "x = np.full(5, 4)\n",
    "x"
   ]
  },
  {
   "cell_type": "code",
   "execution_count": 96,
   "id": "288ad02b-9a93-4c11-8356-87e975bb7168",
   "metadata": {},
   "outputs": [
    {
     "data": {
      "text/plain": [
       "array([5, 5, 5, 5, 5])"
      ]
     },
     "execution_count": 96,
     "metadata": {},
     "output_type": "execute_result"
    }
   ],
   "source": [
    "y = x + 1\n",
    "y"
   ]
  },
  {
   "cell_type": "markdown",
   "id": "63e00288-8c4c-40d8-a5f4-9e3c961e8745",
   "metadata": {},
   "source": [
    "Here we add `x` and `y` together, element-by-element:"
   ]
  },
  {
   "cell_type": "code",
   "execution_count": 97,
   "id": "082a53b1-26a8-4e0e-b85f-e476cd99a2c3",
   "metadata": {},
   "outputs": [
    {
     "data": {
      "text/plain": [
       "array([20, 20, 20, 20, 20])"
      ]
     },
     "execution_count": 97,
     "metadata": {},
     "output_type": "execute_result"
    }
   ],
   "source": [
    "x * y"
   ]
  },
  {
   "cell_type": "markdown",
   "id": "4f787a31-f34b-451d-8f09-2be7bc0e4e64",
   "metadata": {},
   "source": [
    "This is also true for the Python operators that work on strings!"
   ]
  },
  {
   "cell_type": "code",
   "execution_count": 98,
   "id": "c1f1270f-7727-4e0a-8b87-362e802c099a",
   "metadata": {},
   "outputs": [
    {
     "data": {
      "text/plain": [
       "array(['Florence Nightingale', 'Ada Lovelace', 'Gertrude Cox'],\n",
       "      dtype='<U20')"
      ]
     },
     "execution_count": 98,
     "metadata": {},
     "output_type": "execute_result"
    }
   ],
   "source": [
    "firsts = np.array([\"Florence\", \"Ada\", \"Gertrude\"])\n",
    "space = np.array([\" \"])\n",
    "lasts = np.array([\"Nightingale\", \"Lovelace\", \"Cox\"])\n",
    "\n",
    "firsts + space + lasts"
   ]
  },
  {
   "cell_type": "markdown",
   "id": "747a75d7-b83c-4a1c-b2c8-d640763c73b5",
   "metadata": {},
   "source": [
    "### Mathematical Numpy functions\n",
    "\n",
    "As in `ndarray` creating, there are many, many, maaaaaaaaannnnnny Numpy functions we can use to perform mathematical operations. All functions work element-wise, but some return an `ndarray` single value when applied to an `ndarray` (e.g., `numpy.sum()`), while others return an `ndarray` of the same size the function was applied to (`numpy.log()`). Be sure to check the documentation for each function you use so you understand how it should be applied and what shape of object it will return. \n",
    "\n",
    "Below we demonstrate how to use  `numpy.sum()` and `numpy.log()` on 2D arrays, and then we summarise some additional mathematical Numpy functions with think will be most important to you in table following the demonstrations. Again, each function is linked to its official Numpy documentation so you can learn more and view examples."
   ]
  },
  {
   "cell_type": "markdown",
   "id": "7955a88e-7320-4429-97cf-68d2973c425b",
   "metadata": {},
   "source": [
    "Creating a 2D array:"
   ]
  },
  {
   "cell_type": "code",
   "execution_count": 99,
   "id": "927db81a-5531-4f0f-9eba-b9083d05d1b1",
   "metadata": {},
   "outputs": [
    {
     "data": {
      "text/plain": [
       "array([[ 2.5,  3.5,  2. ],\n",
       "       [10. , 20. , 30. ]])"
      ]
     },
     "execution_count": 99,
     "metadata": {},
     "output_type": "execute_result"
    }
   ],
   "source": [
    "measurements = np.array([[2.5, 3.5, 2],\n",
    "          [10, 20, 30]])\n",
    "measurements"
   ]
  },
  {
   "cell_type": "code",
   "execution_count": 100,
   "id": "4284a722-8c4a-4cf5-b3b9-5173ce01d070",
   "metadata": {},
   "outputs": [
    {
     "data": {
      "text/plain": [
       "(2, 3)"
      ]
     },
     "execution_count": 100,
     "metadata": {},
     "output_type": "execute_result"
    }
   ],
   "source": [
    "measurements.shape"
   ]
  },
  {
   "cell_type": "code",
   "execution_count": 101,
   "id": "de925b78-8eec-41ae-af59-a06ddf820291",
   "metadata": {},
   "outputs": [
    {
     "data": {
      "text/plain": [
       "2"
      ]
     },
     "execution_count": 101,
     "metadata": {},
     "output_type": "execute_result"
    }
   ],
   "source": [
    "measurements.ndim"
   ]
  },
  {
   "cell_type": "markdown",
   "id": "10a2269b-00be-4471-96ab-284dd28c126d",
   "metadata": {},
   "source": [
    "### `np.sum()`\n",
    "\n",
    "If we want to get the sum of the entire `ndarray` (use default for `axis`, which is `None`):"
   ]
  },
  {
   "cell_type": "code",
   "execution_count": 102,
   "id": "373b56c1-187f-4ec9-9a3c-0ab01fd1cd48",
   "metadata": {},
   "outputs": [
    {
     "data": {
      "text/plain": [
       "np.float64(68.0)"
      ]
     },
     "execution_count": 102,
     "metadata": {},
     "output_type": "execute_result"
    }
   ],
   "source": [
    "total_sum_measurements = np.sum(measurements)\n",
    "total_sum_measurements"
   ]
  },
  {
   "cell_type": "code",
   "execution_count": 103,
   "id": "57c5f6a9-b8b6-4d48-99e5-da1eb07746e4",
   "metadata": {},
   "outputs": [
    {
     "data": {
      "text/plain": [
       "array([[ 2.5,  3.5,  2. ],\n",
       "       [10. , 20. , 30. ]])"
      ]
     },
     "execution_count": 103,
     "metadata": {},
     "output_type": "execute_result"
    }
   ],
   "source": [
    "measurements"
   ]
  },
  {
   "cell_type": "markdown",
   "id": "db21ff07-d21e-4c17-a861-63e10a04f1e3",
   "metadata": {},
   "source": [
    "If we want to get the sum of axis 1:"
   ]
  },
  {
   "cell_type": "code",
   "execution_count": 104,
   "id": "75f4185c-a638-42f8-9e7f-7153d9c731d5",
   "metadata": {},
   "outputs": [
    {
     "data": {
      "text/plain": [
       "array([ 8., 60.])"
      ]
     },
     "execution_count": 104,
     "metadata": {},
     "output_type": "execute_result"
    }
   ],
   "source": [
    "col_sums_measurements = np.sum(measurements, axis=1)\n",
    "col_sums_measurements"
   ]
  },
  {
   "cell_type": "code",
   "execution_count": 105,
   "id": "de115d1d-595d-4c6c-b513-d32cc19227a3",
   "metadata": {},
   "outputs": [
    {
     "data": {
      "text/plain": [
       "array([12.5, 23.5, 32. ])"
      ]
     },
     "execution_count": 105,
     "metadata": {},
     "output_type": "execute_result"
    }
   ],
   "source": [
    "np.sum(measurements, axis=0)"
   ]
  },
  {
   "cell_type": "markdown",
   "id": "770b2935-ae5b-4c47-bee3-4348152d9860",
   "metadata": {},
   "source": [
    "### `np.log()`\n",
    "\n",
    "If we want to log transform every element in the `ndarray`:"
   ]
  },
  {
   "cell_type": "code",
   "execution_count": 106,
   "id": "387fa2ad-fbb2-4ed2-b600-3da4726bc712",
   "metadata": {},
   "outputs": [
    {
     "data": {
      "text/plain": [
       "array([[0.91629073, 1.25276297, 0.69314718],\n",
       "       [2.30258509, 2.99573227, 3.40119738]])"
      ]
     },
     "execution_count": 106,
     "metadata": {},
     "output_type": "execute_result"
    }
   ],
   "source": [
    "log_measurements = np.log(measurements)\n",
    "log_measurements"
   ]
  },
  {
   "cell_type": "markdown",
   "id": "12a0a93e-4320-4db2-9335-ea2b3e9fbd56",
   "metadata": {},
   "source": [
    "#### Mathematical functions for `ndarray`s\n",
    "\n",
    "Below are some key mathematical functions for `ndarray`s. This is NOT an exhaustive list, you can find an exhaustive list here in the Numpy docs: <https://numpy.org/doc/stable/reference/routines.math.html>\n",
    "\n",
    "| Numpy function | Description |\n",
    "|----------------|-------------|\n",
    "| [`numpy.sum()`](https://numpy.org/doc/stable/reference/generated/numpy.sum.html) | Sum of array elements over a given axis. | \n",
    "| [`numpy.mean()`](https://numpy.org/doc/stable/reference/generated/numpy.mean.html#numpy.mean) | Returns the average of the array elements. The average is taken over the flattened array by default, otherwise over the specified axis. float64 intermediate and return values are used for integer inputs. |\n",
    "| [`numpy.min()`](https://numpy.org/doc/stable/reference/generated/numpy.min.html) | Return the minimum of an array or minimum along an axis. |\n",
    "| [`numpy.max()`](https://numpy.org/doc/stable/reference/generated/numpy.max.html)| Return the maximum of an array or maximum along an axis. |\n",
    "| [`numpy.log()`](https://numpy.org/doc/stable/reference/generated/numpy.log.html) | The natural logarithm log is the inverse of the exponential function, so that log(exp(x)) = x. The natural logarithm is logarithm in base e.|"
   ]
  },
  {
   "cell_type": "markdown",
   "id": "21ccecee-1c10-41d3-9cc8-c56f964fca0e",
   "metadata": {},
   "source": [
    "## Indexing and slicing `ndarray`s\n",
    "\n",
    "Indexing and slicing `ndarray`s must be done using numerical or boolean indexing because arrays do not have indices or column labels. \n",
    "\n",
    "Numerical indexing is of `ndarray`s is similar to what you have seen for other objects in Python. The new challenge comes however from doing this in higher dimensions, which `ndarrays` can come it! Let's practice slicing 3D `ndarray`s so we can get the hang of it.\n",
    "\n",
    "Let's create a 3 x 3 `ndarray` that would be like this cube:\n",
    "\n",
    "<img src=\"img/3d-cube.png\" width=400>"
   ]
  },
  {
   "cell_type": "code",
   "execution_count": null,
   "id": "813f1f3f-95d9-44c2-98ae-b613159264e5",
   "metadata": {},
   "outputs": [],
   "source": [
    "#np.full((4, 3, 2), 1)"
   ]
  },
  {
   "cell_type": "code",
   "execution_count": 108,
   "id": "7bd15aa7-33e6-41f3-b21f-1d02b7364204",
   "metadata": {},
   "outputs": [
    {
     "data": {
      "text/plain": [
       "array([[[1, 2, 3],\n",
       "        [1, 2, 3],\n",
       "        [1, 2, 3]],\n",
       "\n",
       "       [[1, 2, 3],\n",
       "        [1, 2, 3],\n",
       "        [1, 2, 3]],\n",
       "\n",
       "       [[1, 2, 3],\n",
       "        [1, 2, 3],\n",
       "        [1, 2, 3]]])"
      ]
     },
     "execution_count": 108,
     "metadata": {},
     "output_type": "execute_result"
    }
   ],
   "source": [
    "cube_3_3 = np.array(\n",
    "    [[[1, 2, 3],\n",
    "      [1, 2, 3],\n",
    "      [1, 2, 3]],\n",
    "     [[1, 2, 3],\n",
    "      [1, 2, 3],\n",
    "      [1, 2, 3]],\n",
    "     [[1, 2, 3],\n",
    "      [1, 2, 3],\n",
    "      [1, 2, 3]]])\n",
    "cube_3_3"
   ]
  },
  {
   "cell_type": "code",
   "execution_count": 109,
   "id": "8525a766-a548-4096-af92-8177a3fa7d1e",
   "metadata": {},
   "outputs": [
    {
     "data": {
      "text/plain": [
       "(3, 3, 3)"
      ]
     },
     "execution_count": 109,
     "metadata": {},
     "output_type": "execute_result"
    }
   ],
   "source": [
    "cube_3_3.shape"
   ]
  },
  {
   "attachments": {},
   "cell_type": "markdown",
   "id": "318e06ab-de45-44de-adcc-69e3b6047c6f",
   "metadata": {},
   "source": [
    "### Getting a single element from a 3D `ndarray`:\n",
    "\n",
    "If we want to get the middle value, on the front face of the cube, as highlighted in the picture below (and should be `1`), we need to give the following numerical indices for the three axes:\n",
    "- axis 0 = `1`\n",
    "- axis 1 = `1`\n",
    "- axis 2 = `0`\n",
    "\n",
    "<img src=\"img/3d-cube-middle-front.png\" width=400>"
   ]
  },
  {
   "cell_type": "code",
   "execution_count": 110,
   "id": "5da433cb-6803-4ee9-b460-38a43d9000e1",
   "metadata": {},
   "outputs": [
    {
     "data": {
      "text/plain": [
       "np.int64(1)"
      ]
     },
     "execution_count": 110,
     "metadata": {},
     "output_type": "execute_result"
    }
   ],
   "source": [
    "cube_3_3[1, 1, 0]"
   ]
  },
  {
   "cell_type": "markdown",
   "id": "723427cc-846f-473d-84d3-1286c463f873",
   "metadata": {},
   "source": [
    "### Getting all the elements from one row from a particular dimension\n",
    "\n",
    "If we want to get the top row, at the back of the cube as highlighted in the picture below (and should be `3, 3, 3`), we need to give the following numerical indices for the three axes:\n",
    "\n",
    "- axis 0 = `0`\n",
    "- axis 1 = `0:2` or `:`\n",
    "- axis 2 = `2`\n",
    "\n",
    "<img src=\"img/3d-cube-top-back-row.png\" width=400>"
   ]
  },
  {
   "cell_type": "code",
   "execution_count": 111,
   "id": "3d75092b-a734-441c-9217-4eda170e2c64",
   "metadata": {},
   "outputs": [
    {
     "data": {
      "text/plain": [
       "array([3, 3, 3])"
      ]
     },
     "execution_count": 111,
     "metadata": {},
     "output_type": "execute_result"
    }
   ],
   "source": [
    "cube_3_3[0, :, 2]"
   ]
  },
  {
   "cell_type": "markdown",
   "id": "27b33cb7-2081-4523-a28c-45d87976d5c6",
   "metadata": {},
   "source": [
    "### Getting a slice of an entire dimension\n",
    "\n",
    "If we want to get a slice of an entire dimension of the cube as highlighted in the picture below (and should be comprised of nine 1's as a 3 x 3 shape in 2D), we need to give the following numerical indices for the three axes:\n",
    "\n",
    "- axis 0 = `0:2` or `:`\n",
    "- axis 1 = `0:2` or `:`\n",
    "- axis 2 = `0`\n",
    "\n",
    "<img src=\"img/3d-cube-entire-dim.png\" width=400>"
   ]
  },
  {
   "cell_type": "code",
   "execution_count": 112,
   "id": "5f7348f4-c3cb-461e-92d1-e371609508ce",
   "metadata": {},
   "outputs": [
    {
     "data": {
      "text/plain": [
       "array([[1, 1, 1],\n",
       "       [1, 1, 1],\n",
       "       [1, 1, 1]])"
      ]
     },
     "execution_count": 112,
     "metadata": {},
     "output_type": "execute_result"
    }
   ],
   "source": [
    "cube_3_3[:, :, 0]"
   ]
  },
  {
   "cell_type": "markdown",
   "id": "24931080-7260-4a54-9746-2e7fff5e8a70",
   "metadata": {},
   "source": [
    "## Boolean indexing `ndarray`s\n",
    "\n",
    "As mentioned above, we can also use boolean indexing to subset `ndarray`s. This works in a similar way to what we have seen of other objects in Python. We'll look at a couple examples here to refresh and remind ourselves.\n",
    "\n",
    "#### Returning values above or below a threshold\n",
    "\n",
    "If we have an `ndarray` from which we want to subset values above or below a threshold, we can use comparison operators and square bracket notation to do this. In the example below, we have a mix of postive and negative numbers. We can use the threshold of 0 and the comparison operator `>` to subset and obtain only the positive values from the temperature measurements listed below:"
   ]
  },
  {
   "cell_type": "code",
   "execution_count": 113,
   "id": "88b41e3a-5640-4652-9fca-da4bc05d1017",
   "metadata": {},
   "outputs": [
    {
     "data": {
      "text/plain": [
       "array([ 0.000e+00,  3.500e+00, -9.999e+03,  9.300e+00, -9.999e+03,\n",
       "       -9.999e+03,  2.700e+00])"
      ]
     },
     "execution_count": 113,
     "metadata": {},
     "output_type": "execute_result"
    }
   ],
   "source": [
    "temps = np.array([0, 3.5, -9999, 9.3, -9999, -9999, 2.7])\n",
    "temps"
   ]
  },
  {
   "cell_type": "code",
   "execution_count": 114,
   "id": "792edded-b5cf-4557-a1ad-b87b1145e7bb",
   "metadata": {},
   "outputs": [
    {
     "data": {
      "text/plain": [
       "array([3.5, 9.3, 2.7])"
      ]
     },
     "execution_count": 114,
     "metadata": {},
     "output_type": "execute_result"
    }
   ],
   "source": [
    "postive_temps = temps[temps > 0]\n",
    "postive_temps"
   ]
  },
  {
   "cell_type": "markdown",
   "id": "ff4813a3-3771-42ac-9b40-57b10159cb73",
   "metadata": {},
   "source": [
    "Sometimes we don't want to subset, but instead replace values. For example `-9999` is often used to represent a missing value, and working with such data numerically in Python, it might be better to encode it as a `nan`. To do this we use boolean indexing to subset values based on a condition and then use the `=` sign to assign a new value selectively to those which were subset:"
   ]
  },
  {
   "cell_type": "code",
   "execution_count": 115,
   "id": "49711d41-7940-47b5-9be0-d07dd365e34e",
   "metadata": {},
   "outputs": [],
   "source": [
    "temps_nans = temps\n",
    "temps_nans[temps_nans < 0] = np.nan"
   ]
  },
  {
   "cell_type": "code",
   "execution_count": 116,
   "id": "16d35c61-4ef0-4791-974a-2940a576d413",
   "metadata": {},
   "outputs": [
    {
     "data": {
      "text/plain": [
       "array([0. , 3.5, nan, 9.3, nan, nan, 2.7])"
      ]
     },
     "execution_count": 116,
     "metadata": {},
     "output_type": "execute_result"
    }
   ],
   "source": [
    "temps_nans"
   ]
  },
  {
   "cell_type": "markdown",
   "id": "dcd55b35-aef5-471b-a45c-e5188039df4f",
   "metadata": {},
   "source": [
    "## Broadcasting\n",
    "\n",
    "Numpy `ndarray`'s with different sizes cannot be directly used together in mathematical operations. When we try to do something like that Numpy intentionally returns an error. This Numpy feature helps minimize mathematical errors in code.\n",
    "\n",
    "For example, we get a `ValueError` when we try to add two 1D `ndarray`s of different lengths:"
   ]
  },
  {
   "cell_type": "code",
   "execution_count": 117,
   "id": "a9307dbe-25ed-46d8-b4b0-1e520e570df4",
   "metadata": {},
   "outputs": [
    {
     "ename": "ValueError",
     "evalue": "operands could not be broadcast together with shapes (3,) (6,) ",
     "output_type": "error",
     "traceback": [
      "\u001b[0;31m---------------------------------------------------------------------------\u001b[0m",
      "\u001b[0;31mValueError\u001b[0m                                Traceback (most recent call last)",
      "Cell \u001b[0;32mIn[117], line 3\u001b[0m\n\u001b[1;32m      1\u001b[0m fives \u001b[38;5;241m=\u001b[39m np\u001b[38;5;241m.\u001b[39marray([\u001b[38;5;241m5\u001b[39m, \u001b[38;5;241m5\u001b[39m, \u001b[38;5;241m5\u001b[39m])\n\u001b[1;32m      2\u001b[0m tens \u001b[38;5;241m=\u001b[39m np\u001b[38;5;241m.\u001b[39marray([\u001b[38;5;241m10\u001b[39m, \u001b[38;5;241m10\u001b[39m, \u001b[38;5;241m10\u001b[39m, \u001b[38;5;241m10\u001b[39m, \u001b[38;5;241m10\u001b[39m, \u001b[38;5;241m10\u001b[39m])\n\u001b[0;32m----> 3\u001b[0m \u001b[43mfives\u001b[49m\u001b[43m \u001b[49m\u001b[38;5;241;43m+\u001b[39;49m\u001b[43m \u001b[49m\u001b[43mtens\u001b[49m\n",
      "\u001b[0;31mValueError\u001b[0m: operands could not be broadcast together with shapes (3,) (6,) "
     ]
    }
   ],
   "source": [
    "fives = np.array([5, 5, 5])\n",
    "tens = np.array([10, 10, 10, 10, 10, 10])\n",
    "fives + tens"
   ]
  },
  {
   "cell_type": "markdown",
   "id": "8cbd8167-f64e-45ba-9957-cd94af1fe80b",
   "metadata": {},
   "source": [
    "However, you might then wonder why this works:"
   ]
  },
  {
   "cell_type": "code",
   "execution_count": 118,
   "id": "5132796c-a410-4f5a-8138-a942080b425b",
   "metadata": {},
   "outputs": [
    {
     "data": {
      "text/plain": [
       "array([15, 15, 15, 15, 15, 15])"
      ]
     },
     "execution_count": 118,
     "metadata": {},
     "output_type": "execute_result"
    }
   ],
   "source": [
    "five = np.array([5])\n",
    "tens = np.array([10, 10, 10, 10, 10, 10])\n",
    "five + tens"
   ]
  },
  {
   "cell_type": "markdown",
   "id": "22b3913f-79b5-4bb5-9e22-ed6839d65f3c",
   "metadata": {},
   "source": [
    "Or this:"
   ]
  },
  {
   "cell_type": "code",
   "execution_count": 119,
   "id": "3cfa400d-f195-4be8-8052-5eae1a45004b",
   "metadata": {},
   "outputs": [
    {
     "data": {
      "text/plain": [
       "array([[15, 15, 15],\n",
       "       [15, 15, 15]])"
      ]
     },
     "execution_count": 119,
     "metadata": {},
     "output_type": "execute_result"
    }
   ],
   "source": [
    "fives = np.array([5, 5, 5])\n",
    "two_tens = np.array([[10, 10, 10], \n",
    "                 [10, 10, 10]])\n",
    "fives + two_tens"
   ]
  },
  {
   "cell_type": "markdown",
   "id": "ea3eddaf-24e9-491c-b9e3-77e4e7e82b8a",
   "metadata": {},
   "source": [
    "In NumPy the smaller array is “broadcast” across the larger array so that they have compatible shapes. Why should you care about broadcasting?\n",
    "- Well, it's cleaner and faster than looping\n",
    "- It also affects the array shapes resulting from arithmetic operations\n",
    "\n",
    "The figure below shows more examples where this can happen.\n",
    "\n",
    "<img src=\"img/broadcasting.png\" width=600>\n",
    "\n",
    "Source: [Python Data Science Handbook](https://jakevdp.github.io/PythonDataScienceHandbook/) by Jake VanderPlas (2016)"
   ]
  },
  {
   "cell_type": "markdown",
   "id": "af84426a-ba24-489f-9a6a-92f42280908d",
   "metadata": {},
   "source": [
    "**Caution!!** Arrays can only be broadcast together if they are compatible in all dimensions. Dimensions are compatible if:\n",
    "    - **they are equal**, or\n",
    "    - **one of them is 1**.\n",
    "    \n",
    "NumPy checks for dimensional compatibility by starting from the right-most dimension. Consider these two examples from NumPy's documentation:\n",
    "  \n",
    "```\n",
    "Broadcastable:\n",
    "A      (3d array): 256 x 256 x 3\n",
    "B      (1d array):             3\n",
    "Result (3d array): 256 x 256 x 3\n",
    "\n",
    "A      (4d array): 8 x 1 x 6 x 1\n",
    "B      (3d array):     7 x 1 x 5\n",
    "Result (4d array): 8 x 7 x 6 x 5\n",
    "```\n",
    "\n",
    "We've provided some code below to test out array compatibility:"
   ]
  },
  {
   "cell_type": "code",
   "execution_count": 123,
   "id": "315eea76-0f0c-4897-8142-906b608c3352",
   "metadata": {},
   "outputs": [
    {
     "data": {
      "text/plain": [
       "array([[[[1., 1., 1., 1., 1., 1.]],\n",
       "\n",
       "        [[1., 1., 1., 1., 1., 1.]]],\n",
       "\n",
       "\n",
       "       [[[1., 1., 1., 1., 1., 1.]],\n",
       "\n",
       "        [[1., 1., 1., 1., 1., 1.]]],\n",
       "\n",
       "\n",
       "       [[[1., 1., 1., 1., 1., 1.]],\n",
       "\n",
       "        [[1., 1., 1., 1., 1., 1.]]]])"
      ]
     },
     "execution_count": 123,
     "metadata": {},
     "output_type": "execute_result"
    }
   ],
   "source": [
    "a = np.ones((3, 2, 1, 6))\n",
    "a"
   ]
  },
  {
   "cell_type": "code",
   "execution_count": 125,
   "id": "6150255c-21d2-4056-bde0-932a97868e03",
   "metadata": {},
   "outputs": [
    {
     "name": "stdout",
     "output_type": "stream",
     "text": [
      "The shape of a is:(3, 2, 1, 6)\n",
      "The shape of b is: (1, 2, 7)\n",
      "\n",
      "ERROR: arrays are NOT broadcast compatible!\n"
     ]
    }
   ],
   "source": [
    "b = np.ones((1, 2, 7))\n",
    "print(\"The shape of a is:\" + f\"{a.shape}\".rjust(10))\n",
    "print(\"The shape of b is:\" + f\"{b.shape}\".rjust(10))\n",
    "print(\"\")\n",
    "try:\n",
    "    print(f\"The shape of a + b is: {(a + b).shape}\")\n",
    "except:\n",
    "    print(f\"ERROR: arrays are NOT broadcast compatible!\")"
   ]
  },
  {
   "cell_type": "markdown",
   "id": "7ee78e04-748f-4235-bc34-254e7ef1522b",
   "metadata": {},
   "source": [
    "## Reshaping `ndarray`s\n",
    "\n",
    "Sometimes you will need to reshape `ndarray`s in your work. There are three useful functions for doing this that we will discuss, which we list to in the table below. There are many many maaaaannnny more array manipulation routines than just these, and you can find an exhaustive list in the Numpy docs: <https://numpy.org/doc/stable/reference/routines.array-manipulation.html>\n",
    "\n",
    "| Numpy Function | Description |\n",
    "|----------------|-------------|\n",
    "| [`numpy.transpose()`](https://numpy.org/doc/stable/reference/generated/numpy.transpose.html)  | Returns an array with axes transposed. |\n",
    "| [`numpy.reshape()`](https://numpy.org/doc/stable/reference/generated/numpy.reshape.html) | Gives a new shape to an array without changing its data. |\n",
    "| [`numpy.flatten()`](https://numpy.org/doc/stable/reference/generated/numpy.ndarray.flatten.html) | Return a copy of the array collapsed into one dimension. |\n"
   ]
  },
  {
   "cell_type": "markdown",
   "id": "1890980c-855e-42db-adb3-6336bc8b061a",
   "metadata": {},
   "source": [
    "### `numpy.transpose()`\n",
    "\n",
    "`numpy.transpose()` works to returns an array with axes transposed. This can be useful in math as well as in image manipulation (more on this in later courses). Below is an example:"
   ]
  },
  {
   "cell_type": "code",
   "execution_count": 126,
   "id": "950129a0-0196-4df1-892a-6a76414204ad",
   "metadata": {},
   "outputs": [
    {
     "data": {
      "text/plain": [
       "array([[1, 1, 1],\n",
       "       [0, 1, 0],\n",
       "       [0, 1, 0]])"
      ]
     },
     "execution_count": 126,
     "metadata": {},
     "output_type": "execute_result"
    }
   ],
   "source": [
    "capital_t = np.array([[1, 1, 1],\n",
    "                      [0, 1, 0],\n",
    "                      [0, 1, 0]])\n",
    "capital_t"
   ]
  },
  {
   "cell_type": "code",
   "execution_count": 127,
   "id": "b7c2309d-3430-473f-a5e8-bf668ed4146e",
   "metadata": {},
   "outputs": [
    {
     "data": {
      "text/plain": [
       "array([[1, 0, 0],\n",
       "       [1, 1, 1],\n",
       "       [1, 0, 0]])"
      ]
     },
     "execution_count": 127,
     "metadata": {},
     "output_type": "execute_result"
    }
   ],
   "source": [
    "capital_t_transpose = np.transpose(capital_t)\n",
    "capital_t_transpose"
   ]
  },
  {
   "cell_type": "markdown",
   "id": "1cd9ce14-1664-447a-a3ac-e77e814b9e83",
   "metadata": {},
   "source": [
    "### `numpy.reshape()`\n",
    "\n",
    "`numpy.reshape()` works to give a new shape to an array without changing its data. The function requires an `ndarray` and a shape (which must be compatible with the intial shape). \n",
    "\n",
    "The default order for reshaping is row-major (C-like index order). You can set `order='F'` to get a column-major (Fortran-like index order) reshaping. The following image illustrates this point:\n",
    "\n",
    "<img src=\"img/row_column_major.png\" width=200>\n",
    "\n",
    "*__Source:__ https://en.wikipedia.org/wiki/Row-_and_column-major_order*\n",
    "\n",
    "Let's take a tractable example, where we create a 4 x 3 array that is a sequence from 1-12 and then reshape it to a 6 x 2 array:"
   ]
  },
  {
   "cell_type": "code",
   "execution_count": 130,
   "id": "bbafac5f-60c9-4e8f-8cc0-2c21c654cc51",
   "metadata": {},
   "outputs": [
    {
     "data": {
      "text/plain": [
       "array([[ 1,  2,  3],\n",
       "       [ 4,  5,  6],\n",
       "       [ 7,  8,  9],\n",
       "       [10, 11, 12]])"
      ]
     },
     "execution_count": 130,
     "metadata": {},
     "output_type": "execute_result"
    }
   ],
   "source": [
    "seq = np.array([[1, 2, 3],\n",
    "       [4, 5, 6],\n",
    "       [7, 8, 9],\n",
    "       [10, 11, 12]])\n",
    "seq"
   ]
  },
  {
   "cell_type": "code",
   "execution_count": 131,
   "id": "a2d1ce37-3908-4d62-946b-94af920caddf",
   "metadata": {},
   "outputs": [
    {
     "data": {
      "text/plain": [
       "array([[ 1,  2],\n",
       "       [ 3,  4],\n",
       "       [ 5,  6],\n",
       "       [ 7,  8],\n",
       "       [ 9, 10],\n",
       "       [11, 12]])"
      ]
     },
     "execution_count": 131,
     "metadata": {},
     "output_type": "execute_result"
    }
   ],
   "source": [
    "row_major = np.reshape(seq, (6, 2))\n",
    "row_major"
   ]
  },
  {
   "cell_type": "markdown",
   "id": "e1104a6e-cb9d-4cfe-9980-4b3dea9f2f7c",
   "metadata": {},
   "source": [
    "Let's compare this to the column order:"
   ]
  },
  {
   "cell_type": "code",
   "execution_count": 132,
   "id": "74155929-da3f-4a2f-b821-e1f9964fcd9d",
   "metadata": {},
   "outputs": [
    {
     "data": {
      "text/plain": [
       "array([[ 1,  8],\n",
       "       [ 4, 11],\n",
       "       [ 7,  3],\n",
       "       [10,  6],\n",
       "       [ 2,  9],\n",
       "       [ 5, 12]])"
      ]
     },
     "execution_count": 132,
     "metadata": {},
     "output_type": "execute_result"
    }
   ],
   "source": [
    "column_major = np.reshape(seq, (6, 2), order='F')\n",
    "column_major"
   ]
  },
  {
   "cell_type": "markdown",
   "id": "39ec4932-865d-49bf-b5fd-ad61661fb62a",
   "metadata": {},
   "source": [
    "### `numpy.ndarray.flatten()`\n",
    "\n",
    "`numpy.ndarray.flatten()` works to return a **copy** of the array collapsed into one dimension. It is import to note that this is a method and so must be used by typing `.flatten()` following the name of the array you would like to apply it to (most of the others in this lecture have been functions). There is a related function [`numpy.ravel()`](https://numpy.org/doc/stable/reference/generated/numpy.ravel.html#numpy.ravel) which works similarly but only returns a copy is necessary. \n",
    "\n",
    "Below we show an example of using `numpy.ndarray.flatten()` on the two arrays we worked with above (`seq` and `capital_t`):"
   ]
  },
  {
   "cell_type": "code",
   "execution_count": 133,
   "id": "cc69e40f-cf06-48c0-b2da-82e53f1bbd4d",
   "metadata": {},
   "outputs": [
    {
     "data": {
      "text/plain": [
       "array([[ 1,  2,  3],\n",
       "       [ 4,  5,  6],\n",
       "       [ 7,  8,  9],\n",
       "       [10, 11, 12]])"
      ]
     },
     "execution_count": 133,
     "metadata": {},
     "output_type": "execute_result"
    }
   ],
   "source": [
    "seq"
   ]
  },
  {
   "cell_type": "code",
   "execution_count": 134,
   "id": "1b807e9d-a1fe-4ed1-8f78-c64baffc3ea6",
   "metadata": {},
   "outputs": [
    {
     "data": {
      "text/plain": [
       "array([ 1,  2,  3,  4,  5,  6,  7,  8,  9, 10, 11, 12])"
      ]
     },
     "execution_count": 134,
     "metadata": {},
     "output_type": "execute_result"
    }
   ],
   "source": [
    "seq.flatten()"
   ]
  },
  {
   "cell_type": "code",
   "execution_count": 135,
   "id": "163efc50-b23f-4ae1-b98a-8d281ad9abe3",
   "metadata": {},
   "outputs": [
    {
     "data": {
      "text/plain": [
       "array([[1, 1, 1],\n",
       "       [0, 1, 0],\n",
       "       [0, 1, 0]])"
      ]
     },
     "execution_count": 135,
     "metadata": {},
     "output_type": "execute_result"
    }
   ],
   "source": [
    "capital_t"
   ]
  },
  {
   "cell_type": "code",
   "execution_count": 136,
   "id": "08d690f5-4c24-43b2-846e-98595f0f4783",
   "metadata": {},
   "outputs": [
    {
     "data": {
      "text/plain": [
       "array([1, 1, 1, 0, 1, 0, 0, 1, 0])"
      ]
     },
     "execution_count": 136,
     "metadata": {},
     "output_type": "execute_result"
    }
   ],
   "source": [
    "capital_t.flatten()"
   ]
  },
  {
   "cell_type": "markdown",
   "id": "0af2f0b4-2a04-4e98-97ef-20e12a2b9a69",
   "metadata": {},
   "source": [
    "## Appendix (OPTIONAL)\n",
    "\n",
    "In this appendix, I'll show more about how NumPy manages and stores arrays in memory. **This is completely optional material**. I'll stress that a thorough understanding of the NumPy internals like how memory is handled and accessed is really more for developers working on super-optimized algorithms or for those interested in these kinds of things. The data scientist who does not care about these implementation details can just continue to visualize and use arrays as N-dimensional data structures—after all, the point of NumPy is to abstract away the technical implementation details so such users can focus on writing code and wrangling data.\n",
    "\n",
    "This appendix draws on excellent material presented in:\n",
    "- [The NumPy documentation](https://numpy.org/doc/stable/reference/internals.html)\n",
    "- [Guide to NumPy](https://web.mit.edu/dvp/Public/numpybook.pdf) by Travis Oliphant, 2006\n",
    "\n",
    "### Array data type\n",
    "\n",
    "All ndarrays are homogeneous, meaning that every element has the exact same data-type (e.g., integer, float, string, etc) which takes up the exact same amount of memory.\n",
    "\n",
    "For example, consider the following 1d-array which is full of 8-bit integers (`int8`):"
   ]
  },
  {
   "cell_type": "code",
   "execution_count": null,
   "id": "6dc141cb-8eef-4c8a-9da1-83389f8cadc9",
   "metadata": {},
   "outputs": [],
   "source": [
    "a = np.array([1, 2, 3, 4, 5, 6], dtype='int8')\n",
    "a"
   ]
  },
  {
   "cell_type": "markdown",
   "id": "2dda7ff2-6fc2-4292-b466-69f73321d92f",
   "metadata": {},
   "source": [
    "One byte is equal to eight bits ([refresh yourself on bits and bytes here](https://web.stanford.edu/class/cs101/bits-bytes.html)), so for this array of `int8` data-types, we would expect each element to take up one byte. We can confirm using:"
   ]
  },
  {
   "cell_type": "code",
   "execution_count": null,
   "id": "c5b47498-01be-415d-a5c3-11598afae942",
   "metadata": {},
   "outputs": [],
   "source": [
    "a.itemsize"
   ]
  },
  {
   "cell_type": "markdown",
   "id": "3f4cc73a-f82d-482a-a916-9184a97c063f",
   "metadata": {},
   "source": [
    "> An aside on the difference between e.g., `int8`, `int16`, `int32`. The number here refers to the number of bits used to represent each integer. For example, `int8` is an integer represented with one byte (one byte = 8 bits). Recall that bits (i.e., 0s and 1s) are the basic units of information used by computers. So the maximum *unsigned* number that can be held with an `int8` datatype is: $2^8=256$. If we wish to have negative numbers, we need to use one of those bits to represent the sign, and we are left with $2^7$ bits to make numbers with, and so the signed range of `int8` is -128 to +127. Likewise, `int16` has an unsigned range of 0 to 65,535 ($2^{16}$), or a signed range of -32,768 to +32,767, etc. It's interesting to watch what happens if you try to use a dtype that does not support the number you wish to store:"
   ]
  },
  {
   "cell_type": "code",
   "execution_count": null,
   "id": "b5cf5303-a194-4092-b93c-beca6812bec1",
   "metadata": {},
   "outputs": [],
   "source": [
    "np.array([126, 127, 128, 129, 130, 131, 132], dtype='int8')"
   ]
  },
  {
   "cell_type": "markdown",
   "id": "225ab4a6-7b67-4b13-b579-f92e8c33cb03",
   "metadata": {},
   "source": [
    ">Above, notice how when we exceeded the integer 127 (the max of the `int8` signed range), NumPy automatically represents this number by counting up from the minimum of the signed range (-128). Of course, this wouldn't be a problem if we used `int16`:"
   ]
  },
  {
   "cell_type": "code",
   "execution_count": null,
   "id": "aa6fec84-2e71-4bf0-8fc2-f01fc0fccdab",
   "metadata": {},
   "outputs": [],
   "source": [
    "np.array([126, 127, 128, 129, 130, 131, 132], dtype='int16')"
   ]
  },
  {
   "cell_type": "markdown",
   "id": "dffa35dd-d8b4-40ee-a66d-683839a79090",
   "metadata": {},
   "source": [
    "Finally I'll say that technically it is possible to have mixed data-types in an array (i.e., a heterogenous array), but in this case, the array still \"sees\" each element as the same thing: a reference to some Python object, and the dtype would be \"object\"."
   ]
  },
  {
   "cell_type": "code",
   "execution_count": null,
   "id": "3281ac47-171d-41ee-8780-60614939ecb5",
   "metadata": {},
   "outputs": [],
   "source": [
    "a = np.array([['a', 'b', 'c'], 1, 3.14159], dtype='object')\n",
    "a"
   ]
  },
  {
   "cell_type": "markdown",
   "id": "cc90522b-565d-46a0-ab23-f80b416e7411",
   "metadata": {},
   "source": [
    "Above is an ndarrays of objects, each one being a reference to some other Python object with its own data-type:"
   ]
  },
  {
   "cell_type": "code",
   "execution_count": null,
   "id": "99a58fe0-9cf6-4037-b1f6-9ede94c6cb6c",
   "metadata": {},
   "outputs": [],
   "source": [
    "list(map(type, a))"
   ]
  },
  {
   "cell_type": "markdown",
   "id": "cdca67e8-0a78-493a-8464-ff5cad4c03fc",
   "metadata": {},
   "source": [
    "Using arrays like this negates much of the optimized functionality that comes with them, and I can't recall a time when I've used a \"heterogenous array\". For mixed data-types, I would typically use other structures like lists or dictionaries.\n",
    "\n",
    "### Memory layout & strides\n",
    "\n",
    "Now that we've covered the basic concepts of ndarrays, we can talk more about how arrays are represented in memory. An ndarray is stored as a single “chunk” of memory starting at some location. It's helpful to think of it as a one-dimensional sequence in memory but with \"fancy indexing\" that can help map an N-dimensional index (for ndarrays) into that one-dimensional representation.\n",
    "\n",
    "Consider \"**Panel a**\" in the below conceptual figure from the paper [Array programming with NumPy](https://www.nature.com/articles/s41586-020-2649-2), showing how a 2d-array of data-type `int64` (8 bytes) is represented in memory as a single chunk:\n",
    "\n",
    "![](img/numpy_paper.png)\n",
    "\n",
    "That word **strides** (stride means \"one long step\") is the number of bytes you need to step in each dimension when traversing the array. As you can see in the example, the **stride** information is particularly important for mapping the chunk of memory back to a n-dimensional array structure. So in the above case, the strides is `(24, 8)` meaning 24 bytes (three 8-byte `int64` elements) and 8 bytes (one 8-byte `int64` element), meaning that every 3 elements we increment our first dimension (i.e., move to the next row) and every 1 element we increment our second dimension (i.e., move to the next column).\n",
    "\n",
    "Let's go through another example:"
   ]
  },
  {
   "cell_type": "code",
   "execution_count": null,
   "id": "d22a574c-e4b1-4345-bcd6-956bfe29cfde",
   "metadata": {},
   "outputs": [],
   "source": [
    "a = np.array([[1, 2], [3, 4], [5, 6]], dtype='int16')\n",
    "a"
   ]
  },
  {
   "cell_type": "markdown",
   "id": "c9a1d266-f6c7-488b-bb00-3c8b1b90dc0c",
   "metadata": {},
   "source": [
    "Here we have an ndarray of shape `(3, 2)` and with a dtype of `int16` (2 bytes per element in the array). We would expect the stride to be `(4, 2)` (every 4 bytes, which is 2 elements here for `int16`, we begin a new row, and every 2 bytes, which is 1 element here, we begin a new column). We can confirm with:"
   ]
  },
  {
   "cell_type": "code",
   "execution_count": null,
   "id": "b66af150-0ed6-4539-9caf-35301569391f",
   "metadata": {},
   "outputs": [],
   "source": [
    "a.strides"
   ]
  },
  {
   "cell_type": "markdown",
   "id": "113d503b-ca54-47ff-afde-08cac0489ab6",
   "metadata": {},
   "source": [
    "Neat! We could actually change how our ndarray maps from the memory block back to the ndarray by changing the stride information:"
   ]
  },
  {
   "cell_type": "code",
   "execution_count": null,
   "id": "c05970ca-6935-4a89-b25d-e8005e3c319b",
   "metadata": {},
   "outputs": [],
   "source": [
    "a.strides = (2, 4)\n",
    "a"
   ]
  },
  {
   "cell_type": "markdown",
   "id": "e6b2d9f3-6bfb-44b9-94c1-01099d5ab6a8",
   "metadata": {},
   "source": [
    "To further drive the point home, what do you expect the strides to be of a 1D array? In that case, there is only one dimension to traverse, so we'd expect the strides to just be the number of bytes of 1 element, `(2,)` (i.e., every 2 bytes, which is one `int16` element). Let's confirm:"
   ]
  },
  {
   "cell_type": "code",
   "execution_count": null,
   "id": "d9421a09-7f9f-46ce-a48a-943ff710c3e4",
   "metadata": {},
   "outputs": [],
   "source": [
    "a = a.flatten()\n",
    "a"
   ]
  },
  {
   "cell_type": "code",
   "execution_count": null,
   "id": "f56c94eb-16b9-4a99-adf8-101394dda001",
   "metadata": {},
   "outputs": [],
   "source": [
    "a.strides"
   ]
  },
  {
   "cell_type": "markdown",
   "id": "2c943f0b-7fd1-4ea1-89e1-d0b9495619ab",
   "metadata": {},
   "source": [
    "Finally, let's look at the strides of the following 3D array of size `(3,3,2)` but with the data-type `int8` (so that 1 byte = 1 element which makes interpreting strides a little easier). Visualizing 3D arrays starts to get a bit tricker, but I think of them as matrices stacked together like slices in a loaf of bread, or multiple chessboards stacked on top of each other."
   ]
  },
  {
   "cell_type": "code",
   "execution_count": null,
   "id": "79ce34c2-aba5-47c5-a0c8-9bd820c8bcda",
   "metadata": {},
   "outputs": [],
   "source": [
    "a = np.arange(18, dtype='int8').reshape(3, 3, 2)\n",
    "a"
   ]
  },
  {
   "cell_type": "code",
   "execution_count": null,
   "id": "061cec37-a329-4466-a876-d4aa42109142",
   "metadata": {},
   "outputs": [],
   "source": [
    "a.strides"
   ]
  },
  {
   "cell_type": "markdown",
   "id": "d97ece3c-2b99-41bf-945e-ab17c2ed6153",
   "metadata": {},
   "source": [
    "Now things are getting a little more confusing! The above is saying that every 6 elements we increment a \"depth dimension\", every 2 elements we increment a \"row dimension\" and every 1 element we increment a \"column dimension\". Using our chessboard analogy, every 6 elements in memory we move to the next chessboard in the stack, every 2 elements we move down one row of a chessboard and every element we move across 1 column of our chessboard. I'll talk more about this 3D example in the next section.\n",
    "\n",
    "### Why do we care?\n",
    "\n",
    "#### Reshaping\n",
    "\n",
    "One sometimes-confusing topic in NumPy is understanding how ndarrays are reshaped. But now that you understand how ndarrays are represented in memory, you can better understand how reshaping works in NumPy too! Basically, you can think of reshaping as viewing that \"chunk\" of memory in a different way (reading it into a different shape but preserving the ordering of the data in memory). Consider the same 2D array we just saw earlier, but with the data-type `int8` (so that 1 byte = 1 element which makes interpreting strides a little easier):"
   ]
  },
  {
   "cell_type": "code",
   "execution_count": null,
   "id": "f6dd1a09-479c-41f7-85a5-57f6d0adb17a",
   "metadata": {},
   "outputs": [],
   "source": [
    "a = np.array([[1, 2], [3, 4], [5, 6]], dtype='int8')\n",
    "a"
   ]
  },
  {
   "cell_type": "code",
   "execution_count": null,
   "id": "6b0bcef9-b4b4-40d4-a8cf-87d5f879281c",
   "metadata": {},
   "outputs": [],
   "source": [
    "a.strides"
   ]
  },
  {
   "cell_type": "markdown",
   "id": "123845c5-0348-482a-b062-cac1f1858ba6",
   "metadata": {},
   "source": [
    "When we reshape the array, think of it as flattening the array out:"
   ]
  },
  {
   "cell_type": "code",
   "execution_count": null,
   "id": "c23f0a2e-e2cf-45ae-9195-39943bc746f7",
   "metadata": {},
   "outputs": [],
   "source": [
    "a.flatten()"
   ]
  },
  {
   "cell_type": "markdown",
   "id": "f17fd306-2e4e-4757-81d7-c1c926f4ed6a",
   "metadata": {},
   "source": [
    "And then reading that data back into a different shape with different strides. Below I'll change the shape to be `(2, 3)`, which means that we'll need strides of `(3, 1)` (every 3 elements, increment a row, every 1 element, increment a column in the array)."
   ]
  },
  {
   "cell_type": "code",
   "execution_count": null,
   "id": "571a38e3-0b2b-4206-9f10-b8767574b658",
   "metadata": {},
   "outputs": [],
   "source": [
    "a.shape = (2, 3)\n",
    "a.strides = (3, 1)\n",
    "a"
   ]
  },
  {
   "cell_type": "markdown",
   "id": "7dd18c4d-cb82-44e3-bd2f-44b8a6191fc7",
   "metadata": {},
   "source": [
    "> Above, I didn't need to do `a.strides`. When I changed the shape to `(2, 3)`, NumPy already took care of changing the strides for me, but I'm showing it for demonstration purposes.\n",
    "\n",
    "The same logic applies to reshaping ndarrays of more than 2 dimensions. For example:"
   ]
  },
  {
   "cell_type": "code",
   "execution_count": null,
   "id": "05672349-ab0d-4d2b-bf6d-dec66e7668c3",
   "metadata": {},
   "outputs": [],
   "source": [
    "a = np.arange(18, dtype='int8')\n",
    "a"
   ]
  },
  {
   "cell_type": "code",
   "execution_count": null,
   "id": "cfc1b89e-d0b5-4123-9513-7e89545988ca",
   "metadata": {},
   "outputs": [],
   "source": [
    "a = a.reshape(3, 3, 2)\n",
    "a"
   ]
  },
  {
   "cell_type": "code",
   "execution_count": null,
   "id": "c5f2e929-d577-4a9e-922b-2e11b9c9e4c9",
   "metadata": {},
   "outputs": [],
   "source": [
    "a.strides"
   ]
  },
  {
   "cell_type": "markdown",
   "id": "eb8e732a-d961-45f6-93ca-3679589d5028",
   "metadata": {},
   "source": [
    "In the above example, we have three 2D matrix stacked together (I'll call them \"slices\"). We use the first 6 elements of our flattened array to fill in the first \"slice\", and within that 2D slice, those elements are arranged in rows and columns dictated by the strides (i.e., every 2 elements increment a row and every 1 element increment a column). Once we've used the first 6 elements, we traverse a dimensional \"slice\" and use the next 6 element to fill that 2D slice. We then repeat that one more time for the last \"slice\".\n",
    "\n",
    "You might be wondering two things at this point:\n",
    "\n",
    "1. Why is our array above composed of 3 slices of 3x2 matrices and not 2 slices of 3x3 matrices? \n",
    "2. How did NumPy decide to fill each 2D matrix slice with elements first, why not fill along the \"depth\" dimension first?\n",
    "\n",
    "These questions are related and actually much deeper than you might expect. They are explained in detail in the [NumPy documentation](https://numpy.org/doc/stable/reference/internals.html#multidimensional-array-indexing-order-issues) and in section *2.3 Memory Layout of ndarray* in the book [Guide to NumPy](https://web.mit.edu/dvp/Public/numpybook.pdf) by Travis Oliphant, but they are to do with the fundamental implementation of how NumPy reads data from memory.\n",
    "\n",
    "Briefly, NumPy uses \"row-major\" indexing when reading data from memory which basically means that \"grouping\" starts from the left most index. So for a 2D array, the order is `(row, column)`, for a 3D array the order is `(depth, row, column)`, for a 4D array it is `(4th dimension, depth, row, column)`, etc. The way I think about this is that the ndarray is a container, in the 3D case I think of a cube made up of stacked matrices. I can enter this for container (\"dimension\") and view a matrix. The next container is a \"row\" of values which comprises one smaller container for each \"column\". There are two overarching styles that dictate the way data is read in from memory, they are the \"C style\" and \"Fortran style\". NumPy uses the \"C style\" by default which is what we saw above:"
   ]
  },
  {
   "cell_type": "code",
   "execution_count": null,
   "id": "b20fa678-c99a-4527-b468-15c452669995",
   "metadata": {},
   "outputs": [],
   "source": [
    "a = np.arange(18, dtype='int8').reshape(3, 3, 2, order=\"C\")\n",
    "a"
   ]
  },
  {
   "cell_type": "markdown",
   "id": "034f4bc4-7ac9-4f3d-b897-f622f16c1a07",
   "metadata": {},
   "source": [
    "But there is also the \"Fortran style\", which you can see in the example below and can specify using the order argument, which appears to fill the \"depth\" dimension first:"
   ]
  },
  {
   "cell_type": "code",
   "execution_count": null,
   "id": "454b9424-dc86-45b0-99a5-0159d3ec0925",
   "metadata": {},
   "outputs": [],
   "source": [
    "a = np.arange(18, dtype='int8').reshape(3, 3, 2, order=\"F\")\n",
    "a"
   ]
  },
  {
   "cell_type": "markdown",
   "id": "d440338b-0f58-4fc2-94f5-b2ed9f4bc316",
   "metadata": {},
   "source": [
    "These implementation details are not really necessary to know unless your developing algorithms or packages like NumPy that are directly interfacing with a computer's memory.\n",
    "\n",
    "#### Super-speed code\n",
    "\n",
    "Knowing about how ndarrays are stored in memory and what strides are can help us leverage some pretty nifty tricks to speed up our NumPy code. Consider performing convolution on a 2D image by passinga filter window of \"weights\" over the image pixels:\n",
    "\n",
    "![](img/convolution.gif)\n",
    "\n",
    "[(source: Wikipedia)](https://de.wikipedia.org/wiki/Convolutional_Neural_Network)\n",
    "\n",
    "There are plenty of ways to solve this problem. The goal is really to apply our filter to windowed segments of our array. One way we can \"view\" our array as windows is using strides and the `numpy.lib.stride_tricks` module. Here's a 400 x 400 pixel image of the UBC sign:"
   ]
  },
  {
   "cell_type": "code",
   "execution_count": null,
   "id": "da33cfca-02a6-474b-b0c3-b0692368c3c7",
   "metadata": {},
   "outputs": [],
   "source": [
    "import time\n",
    "import matplotlib.pyplot as plt\n",
    "from numpy.lib.stride_tricks import as_strided\n",
    "%config InlineBackend.figure_formats = ['svg']\n",
    "plt.rcParams.update({'font.size': 14, 'figure.figsize': (6, 4), 'axes.grid': False})"
   ]
  },
  {
   "cell_type": "code",
   "execution_count": null,
   "id": "99f5cc10-e619-45dd-b83c-a1a556effef4",
   "metadata": {},
   "outputs": [],
   "source": [
    "image = plt.imread('img/ubc.jpeg')[:, :, 0]\n",
    "plt.imshow(image, cmap='gray')"
   ]
  },
  {
   "cell_type": "markdown",
   "id": "4d51a9e1-915b-401e-9687-f655af3250ed",
   "metadata": {},
   "source": [
    "Before applying the filter, let's take a look at the datatype and the number of strides for the `image` (which is saved as a NumPy array):"
   ]
  },
  {
   "cell_type": "code",
   "execution_count": null,
   "id": "da43cf7e-d3ba-4c03-bfde-29220adaafbf",
   "metadata": {},
   "outputs": [],
   "source": [
    "image.dtype"
   ]
  },
  {
   "cell_type": "code",
   "execution_count": null,
   "id": "320a4632-057b-4275-b788-841b38844988",
   "metadata": {},
   "outputs": [],
   "source": [
    "image.strides"
   ]
  },
  {
   "cell_type": "markdown",
   "id": "9854565a-5745-4c62-b939-021b752481e9",
   "metadata": {},
   "source": [
    "The unsigned integer datatype `unint8` should take up 1 byte per element. So you might probably expect to see `(400, 1)` for strides. What's happened? Why `(1200, 3)`?\n",
    "\n",
    "The reason is when the image file is read using `plt.imread('img/ubc.jpeg')` it is originally strided as `(1200, 3, 1)` before slicing:"
   ]
  },
  {
   "cell_type": "code",
   "execution_count": null,
   "id": "acd3c4c1-1601-4ce4-8434-26fbbbaff944",
   "metadata": {},
   "outputs": [],
   "source": [
    "plt.imread('img/ubc.jpeg').strides"
   ]
  },
  {
   "cell_type": "markdown",
   "id": "2a3fe380-07fb-4ca2-ba8d-d61dfe700068",
   "metadata": {},
   "source": [
    "This is because the image is 400x400, but since it is an RGB image, the array needs to store 400x400 values for each of the RGB colors, making the shape of the array `(400, 400, 3)`.\n",
    "\n",
    "When we slice the array to pick one of the channels though (using `[:, :, 0]`), the original array in the memory does not change. This is why NumPy still has to traverse 1200 elements (instead of 400) to reach the next row and 3 elements to get to the next column. That's why we get `(1200, 3)` when we run `image.strides`!\n",
    "\n",
    "The image below from [here](https://eli.thegreenplace.net/2015/memory-layout-of-multi-dimensional-arrays) nicely demonstrates how three dimensional arrays are stored in the memory in a **row-major** manner:\n",
    "\n",
    "![](img/row-major-3D.png)\n",
    "\n",
    "Phew! Back to our filtering task:\n",
    "\n",
    "This is the filter I want to apply to the image:"
   ]
  },
  {
   "cell_type": "code",
   "execution_count": null,
   "id": "b344e0f9-6b67-424e-8358-6501f2b8d8bb",
   "metadata": {},
   "outputs": [],
   "source": [
    "f = np.array([[-2, -1, 0],\n",
    "              [-1, 1, 1],\n",
    "              [0, 1, 2]])"
   ]
  },
  {
   "cell_type": "markdown",
   "id": "9d985c86-d40e-43c9-83f5-a866616e0382",
   "metadata": {},
   "source": [
    "Now I'll use strides to view the image as 3 x 3 windows, so I can just apply the filter to every single window. Basically the goal here is to view our array as a series of 3x3 windows. So think of this as, for each pixel in our image, we want to view a 3x3 window around that pixel. We have 400x400 pixels, and if we have a 3x3 window for each pixel, we will have a 4D view of our array with shape `(400, 400, 3, 3)`. In this case, we can't have a 3x3 window at the edges of the image, so I'm just going to cut those off with our final shape being `(398, 398, 3, 3)` (but you could just pad the image with 0's to apply the filter at the edges if you wanted to). Once we have our 4D view, I can just apply the filter to each of those 3x3 windows and sum the numbers in each window. No `for` loops or complex functions needed!"
   ]
  },
  {
   "cell_type": "code",
   "execution_count": null,
   "id": "ff897cb7-8a9c-4212-85bc-801bb2f3ee73",
   "metadata": {},
   "outputs": [],
   "source": [
    "start = time.time()    # start time\n",
    "size = f.shape[0]      # filter size\n",
    "win_img = as_strided(  # Now use as_strided to get a windowed view of the array\n",
    "    image,             # image to view as windows\n",
    "    shape=(image.shape[0] - size + 1, image.shape[1] - size + 1, size, size),  # the shape of the new view (398, 398, 3, 3), the edge pixels are cut-off, but we could always pad if we wanted to here\n",
    "    strides=image.strides * 2,  # this just duplicates the strides as we are now working in 4 dimensions, strides will be (1200, 3, 1200, 3)\n",
    ")\n",
    "filtered_image = (win_img * f).sum(axis=(2, 3))  # apply filter to each window (the 3rd and 4th dimensions of win_img)\n",
    "plt.imshow(filtered_image, cmap=\"gray\")\n",
    "print(f\"Wall time taken for convolution: {time.time()-start:.4f}s\")"
   ]
  },
  {
   "cell_type": "markdown",
   "id": "a730b51b-8e77-4e86-916a-abe163ec3e26",
   "metadata": {},
   "source": [
    "Even though `as_strided()` creates a new array, it uses the same data in memory as the original array. **The only thing that changes is the metadata, which changes how the array is viewed.**\n",
    "\n",
    "If that example was a little too much for you right now, Jessica Yung provides a nice simple example of using arrays and strides in the blog post [What makes Numpy Arrays Fast: Memory and Strides](https://www.jessicayung.com/numpy-arrays-memory-and-strides/)."
   ]
  }
 ],
 "metadata": {
  "kernelspec": {
   "display_name": "Python 3 (ipykernel)",
   "language": "python",
   "name": "python3"
  },
  "language_info": {
   "codemirror_mode": {
    "name": "ipython",
    "version": 3
   },
   "file_extension": ".py",
   "mimetype": "text/x-python",
   "name": "python",
   "nbconvert_exporter": "python",
   "pygments_lexer": "ipython3",
   "version": "3.11.9"
  }
 },
 "nbformat": 4,
 "nbformat_minor": 5
}
