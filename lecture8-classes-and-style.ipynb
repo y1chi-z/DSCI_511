{
 "cells": [
  {
   "cell_type": "markdown",
   "metadata": {
    "slideshow": {
     "slide_type": "slide"
    }
   },
   "source": [
    "<img src=\"img/dsci511_header.png\" width=\"600\">"
   ]
  },
  {
   "cell_type": "markdown",
   "metadata": {},
   "source": [
    "# Lecture 8: Classes and Style"
   ]
  },
  {
   "cell_type": "markdown",
   "metadata": {},
   "source": [
    "## Lecture learning objectives"
   ]
  },
  {
   "cell_type": "markdown",
   "metadata": {},
   "source": [
    "- Describe the difference between a `class` and a `function` in Python\n",
    "- Be able to create a `class`\n",
    "- Differentiate between `instance attributes` and `class attributes`\n",
    "- Differentiate between `methods`, `class methods` and `static methods`\n",
    "- Understand and implement `subclassing`/`inheritance` with Python classes\n",
    "- Describe why code style is important\n",
    "- Differentiate between the role of a linter like flake8 and an autoformatter like black\n",
    "- Implement linting and formatting from the command line or within Jupyter or another IDE"
   ]
  },
  {
   "cell_type": "code",
   "execution_count": 170,
   "metadata": {},
   "outputs": [],
   "source": [
    "import pandas as pd\n",
    "import numpy as np"
   ]
  },
  {
   "cell_type": "markdown",
   "metadata": {},
   "source": [
    "## Python Classes\n",
    "\n",
    "We have encountered many kinds of objects in our first few weeks learning Python and Data Science. Some examples include the `ndarray` from numpy and the `Series` and `DataFrame` from pandas. Each of these \"types of object\" came with their own set of attributes and methods. "
   ]
  },
  {
   "cell_type": "code",
   "execution_count": 171,
   "metadata": {},
   "outputs": [],
   "source": [
    "ser1 = pd.Series(['Vancouver', 'Edmonton', 'Toronto'])\n",
    "\n",
    "# add a dot and hit TAB in jupyter-lab to see methods for this Series"
   ]
  },
  {
   "cell_type": "code",
   "execution_count": 172,
   "metadata": {},
   "outputs": [],
   "source": [
    "# ser1."
   ]
  },
  {
   "cell_type": "code",
   "execution_count": 173,
   "metadata": {},
   "outputs": [],
   "source": [
    "ser2 = pd.Series([34.2, 30.3, 25.5])\n",
    "\n",
    "#ser2."
   ]
  },
  {
   "cell_type": "markdown",
   "metadata": {},
   "source": [
    "We see the same attributes and methods for `ser1` and `ser2`, because they are both examples of the same \"kind\" of object in Python."
   ]
  },
  {
   "cell_type": "code",
   "execution_count": 174,
   "metadata": {},
   "outputs": [],
   "source": [
    "ar1 = np.array([34.2, 30.3, 25.5])\n",
    "\n",
    "# ar1."
   ]
  },
  {
   "cell_type": "markdown",
   "metadata": {},
   "source": [
    "However, we notice that `ar1` has a different set of methods and attributes since it is an `ndarray` and not a pandas `Series`.\n",
    "\n",
    "In Python, we say `ar1` is an **instance** of the `numpy.ndarray` **class**. Hence:"
   ]
  },
  {
   "cell_type": "code",
   "execution_count": null,
   "metadata": {},
   "outputs": [],
   "source": [
    "isinstance(ar1, np.ndarray)"
   ]
  },
  {
   "cell_type": "code",
   "execution_count": null,
   "metadata": {},
   "outputs": [],
   "source": [
    "isinstance(ser1, pd.Series)"
   ]
  },
  {
   "cell_type": "markdown",
   "metadata": {},
   "source": [
    "### Terminology\n",
    "\n",
    "* **Class**: A class is a blueprint or template for creating objects. It defines the attributes and methods that an object will have, but does not create any objects itself. (e.g. `list`)\n",
    "\n",
    "<img src=\"https://cookiecuttershop.com.au/cdn/shop/products/ginger_2000x.jpg?v=1585980599\" width=\"150\">\n",
    "\n",
    "* **Object**: An object is an instance of a class. It has its own state (attributes) and behavior (methods), which are defined by the class. (e.g., `numbers = [1, 2, 3]`)\n",
    "\n",
    "<img src=\"https://www.babysavers.com/wp-content/uploads/2022/11/gingerbread-cookie-recipe.jpg\" width=\"150\">\n",
    "\n",
    "* **Method**: A method is a function that is associated with an object. It defines the behavior of the object, and can access and modify the object's attributes. (e.g. `numbers.append(4)`)\n",
    "\n",
    "<img src=\"https://www.gnom-gnom.com/wp-content/uploads/2017/12/Gluten-Free-Keto-Gingerbread-Cookies-by-Gnom-Gnom-1-1.jpg\" width=\"150\">\n",
    "\n",
    "* **Attribute**: An attribute is a variable that holds data associated with an object. It defines the state of the object, and can be accessed and modified by the object's methods. (e.g., the values 1, 2, 3 are called the attributes of object `numbers`)\n",
    "\n",
    "<img src=\"https://www.recipetineats.com/wp-content/uploads/2020/11/Gingerbread-men-ingredients.jpg?w=900\" width=\"250\">"
   ]
  },
  {
   "cell_type": "markdown",
   "metadata": {},
   "source": [
    "All along in DSCI 511, we have been organizing our code around objects whose attributes describe their current state and whose methods modify or update this state. This programming style is called \"Object-oriented Programming\" (OOP for short) and it is the manner in which most Python programs are written.\n",
    "\n",
    "Python also allows us to define our own Classes to suit our needs. Today, we will learn how to create a Python Class, and how to instantiate an *object* that belongs to that Class (i.e. is created using that specific Class's blueprint)."
   ]
  },
  {
   "cell_type": "markdown",
   "metadata": {
    "slideshow": {
     "slide_type": "slide"
    }
   },
   "source": [
    "### Why object-oriented programming is relevant in data science?\n",
    "\n",
    "As we mentioned above, OOP is the most common paradigm for writing Python programs. In particular, many Python packages used in Data Science are written in an object-oriented manner, and you will need to understand the language of classes and objects in Python to use them.\n",
    "\n",
    "For example, let's say you are interested in building a deep learning model (e.g. a Convolution Neural Networks) to classify images using the PyTorch library. You start researching for a tutorial on how to build a CNN in PyTorch and you came across the following code:"
   ]
  },
  {
   "cell_type": "markdown",
   "metadata": {},
   "source": [
    "```python\n",
    "class Net(nn.Module):\n",
    "    def __init__(self):\n",
    "      super(Net, self).__init__()\n",
    "\n",
    "      self.conv1 = nn.Conv2d(1, 32, 3, 1)\n",
    "      self.conv2 = nn.Conv2d(32, 64, 3, 1)\n",
    "\n",
    "      self.dropout1 = nn.Dropout2d(0.25)\n",
    "      self.dropout2 = nn.Dropout2d(0.5)\n",
    "\n",
    "      self.fc1 = nn.Linear(9216, 128)\n",
    "      self.fc2 = nn.Linear(128, 10)\n",
    "\n",
    "my_nn = Net()\n",
    "```"
   ]
  },
  {
   "cell_type": "markdown",
   "metadata": {
    "slideshow": {
     "slide_type": "fragment"
    }
   },
   "source": [
    "If you haven't learned about OOP before, this code might not make much sense to you. You might ask:\n",
    "- What is `class Net(nn.Module)`?\n",
    "- What is `__init__`?\n",
    "- What is `super`?\n",
    "- What is `self` and why did it appear multiple times throughout the code?\n",
    "\n",
    "Without a proper understanding of OOP, you might struggle to define your own neural network architecture in Pytorch."
   ]
  },
  {
   "cell_type": "markdown",
   "metadata": {
    "slideshow": {
     "slide_type": "slide"
    }
   },
   "source": [
    "Many machine learning models that you come across are also written in OOP, for example: take a look at the [source code of `RandomForestClassifer`](https://github.com/scikit-learn/scikit-learn/blob/7f9bad99d/sklearn/ensemble/_forest.py#L1090) in scikit-learn.\n",
    "\n",
    "```python\n",
    "from sklearn.ensemble import RandomForestClassifier\n",
    "from sklearn.datasets import make_classification\n",
    "X, y = make_classification(n_samples=1000, n_features=4,\n",
    "                           \n",
    "clf = RandomForestClassifier(max_depth=2, random_state=0)\n",
    "clf.fit(X, y)\n",
    "clf.predict([[0, 0, 0, 0]])\n",
    "```"
   ]
  },
  {
   "cell_type": "markdown",
   "metadata": {
    "slideshow": {
     "slide_type": "slide"
    }
   },
   "source": [
    "### Why create your own types/classes?\n",
    "\n",
    "From the [Python docs](https://docs.python.org/3/tutorial/classes.html): \"_Classes provide a means of bundling data and functionality together_\". In particular, they help us bundle this functionality in a way that's easy to use, reuse and build upon. Let's get started with an example!"
   ]
  },
  {
   "cell_type": "markdown",
   "metadata": {
    "slideshow": {
     "slide_type": "fragment"
    }
   },
   "source": [
    "Say we want to start storing information about MDS students and instructors. We'll start with first name, last name, and initials in a dictionary:"
   ]
  },
  {
   "cell_type": "code",
   "execution_count": 177,
   "metadata": {},
   "outputs": [],
   "source": [
    "mds_1 = {'first': 'Prajeet',\n",
    "         'last': 'Bajpai',\n",
    "         'initials': 'PB'}"
   ]
  },
  {
   "cell_type": "markdown",
   "metadata": {
    "slideshow": {
     "slide_type": "fragment"
    }
   },
   "source": [
    "We also want to be able to extract a member's full name from their first and last name, but don't want to have to write out this information again. A function could be good for this:"
   ]
  },
  {
   "cell_type": "code",
   "execution_count": 178,
   "metadata": {},
   "outputs": [],
   "source": [
    "def full_name(first, last):\n",
    "    \"\"\"Concatenate first and last with a space.\"\"\"\n",
    "    return f\"{first} {last}\""
   ]
  },
  {
   "cell_type": "code",
   "execution_count": null,
   "metadata": {},
   "outputs": [],
   "source": [
    "full_name(mds_1['first'], mds_1['last'])"
   ]
  },
  {
   "cell_type": "markdown",
   "metadata": {
    "slideshow": {
     "slide_type": "slide"
    }
   },
   "source": [
    "We can just copy-paste the same code to create new members:"
   ]
  },
  {
   "cell_type": "code",
   "execution_count": null,
   "metadata": {},
   "outputs": [],
   "source": [
    "mds_2 = {'first': 'Tiffany',\n",
    "         'last': 'Timbers',\n",
    "         'initials': 'TT'}\n",
    "\n",
    "full_name(mds_2['first'], mds_2['last'])"
   ]
  },
  {
   "cell_type": "markdown",
   "metadata": {
    "slideshow": {
     "slide_type": "slide"
    }
   },
   "source": [
    "### Creating a class\n",
    "\n",
    "That was pretty inefficient. You can imagine that the more objects we want and the more complicated the objects get (more data, more functions) the worse this problem becomes! This is a good use case for defining a `Class`.\n"
   ]
  },
  {
   "cell_type": "markdown",
   "metadata": {
    "slideshow": {
     "slide_type": "slide"
    }
   },
   "source": [
    "#### Define a class\n",
    "\n",
    "To define a class, you use the `class` keyword followed by the name of the class and a colon (`:`). For example "
   ]
  },
  {
   "cell_type": "code",
   "execution_count": 181,
   "metadata": {
    "slideshow": {
     "slide_type": "-"
    }
   },
   "outputs": [],
   "source": [
    "class MdsMember:\n",
    "    pass"
   ]
  },
  {
   "cell_type": "markdown",
   "metadata": {},
   "source": [
    "In this example, we define a class called `MdsMember` that doesn't have any attributes or methods. The `pass` keyword is used to indicate that the class is empty"
   ]
  },
  {
   "cell_type": "markdown",
   "metadata": {
    "slideshow": {
     "slide_type": "slide"
    }
   },
   "source": [
    "#### Creating an Object"
   ]
  },
  {
   "cell_type": "markdown",
   "metadata": {},
   "source": [
    "To create an object from a class, you call the class like a function, passing any required arguments. For example"
   ]
  },
  {
   "cell_type": "code",
   "execution_count": null,
   "metadata": {
    "slideshow": {
     "slide_type": "-"
    }
   },
   "outputs": [],
   "source": [
    "mds_1 = MdsMember()\n",
    "print(type(mds_1))"
   ]
  },
  {
   "cell_type": "markdown",
   "metadata": {
    "slideshow": {
     "slide_type": "slide"
    }
   },
   "source": [
    "#### Adding attributes"
   ]
  },
  {
   "cell_type": "markdown",
   "metadata": {
    "slideshow": {
     "slide_type": "fragment"
    }
   },
   "source": [
    "We can use the `__init__` method to initialize the attributes with values passed to the arguments, which will be run every time we create a new instance, for example, to add data to the instance. This is called a **class constructor** - it is a special method used to initialize objects of a class.\n",
    "\n",
    "Let's add an `__init__` method to our `MdsMember` class.\n",
    "\n",
    "**Note:** `self` refers to the instance of a class and should always be passed to class method **definitions** as the first argument."
   ]
  },
  {
   "cell_type": "code",
   "execution_count": 183,
   "metadata": {},
   "outputs": [],
   "source": [
    "class MdsMember:\n",
    "    \n",
    "    def __init__(self, first, last):\n",
    "        # here are the \"attributes\"\n",
    "        self.first = first\n",
    "        self.last = last\n",
    "        self.initials = (first[0] + last[0]).upper()"
   ]
  },
  {
   "cell_type": "code",
   "execution_count": 184,
   "metadata": {
    "slideshow": {
     "slide_type": "fragment"
    }
   },
   "outputs": [],
   "source": [
    "mds_1 = MdsMember('Varada', 'Kolhatkar')"
   ]
  },
  {
   "cell_type": "code",
   "execution_count": null,
   "metadata": {
    "slideshow": {
     "slide_type": "fragment"
    }
   },
   "outputs": [],
   "source": [
    "mds_1.first"
   ]
  },
  {
   "cell_type": "code",
   "execution_count": null,
   "metadata": {
    "slideshow": {
     "slide_type": "fragment"
    }
   },
   "outputs": [],
   "source": [
    "mds_1.last"
   ]
  },
  {
   "cell_type": "code",
   "execution_count": null,
   "metadata": {
    "slideshow": {
     "slide_type": "fragment"
    }
   },
   "outputs": [],
   "source": [
    "mds_1.initials"
   ]
  },
  {
   "cell_type": "markdown",
   "metadata": {
    "slideshow": {
     "slide_type": "slide"
    }
   },
   "source": [
    "To get the full name, we can use the function we defined earlier"
   ]
  },
  {
   "cell_type": "code",
   "execution_count": null,
   "metadata": {},
   "outputs": [],
   "source": [
    "full_name(mds_1.first, mds_1.last)"
   ]
  },
  {
   "cell_type": "markdown",
   "metadata": {
    "slideshow": {
     "slide_type": "-"
    }
   },
   "source": [
    "But a better way to do this is to integrate this function into our class as a `method`."
   ]
  },
  {
   "cell_type": "markdown",
   "metadata": {
    "slideshow": {
     "slide_type": "slide"
    }
   },
   "source": [
    "#### Adding methods\n",
    "\n",
    "To add methods to a class, you define them in the class definition."
   ]
  },
  {
   "cell_type": "code",
   "execution_count": 189,
   "metadata": {},
   "outputs": [],
   "source": [
    "class MdsMember:\n",
    "\n",
    "    def __init__(self, first, last):\n",
    "        self.first = first\n",
    "        self.last = last\n",
    "        self.initials = (first[0] + last[0]).upper()\n",
    "\n",
    "    def full_name(self):\n",
    "        return f\"{self.first} {self.last}\""
   ]
  },
  {
   "cell_type": "markdown",
   "metadata": {},
   "source": [
    "We created a method called `full_name`. The methods takes no arguments, but uses the `self` parameter to access the object's attributes."
   ]
  },
  {
   "cell_type": "code",
   "execution_count": 190,
   "metadata": {
    "slideshow": {
     "slide_type": "fragment"
    }
   },
   "outputs": [],
   "source": [
    "mds_1 = MdsMember('Varada', 'Kolhatkar')"
   ]
  },
  {
   "cell_type": "code",
   "execution_count": null,
   "metadata": {
    "slideshow": {
     "slide_type": "fragment"
    }
   },
   "outputs": [],
   "source": [
    "mds_1.first"
   ]
  },
  {
   "cell_type": "code",
   "execution_count": null,
   "metadata": {
    "slideshow": {
     "slide_type": "fragment"
    }
   },
   "outputs": [],
   "source": [
    "mds_1.last"
   ]
  },
  {
   "cell_type": "code",
   "execution_count": null,
   "metadata": {
    "slideshow": {
     "slide_type": "fragment"
    }
   },
   "outputs": [],
   "source": [
    "mds_1.initials"
   ]
  },
  {
   "cell_type": "code",
   "execution_count": null,
   "metadata": {
    "slideshow": {
     "slide_type": "fragment"
    }
   },
   "outputs": [],
   "source": [
    "mds_1.full_name()"
   ]
  },
  {
   "cell_type": "markdown",
   "metadata": {},
   "source": [
    "**NOTE**: Notice that we need the parentheses above because we are calling a `method` (i.e., a function), not an `attribute`"
   ]
  },
  {
   "cell_type": "markdown",
   "metadata": {
    "slideshow": {
     "slide_type": "slide"
    }
   },
   "source": [
    "### Instance and class attributes\n",
    "\n",
    "Attributes like `mds_1.first` are sometimes called **instance attributes**. They are specific to the object we have created\n",
    "\n",
    "However, we can also set **class variables** which are the same amongst all instances of a class, they are defined outside of the `__init__` method"
   ]
  },
  {
   "cell_type": "code",
   "execution_count": 195,
   "metadata": {},
   "outputs": [],
   "source": [
    "class MdsMember:\n",
    "\n",
    "    role = \"MDS member\"  # class attributes\n",
    "    campus = \"UBC\"\n",
    "\n",
    "    def __init__(self, first, last):\n",
    "        self.first = first\n",
    "        self.last = last\n",
    "        self.initials = (first[0] + last[0]).upper()\n",
    "\n",
    "    def full_name(self):\n",
    "        return f\"{self.first} {self.last}\""
   ]
  },
  {
   "cell_type": "markdown",
   "metadata": {
    "slideshow": {
     "slide_type": "fragment"
    }
   },
   "source": [
    "All instances of our class share the class variable:"
   ]
  },
  {
   "cell_type": "code",
   "execution_count": 196,
   "metadata": {},
   "outputs": [],
   "source": [
    "mds_1 = MdsMember('Varada', 'Kolhatkar')\n",
    "mds_2 = MdsMember('Joel', 'Ostblom')"
   ]
  },
  {
   "cell_type": "code",
   "execution_count": null,
   "metadata": {
    "slideshow": {
     "slide_type": "fragment"
    }
   },
   "outputs": [],
   "source": [
    "print(f\"{mds_1.first} is at campus {mds_1.campus}.\")\n",
    "print(f\"{mds_2.first} is at campus {mds_2.campus}.\")"
   ]
  },
  {
   "cell_type": "markdown",
   "metadata": {
    "slideshow": {
     "slide_type": "slide"
    }
   },
   "source": [
    "We can even change the class variable after our instances have been created. This will affect all of our created instances:"
   ]
  },
  {
   "cell_type": "code",
   "execution_count": 198,
   "metadata": {},
   "outputs": [],
   "source": [
    "mds_1 = MdsMember('Varada', 'Kolhatkar')\n",
    "mds_2 = MdsMember('Joel', 'Ostblom')\n",
    "MdsMember.campus = 'UBC Okanagan'"
   ]
  },
  {
   "cell_type": "code",
   "execution_count": null,
   "metadata": {
    "slideshow": {
     "slide_type": "fragment"
    }
   },
   "outputs": [],
   "source": [
    "print(f\"{mds_1.first} is at campus {mds_1.campus}.\")\n",
    "print(f\"{mds_2.first} is at campus {mds_2.campus}.\")"
   ]
  },
  {
   "cell_type": "markdown",
   "metadata": {
    "slideshow": {
     "slide_type": "slide"
    }
   },
   "source": [
    "You can technically change a class variable for just a single instance, but this is typically not recommended. After all, if you want differing attributes for instances, you should probably use **instance attributes**!"
   ]
  },
  {
   "cell_type": "code",
   "execution_count": 200,
   "metadata": {
    "slideshow": {
     "slide_type": "fragment"
    }
   },
   "outputs": [],
   "source": [
    "mds_1.campus = 'UBC Vancouver'"
   ]
  },
  {
   "cell_type": "code",
   "execution_count": null,
   "metadata": {},
   "outputs": [],
   "source": [
    "print(f\"{mds_1.first} is at campus {mds_1.campus}.\")\n",
    "print(f\"{mds_2.first} is at campus {mds_2.campus}.\")"
   ]
  },
  {
   "cell_type": "markdown",
   "metadata": {
    "slideshow": {
     "slide_type": "slide"
    },
    "tags": [
     "remove-cell"
    ]
   },
   "source": [
    "#### Practice!\n",
    "\n",
    "Discuss in a group and answer the following questions"
   ]
  },
  {
   "cell_type": "code",
   "execution_count": 202,
   "metadata": {
    "tags": [
     "remove-cell"
    ]
   },
   "outputs": [],
   "source": [
    "class Dog:\n",
    "    def __init__(self, name, breed):\n",
    "        self.name = name\n",
    "        self.breed = breed\n",
    "        self.tricks = []\n",
    "\n",
    "    def teach_trick(self, trick):\n",
    "        self.tricks.append(trick)\n",
    "\n",
    "    def do_tricks(self):\n",
    "        print(f\"{self.name} the {self.breed} does the following tricks:\")\n",
    "        for trick in self.tricks:\n",
    "            print(f\"- {trick}\")"
   ]
  },
  {
   "cell_type": "markdown",
   "metadata": {
    "tags": [
     "remove-cell"
    ]
   },
   "source": [
    "\n",
    "\n",
    "1. What is the name of the class in this code example?\n",
    "2. What are the attributes of the `Dog` class?\n",
    "3. What are the methods of the `Dog` class?\n",
    "4. How do you create an instance of the `Dog` class?\n",
    "5. How do you access the `name` attribute of a `Dog` instance?\n",
    "6. How do you call the `teach_trick` method of a `Dog` instance?\n",
    "7. How do you call the `do_tricks` method of a `Dog` instance?\n"
   ]
  },
  {
   "cell_type": "markdown",
   "metadata": {},
   "source": [
    "### Instance, class, and static methods\n",
    "\n",
    "The methods we've seen so far are sometimes calls \"regular\" methods, they act on an instance of the class (i.e., take `self` as an argument). We also have **class methods** that act on the actual class.\n",
    "\n",
    "These **class methods** are often used as \"alternative constructors\". As an example, let's say that somebody commonly wants to use our class with comma-separated names like the following:"
   ]
  },
  {
   "cell_type": "code",
   "execution_count": 203,
   "metadata": {},
   "outputs": [],
   "source": [
    "name = 'Tiffany,Timbers'"
   ]
  },
  {
   "cell_type": "markdown",
   "metadata": {},
   "source": [
    "- Unfortunately, those users can't do this:"
   ]
  },
  {
   "cell_type": "code",
   "execution_count": null,
   "metadata": {
    "tags": [
     "raises-exception"
    ]
   },
   "outputs": [],
   "source": [
    "MdsMember(name)"
   ]
  },
  {
   "cell_type": "markdown",
   "metadata": {
    "slideshow": {
     "slide_type": "fragment"
    }
   },
   "source": [
    "To use our class, they would need to parse this string into `first` and `last`."
   ]
  },
  {
   "cell_type": "code",
   "execution_count": 205,
   "metadata": {
    "tags": []
   },
   "outputs": [],
   "source": [
    "first, last = name.split(',')"
   ]
  },
  {
   "cell_type": "code",
   "execution_count": null,
   "metadata": {},
   "outputs": [],
   "source": [
    "first"
   ]
  },
  {
   "cell_type": "code",
   "execution_count": null,
   "metadata": {},
   "outputs": [],
   "source": [
    "last"
   ]
  },
  {
   "cell_type": "markdown",
   "metadata": {
    "slideshow": {
     "slide_type": "fragment"
    }
   },
   "source": [
    "Then they can make an instance of our class."
   ]
  },
  {
   "cell_type": "code",
   "execution_count": 208,
   "metadata": {},
   "outputs": [],
   "source": [
    "mds_1 = MdsMember(first, last)"
   ]
  },
  {
   "cell_type": "markdown",
   "metadata": {
    "slideshow": {
     "slide_type": "slide"
    }
   },
   "source": [
    "If this is a common use case for the users of our code, we don't want them to have to coerce the data every time before using our class. Instead, we can facilitate their use-case with a **class method**. There are two things we need to do to use a class method:\n",
    "\n",
    "* Identify our method as class method using the decorator `@classmethod` (more on decorators in a bit)\n",
    "* Pass `cls` instead of `self` as the first argument"
   ]
  },
  {
   "cell_type": "code",
   "execution_count": 209,
   "metadata": {},
   "outputs": [],
   "source": [
    "class MdsMember:\n",
    "\n",
    "    role = \"MDS member\"\n",
    "    campus = \"UBC\"\n",
    "\n",
    "    def __init__(self, first, last):\n",
    "        self.first = first\n",
    "        self.last = last\n",
    "        self.initials = (first[0] + last[0]).upper()\n",
    "\n",
    "    def full_name(self):\n",
    "        return f\"{self.first} {self.last}\"\n",
    "\n",
    "    @classmethod\n",
    "    def from_csv(cls, csv_name, ):\n",
    "        first, last = csv_name.split(',')\n",
    "        return cls(first, last)"
   ]
  },
  {
   "cell_type": "markdown",
   "metadata": {
    "slideshow": {
     "slide_type": "fragment"
    }
   },
   "source": [
    "Now we can use our comma-separated values directly!"
   ]
  },
  {
   "cell_type": "code",
   "execution_count": null,
   "metadata": {},
   "outputs": [],
   "source": [
    "mds_1 = MdsMember.from_csv('Scott,Mackie')\n",
    "mds_1.full_name()"
   ]
  },
  {
   "cell_type": "markdown",
   "metadata": {
    "slideshow": {
     "slide_type": "slide"
    }
   },
   "source": [
    "There is a third kind of method called a **static method**. Static methods do not operate on either the instance or the class, they are just simple functions. When you call a static method, no instance is passed as the first argument to the method. Nevertheless, we might want to include them in our class because they are somehow related to the class.\n",
    "\n",
    "Static methods are defined using the `@staticmethod` decorator."
   ]
  },
  {
   "cell_type": "code",
   "execution_count": 211,
   "metadata": {},
   "outputs": [],
   "source": [
    "class MdsMember:\n",
    "\n",
    "    role = \"MDS member\"\n",
    "    campus = \"UBC\"\n",
    "\n",
    "    def __init__(self, first, last):\n",
    "        self.first = first\n",
    "        self.last = last\n",
    "        self.initials = (first[0] + last[0]).upper()\n",
    "\n",
    "    def full_name(self):\n",
    "        return f\"{self.first} {self.last}\"\n",
    "\n",
    "    @classmethod\n",
    "    def from_csv(cls, csv_name, ):\n",
    "        first, last = csv_name.split(',')\n",
    "        return cls(first, last)\n",
    "\n",
    "    @staticmethod\n",
    "    def is_quizweek(week):\n",
    "        return True if week in [3, 5] else False"
   ]
  },
  {
   "cell_type": "markdown",
   "metadata": {
    "slideshow": {
     "slide_type": "fragment"
    }
   },
   "source": [
    "- Note that the method `is_quizweek()` does not accept or use the `self` argument\n",
    "- But it is still MDS-related, so we might want to include it here"
   ]
  },
  {
   "cell_type": "code",
   "execution_count": null,
   "metadata": {},
   "outputs": [],
   "source": [
    "mds_1 = MdsMember.from_csv('Quan,Nguyen')\n",
    "print(f\"Is week 1 a quiz week? {mds_1.is_quizweek(1)}\")\n",
    "print(f\"Is week 3 a quiz week? {mds_1.is_quizweek(3)}\")"
   ]
  },
  {
   "cell_type": "markdown",
   "metadata": {},
   "source": [
    "The key difference between regular methods and static methods is that regular methods can access and modiy the attributes of the instance they are called on, while static methods cannot. Thus static methods are typically used for utility functions that don't need to access or modify instance attributes."
   ]
  },
  {
   "cell_type": "markdown",
   "metadata": {
    "slideshow": {
     "slide_type": "slide"
    }
   },
   "source": [
    "### Inheritance & subclasses\n",
    "\n",
    "Just like it sounds, inheritance allows us to \"inherit\" methods and attributes from another class. So far, we've been working with an `MdsMember` class. Now, let's get more specific and create a `MdsStudent` and `MdsInstructor` class. Recall what `MdsMember` looked like:"
   ]
  },
  {
   "cell_type": "code",
   "execution_count": 213,
   "metadata": {},
   "outputs": [],
   "source": [
    "class MdsMember:\n",
    "    \n",
    "    role = \"MDS member\"\n",
    "    campus = \"UBC\"\n",
    "\n",
    "    def __init__(self, first, last):\n",
    "        self.first = first\n",
    "        self.last = last\n",
    "        self.initials = (first[0] + last[0]).upper()\n",
    "\n",
    "    def full_name(self):\n",
    "        return f\"{self.first} {self.last}\"\n",
    "\n",
    "    @classmethod\n",
    "    def from_csv(cls, csv_name, ):\n",
    "        first, last = csv_name.split(',')\n",
    "        return cls(first, last)\n",
    "\n",
    "    @staticmethod\n",
    "    def is_quizweek(week):\n",
    "        return True if week in [3, 5] else False"
   ]
  },
  {
   "cell_type": "markdown",
   "metadata": {
    "slideshow": {
     "slide_type": "slide"
    }
   },
   "source": [
    "- We can create an `MdsStudent` class that inherits all of the attributes and methods from our `MdsMember` class by  by simply passing the `MdsMember` class as an argument to an `MdsStudent` class definition:"
   ]
  },
  {
   "cell_type": "code",
   "execution_count": 214,
   "metadata": {},
   "outputs": [],
   "source": [
    "class MdsStudent(MdsMember):\n",
    "    pass"
   ]
  },
  {
   "cell_type": "code",
   "execution_count": 215,
   "metadata": {},
   "outputs": [],
   "source": [
    "student_1 = MdsStudent('Craig', 'Smith')\n",
    "student_2 = MdsStudent('Megan', 'Scott')"
   ]
  },
  {
   "cell_type": "code",
   "execution_count": null,
   "metadata": {},
   "outputs": [],
   "source": [
    "student_1.full_name()"
   ]
  },
  {
   "cell_type": "code",
   "execution_count": null,
   "metadata": {},
   "outputs": [],
   "source": [
    "student_2.full_name()"
   ]
  },
  {
   "cell_type": "markdown",
   "metadata": {
    "slideshow": {
     "slide_type": "fragment"
    }
   },
   "source": [
    "We call `MdsStudent` a **child** class of the **parent** `MdsMember` class."
   ]
  },
  {
   "cell_type": "markdown",
   "metadata": {
    "slideshow": {
     "slide_type": "slide"
    }
   },
   "source": [
    "What happened here is that our `MdsStudent` instance first looked in the `MdsStudent` class for an `__init__` method, which it didn't find. It then looked for the `__init__` method in the inherited `MdsMember` class and found something to use! This order is called the \"[method resolution order](https://www.python.org/download/releases/2.3/mro/)\".\n",
    "\n",
    "We can inspect the class directly using the `help()` function."
   ]
  },
  {
   "cell_type": "code",
   "execution_count": null,
   "metadata": {},
   "outputs": [],
   "source": [
    "help(MdsStudent)"
   ]
  },
  {
   "cell_type": "markdown",
   "metadata": {
    "slideshow": {
     "slide_type": "slide"
    }
   },
   "source": [
    "Okay, let's fine-tune our `MdsStudent` class.\n",
    "\n",
    "The first thing we might want to do is change the role of the student instances to \"MDS Student\". We can do that by simply adding a `class attribute` to our `MdsStudent` class. Any attributes or methods not \"over-ridden\" in the `MdsStudent` class will just be inherited from the `MdsMember` class."
   ]
  },
  {
   "cell_type": "code",
   "execution_count": 219,
   "metadata": {},
   "outputs": [],
   "source": [
    "class MdsStudent(MdsMember):\n",
    "    role = \"MDS student\""
   ]
  },
  {
   "cell_type": "code",
   "execution_count": 220,
   "metadata": {},
   "outputs": [],
   "source": [
    "student_1 = MdsStudent('John', 'Smith')"
   ]
  },
  {
   "cell_type": "code",
   "execution_count": null,
   "metadata": {},
   "outputs": [],
   "source": [
    "student_1.role"
   ]
  },
  {
   "cell_type": "code",
   "execution_count": null,
   "metadata": {},
   "outputs": [],
   "source": [
    "student_1.campus"
   ]
  },
  {
   "cell_type": "code",
   "execution_count": null,
   "metadata": {},
   "outputs": [],
   "source": [
    "student_1.full_name()"
   ]
  },
  {
   "cell_type": "markdown",
   "metadata": {
    "slideshow": {
     "slide_type": "slide"
    }
   },
   "source": [
    "- Now let's add an `instance attribute` to our class called `grade`\n",
    "- You might be tempted to do something like this:"
   ]
  },
  {
   "cell_type": "code",
   "execution_count": 224,
   "metadata": {},
   "outputs": [],
   "source": [
    "class MdsStudent(MdsMember):\n",
    "    role = \"MDS student\"\n",
    "    \n",
    "    def __init__(self, first, last, grade):\n",
    "        self.first = first\n",
    "        self.last = last\n",
    "        self.initials = (first[0] + last[0]).upper()\n",
    "        self.grade = grade"
   ]
  },
  {
   "cell_type": "code",
   "execution_count": 225,
   "metadata": {
    "slideshow": {
     "slide_type": "fragment"
    }
   },
   "outputs": [],
   "source": [
    "student_1 = MdsStudent('John', 'Smith', 'B+')"
   ]
  },
  {
   "cell_type": "code",
   "execution_count": null,
   "metadata": {},
   "outputs": [],
   "source": [
    "student_1.initials"
   ]
  },
  {
   "cell_type": "code",
   "execution_count": null,
   "metadata": {},
   "outputs": [],
   "source": [
    "student_1.grade"
   ]
  },
  {
   "cell_type": "markdown",
   "metadata": {
    "slideshow": {
     "slide_type": "fragment"
    }
   },
   "source": [
    "But this is not DRY code, remember that we've already typed most of this in our `MdsMember` class! So what we can do is let the `MdsMember` class handle our `first` and `last` argument and we'll just worry about `grade`"
   ]
  },
  {
   "cell_type": "markdown",
   "metadata": {
    "slideshow": {
     "slide_type": "slide"
    }
   },
   "source": [
    "We can do this easily with the `super()` function.\n",
    "\n",
    "Read more about `super()` [here](https://realpython.com/python-super/#an-overview-of-pythons-super-function). Things can get complicated here, but what you most need to know is that `super()` allows you to inherit attributes/methods from other classes."
   ]
  },
  {
   "cell_type": "code",
   "execution_count": 228,
   "metadata": {
    "slideshow": {
     "slide_type": "-"
    }
   },
   "outputs": [],
   "source": [
    "class MdsStudent(MdsMember):\n",
    "    role = \"MDS student\"\n",
    "    \n",
    "    def __init__(self, first, last, grade):\n",
    "        super().__init__(first, last)\n",
    "        self.grade = grade"
   ]
  },
  {
   "cell_type": "code",
   "execution_count": 229,
   "metadata": {
    "slideshow": {
     "slide_type": "fragment"
    }
   },
   "outputs": [],
   "source": [
    "student_1 = MdsStudent('John', 'Smith', 'B+')"
   ]
  },
  {
   "cell_type": "code",
   "execution_count": null,
   "metadata": {},
   "outputs": [],
   "source": [
    "student_1.initials"
   ]
  },
  {
   "cell_type": "code",
   "execution_count": null,
   "metadata": {},
   "outputs": [],
   "source": [
    "student_1.grade"
   ]
  },
  {
   "cell_type": "markdown",
   "metadata": {
    "slideshow": {
     "slide_type": "slide"
    }
   },
   "source": [
    "Amazing! Hopefully you can start to see how powerful inheritance can be. Let's create another subclass called `MdsInstructor`, which has two new methods `add_course()` and `remove_course()`"
   ]
  },
  {
   "cell_type": "code",
   "execution_count": 232,
   "metadata": {},
   "outputs": [],
   "source": [
    "class MdsInstructor(MdsMember):\n",
    "    role = \"MDS instructor\"\n",
    "    \n",
    "    def __init__(self, first, last, courses=None):\n",
    "        super().__init__(first, last)\n",
    "        self.courses = ([] if courses is None else courses)\n",
    "        \n",
    "    def add_course(self, course):\n",
    "        self.courses.append(course)\n",
    "        \n",
    "    def remove_course(self, course):\n",
    "        self.courses.remove(course)"
   ]
  },
  {
   "cell_type": "code",
   "execution_count": 233,
   "metadata": {
    "slideshow": {
     "slide_type": "fragment"
    }
   },
   "outputs": [],
   "source": [
    "instructor_1 = MdsInstructor('Prajeet', 'Bajpai', ['511', '571', '591'])"
   ]
  },
  {
   "cell_type": "code",
   "execution_count": null,
   "metadata": {},
   "outputs": [],
   "source": [
    "instructor_1.full_name()"
   ]
  },
  {
   "cell_type": "code",
   "execution_count": null,
   "metadata": {
    "slideshow": {
     "slide_type": "fragment"
    }
   },
   "outputs": [],
   "source": [
    "instructor_1.courses"
   ]
  },
  {
   "cell_type": "code",
   "execution_count": 236,
   "metadata": {
    "slideshow": {
     "slide_type": "fragment"
    }
   },
   "outputs": [],
   "source": [
    "instructor_1.add_course('572')\n",
    "instructor_1.remove_course('591')"
   ]
  },
  {
   "cell_type": "code",
   "execution_count": null,
   "metadata": {},
   "outputs": [],
   "source": [
    "instructor_1.courses"
   ]
  },
  {
   "cell_type": "markdown",
   "metadata": {},
   "source": [
    "#### Magic Methods\n",
    "\n",
    "Python also offers \"magic methods\" that allow you to use some basic, built-in operators for your own classes. For example, we can define how the Python function `len()` is interpreted by our `MdsInstructor` Class"
   ]
  },
  {
   "cell_type": "code",
   "execution_count": 238,
   "metadata": {},
   "outputs": [],
   "source": [
    "class MdsInstructor(MdsMember):\n",
    "    role = \"MDS instructor\"\n",
    "    \n",
    "    def __init__(self, first, last, courses=None):\n",
    "        super().__init__(first, last)\n",
    "        self.courses = ([] if courses is None else courses)\n",
    "        \n",
    "    def add_course(self, course):\n",
    "        self.courses.append(course)\n",
    "        \n",
    "    def remove_course(self, course):\n",
    "        self.courses.remove(course)\n",
    "\n",
    "    def __len__(self):\n",
    "        return len(self.courses)"
   ]
  },
  {
   "cell_type": "code",
   "execution_count": null,
   "metadata": {},
   "outputs": [],
   "source": [
    "instructor_1 = MdsInstructor('Prajeet', 'Bajpai', ['511', '571', '591'])\n",
    "len(instructor_1)"
   ]
  },
  {
   "cell_type": "markdown",
   "metadata": {},
   "source": [
    "Magic methods are always accompanied by the \"double underscore\" in the name. There are several magic methods you can use to define the meaning of comparisons like `==`, `<` and `>`."
   ]
  },
  {
   "cell_type": "code",
   "execution_count": null,
   "metadata": {},
   "outputs": [],
   "source": [
    "instructor_1 = MdsInstructor('Prajeet', 'Bajpai', ['511', '571', '591'])\n",
    "instructor_2 = MdsInstructor('Prajeet', 'Bajpai', ['511', '571', '591'])\n",
    "instructor_1 == instructor_2"
   ]
  },
  {
   "cell_type": "code",
   "execution_count": 241,
   "metadata": {},
   "outputs": [],
   "source": [
    "class MdsInstructor(MdsMember):\n",
    "    role = \"MDS instructor\"\n",
    "    \n",
    "    def __init__(self, first, last, courses=None):\n",
    "        super().__init__(first, last)\n",
    "        self.courses = ([] if courses is None else courses)\n",
    "        \n",
    "    def add_course(self, course):\n",
    "        self.courses.append(course)\n",
    "        \n",
    "    def remove_course(self, course):\n",
    "        self.courses.remove(course)\n",
    "\n",
    "    def __len__(self):\n",
    "        return len(self.courses)\n",
    "    \n",
    "    def __eq__(self, other):\n",
    "        return (self.first == other.first) and (self.last == other.last)"
   ]
  },
  {
   "cell_type": "code",
   "execution_count": null,
   "metadata": {},
   "outputs": [],
   "source": [
    "instructor_1 = MdsInstructor('Prajeet', 'Bajpai', ['511', '571', '591'])\n",
    "instructor_2 = MdsInstructor('Prajeet', 'Bajpai', ['511', '571', '591'])\n",
    "instructor_1 == instructor_2"
   ]
  },
  {
   "cell_type": "markdown",
   "metadata": {},
   "source": [
    "Be sure you only define `==` in a way that makes sense for your use case!"
   ]
  },
  {
   "cell_type": "code",
   "execution_count": null,
   "metadata": {},
   "outputs": [],
   "source": [
    "instructor_1 = MdsInstructor('Prajeet', 'Bajpai', ['511'])\n",
    "instructor_2 = MdsInstructor('Prajeet', 'Bajpai', ['561'])\n",
    "instructor_1 == instructor_2"
   ]
  },
  {
   "cell_type": "markdown",
   "metadata": {
    "slideshow": {
     "slide_type": "slide"
    },
    "tags": [
     "remove-cell"
    ]
   },
   "source": [
    "#### Test your knowledge\n",
    "\n",
    "Discuss in a group and answer the following questions"
   ]
  },
  {
   "cell_type": "code",
   "execution_count": 244,
   "metadata": {
    "tags": [
     "remove-cell"
    ]
   },
   "outputs": [],
   "source": [
    "class Animal:\n",
    "    def __init__(self, name):\n",
    "        self.name = name\n",
    "\n",
    "    def speak(self):\n",
    "        raise NotImplementedError(\"Subclass must implement abstract method\")\n",
    "\n",
    "class Dog(Animal):\n",
    "    def speak(self):\n",
    "        return \"Woof!\"\n",
    "\n",
    "class Cat(Animal):\n",
    "    def speak():\n",
    "        return \"Meow!\""
   ]
  },
  {
   "cell_type": "markdown",
   "metadata": {
    "tags": [
     "remove-cell"
    ]
   },
   "source": [
    "1. What is the superclass in this code example?\n",
    "2. What is the subclass in this code example?\n",
    "3. How would you call the `speak` method in the `Dog` class?\n",
    "4. How would you call the `speak` method in the `Cat` class?\n",
    "5. What happens if you try to call the `speak` method on an instance of the `Animal` class?"
   ]
  },
  {
   "cell_type": "markdown",
   "metadata": {},
   "source": [
    "## Style Guides"
   ]
  },
  {
   "cell_type": "markdown",
   "metadata": {},
   "source": [
    "![](https://imgs.xkcd.com/comics/code_quality.png)"
   ]
  },
  {
   "cell_type": "markdown",
   "metadata": {},
   "source": [
    "It is incorrect to think that if your code works then you are done. Code has two \"users\": **the computer** (which turns it into machine instructions) and **humans** (who will likely read and/or modify the code in the future).\n",
    "\n",
    "This section is about how to make your code suitable to that second audience, humans. Styling is particularly important for sharing your code to other users-- including your future self! Remember: \"Code is read much more often than it is written.\"\n",
    "\n",
    "At MDS, we ask for the Python code you write to conform to the [PEP 8](https://www.python.org/dev/peps/pep-0008/) style guide."
   ]
  },
  {
   "cell_type": "code",
   "execution_count": 245,
   "metadata": {},
   "outputs": [],
   "source": [
    "import this"
   ]
  },
  {
   "cell_type": "markdown",
   "metadata": {},
   "source": [
    "### Highlights of PEP 8\n"
   ]
  },
  {
   "cell_type": "markdown",
   "metadata": {},
   "source": [
    "#### Naming conventions:\n",
    "\n",
    "For **variables, functions, modules, packages**: use snake_case i.e. lowercase words separated by underscores\n",
    "  \n",
    "```python\n",
    "# bad example\n",
    "CarBrand = 'Toyota'\n",
    "CARBRAND = 'Toyota'\n",
    "\n",
    "# good example\n",
    "car_brand = 'Toyota'\n",
    "```\n",
    "\n",
    "For **Classes**: use _camel case_, no underscores: `MyClass`, `Regressor`, `ErrorHandler`\n",
    "  \n",
    "```python\n",
    "# bad example\n",
    "class my_birthday():\n",
    "    pass\n",
    "\n",
    "# good example\n",
    "class MyBirthday():\n",
    "    pass\n",
    "```"
   ]
  },
  {
   "cell_type": "markdown",
   "metadata": {},
   "source": [
    "#### Line breaking:\n",
    "\n",
    "PEP 8 suggests 79 characters per line. Lines can be broken when code is contained within `()`, `[]`, `{}`:\n",
    "\n",
    "```python\n",
    "# bad example\n",
    "def my_function(a, b, c, d, e, f, g, h, i, j, k, l, m, n):\n",
    "    return None\n",
    "\n",
    "# good example\n",
    "def my_function(a, b, c, d,\n",
    "                e, f, g, h,\n",
    "                i, j ,k, k,\n",
    "                m, n):\n",
    "    return None\n",
    "```\n",
    "  > Note: lines can also be broken by `\\`, but it is NOT recommended.\n",
    "\n",
    "\n",
    "Lines should be broken before binary operators (e.g. `+` or `*`) not after:\n",
    "\n",
    "```python\n",
    "# bad example \n",
    "income = (gross_wages +\n",
    "          taxable_interest +\n",
    "          (dividends - qualified_dividends) -\n",
    "          ira_deduction -\n",
    "          student_loan_interest)\n",
    "```\n",
    "\n",
    "```python\n",
    "# good example\n",
    "income = (gross_wages\n",
    "          + taxable_interest\n",
    "          + (dividends - qualified_dividends)\n",
    "          - ira_deduction\n",
    "          - student_loan_interest)\n",
    "```\n"
   ]
  },
  {
   "cell_type": "markdown",
   "metadata": {},
   "source": [
    "#### Closing parentheses, brackets, or braces:\n",
    "The closing brace/bracket/parenthesis on multiline constructs may either line up under the first non-whitespace character of the last line of list\n",
    "\n",
    "```python\n",
    "# bad example\n",
    "natural_numbers = [1, 2, 3,\n",
    "                   4, 5, 6,\n",
    "                   7, 8, 9]\n",
    "# good example\n",
    "natural_numbers = [\n",
    "    1, 2, 3,\n",
    "    4, 5, 6,\n",
    "    7, 8, 9\n",
    "]\n",
    "\n",
    "# good example\n",
    "\n",
    "natural_numbers = [\n",
    "    1, 2, 3,\n",
    "    4, 5, 6,\n",
    "    7, 8, 9\n",
    "    ]\n",
    "\n",
    "```"
   ]
  },
  {
   "cell_type": "markdown",
   "metadata": {},
   "source": [
    "#### Comments\n",
    "\n",
    "- Comments are important for understanding your code.\n",
    "- While docstrings cover what a function _does_, your comments will help document _how_ your code achieves its goal.\n",
    "\n",
    "`#` of an inline comment should be preceded with 2 spaces, and followed by 1 space. Use inline comments sparingly. Don't explain the obvious.\n",
    "\n",
    "```python\n",
    "y = 100  # this is an inline comment\n",
    "```\n",
    "\n",
    "**Block Comments**: each line of a block comment should start with a `#` followed by a single space and should be indented to the same level as the code it precedes. Generally, comments should not be unnecessarily verbose or just state the obvious, as this can be distracting and can actually make your code more difficult to read!\n",
    "\n",
    "```python\n",
    "for i in range(0, 10):\n",
    "    # Loop over i ten times and print out the value of i, followed by a\n",
    "    # new line character\n",
    "    print(i, '\\n')\n",
    "```"
   ]
  },
  {
   "cell_type": "markdown",
   "metadata": {},
   "source": [
    "**Bad example**\n",
    "\n",
    "The comments are unnecessary or poorly formatted:\n",
    "\n",
    "```python\n",
    "def random_walker(T):\n",
    "    # intalize coords\n",
    "    x = 0\n",
    "    y = 0\n",
    "\n",
    "    for i in range(T):# loop T times\n",
    "        r = random()\n",
    "        if r < 0.25:\n",
    "            x += 1  # go right\n",
    "        elif r < 0.5:\n",
    "            x -= 1  # go left\n",
    "        elif r < 0.75:\n",
    "            y += 1       # go up\n",
    "        else:\n",
    "            y -= 1\n",
    "\n",
    "        # Print the location\n",
    "        print((x, y))\n",
    "\n",
    "    # In Python, the ** operator means exponentiation.\n",
    "    return x ** 2 + y ** 2\n",
    "```\n",
    "\n",
    "**Good example**\n",
    "\n",
    "```python\n",
    "def random_walker(T):\n",
    "    x = 0\n",
    "    y = 0\n",
    "\n",
    "    for i in range(T):\n",
    "        \n",
    "        # Generate a random number between 0 and 1.\n",
    "        # Then, go right, left, up or down if the number\n",
    "        # is in the interval [0,0.25), [0.25,0.5),\n",
    "        # [0.5,0.75) or [0.75,1) respectively.\n",
    "        \n",
    "        r = random()\n",
    "        if r < 0.25:\n",
    "            x += 1      # Go right\n",
    "        elif r < 0.5:\n",
    "            x -= 1      # Go left\n",
    "        elif r < 0.75:\n",
    "            y += 1      # Go up\n",
    "        else:\n",
    "            y -= 1      # Go down\n",
    "\n",
    "        print((x, y))\n",
    "\n",
    "    return x**2 + y**2\n",
    "```"
   ]
  },
  {
   "cell_type": "markdown",
   "metadata": {},
   "source": [
    "#### Whitespaces:\n",
    "Separate items of a list or tuple by one single space after the comma:\n",
    "  \n",
    "```python\n",
    "# Recommended\n",
    "my_list = [1, 2, 3]\n",
    "\n",
    "# Not recommended\n",
    "my_list = [ 1, 2, 3, ]\n",
    "\n",
    "# Not recommended\n",
    "my_list = [1,2,3]\n",
    "```\n",
    "\n",
    "Surround the following by single whitespaces on each side:\n",
    "\n",
    "* Assignment operators, e.g. `=`, `+=`, `-=`, etc.\n",
    "\n",
    "* Comparison operators, e.g. `<`, `<=`, `!=`, etc.\n",
    "\n",
    "If there was more than one, surround the lowest priority operator with whitespaces.\n",
    "\n",
    "```python\n",
    "# Recommended\n",
    "y = x**2 + 5\n",
    "z = (x+y) * (x-y)\n",
    "\n",
    "# Not Recommended\n",
    "y = x ** 2 + 5\n",
    "z = (x + y) * (x - y)\n",
    "```"
   ]
  },
  {
   "cell_type": "markdown",
   "metadata": {},
   "source": [
    "Don't use whitespaces when assigning argument values:\n",
    "```python\n",
    "# Recommended\n",
    "def my_func(default_n=100):\n",
    "    pass\n",
    "\n",
    "# Not Recomended\n",
    "def my_func(default_n = 100):\n",
    "    pass\n",
    "```"
   ]
  },
  {
   "cell_type": "markdown",
   "metadata": {},
   "source": [
    "Treat colons `:` as the operator with the lowest priority **when slicing lists or arrays**:\n",
    "\n",
    "```python\n",
    "# Recommended\n",
    "my_list[1:5]\n",
    "my_list[:5]\n",
    "my_list[1:]\n",
    "my_list[::2]\n",
    "my_list[1:5:2]\n",
    "\n",
    "# Not recommended\n",
    "my_list[1 : 5]\n",
    "my_list[ : 5]\n",
    "my_list[1: ]\n",
    "my_list[ ::2]\n",
    "my_list[1:5 :2]\n",
    "```"
   ]
  },
  {
   "cell_type": "markdown",
   "metadata": {},
   "source": [
    "Ooof that was a lot to cover! Thankfully, using **linters** & **formatters** can help you adhere to uniform styling!\n",
    "\n",
    "(And for a detailed coverage of PEP 8 with various examples, see [this](https://realpython.com/python-pep8/))"
   ]
  },
  {
   "cell_type": "markdown",
   "metadata": {},
   "source": [
    "### Linters\n",
    "\n",
    "**Linting** highlights programmatic and stylistic problems in your Python source code. Think of it like \"spell check\" in word processing software. Common linters for python code include: **pycodestyle**, **pylint**, **pyflakes**, **flake8**, etc.\n",
    "\n",
    "Some linters only check for programming errors (e.g. pyflakes), whereas some others only verify styling (e.g. pycodestyle), and other ones doing both (e.g. pylint, flake8). For descriptions of each of these linters, see [this](https://books.agiliq.com/projects/essential-python-tools/en/latest/linters.html)"
   ]
  },
  {
   "cell_type": "markdown",
   "metadata": {},
   "source": [
    "Let's enable **[Flake8 extension on vscode](https://marketplace.visualstudio.com/items?itemName=ms-python.flake8)**\n",
    "\n",
    "- Open VSCode\n",
    "- Under extension, search for \"Flake8\"\n",
    "- Install and enable the extension\n",
    "\n",
    "\n",
    "\n",
    "<img src=\"https://code.visualstudio.com/assets/docs/python/linting/lint-messages.png\" width = 800>"
   ]
  },
  {
   "cell_type": "markdown",
   "metadata": {},
   "source": [
    "Let's open the file `code/bad_style.py` and see what problems `flake8` highlights."
   ]
  },
  {
   "cell_type": "markdown",
   "metadata": {},
   "source": [
    "We can also use `flake8` from the command line to check files\n",
    "\n",
    "```bash\n",
    "flake8 <PATH_TO_FILE>\n",
    "```\n",
    "\n",
    "Let's try this in the terminal. You may first need to run `conda install flake8`."
   ]
  },
  {
   "cell_type": "markdown",
   "metadata": {},
   "source": [
    "### Formatters\n",
    "\n",
    "**Formatting**: restructures how code appears by applying specific rules for line spacing, indents, line length, etc. Common python auto formatters include **autopep8**, **black**, **yapf**, etc. Many of these auto formatters are available as an extension in vscode.\n",
    "\n",
    "<img src=\"https://i.stack.imgur.com/oyG5K.png\" width=800>"
   ]
  },
  {
   "cell_type": "markdown",
   "metadata": {},
   "source": [
    "`black` can also be used from the command line to format your files:\n",
    "\n",
    "```bash\n",
    "black <PATH_TO_FILE> --check\n",
    "```\n",
    "\n",
    "The `--check` argument just checks if your code conforms to black style but doesn't reformat it in place, if you want your file reformatted, remove the argument."
   ]
  },
  {
   "cell_type": "markdown",
   "metadata": {},
   "source": [
    "**Before** formatting:\n",
    "\n",
    "```python\n",
    "x = {  'a':37,'b':42,\n",
    "'c':927}\n",
    "very_long_variable_name = {'field': 1,\n",
    "                        'is_debug': True}\n",
    "condition=True\n",
    "\n",
    "if very_long_variable_name is not None and very_long_variable_name[\"field\"] > 0 or very_long_variable_name['is_debug']:\n",
    " z = 'hello '+'world'\n",
    "else:\n",
    " world = 'world'\n",
    " a = 'hello {}'.format(world)\n",
    " f = rf'hello {world}'\n",
    "if (condition): y = 'hello ''world' #FIXME: https://github.com/python/black/issues/26\n",
    "class Foo  (     object  ):\n",
    "  def f    (self   ):\n",
    "    return       37*-2\n",
    "  def g(self, x,y=42):\n",
    "      return y\n",
    "# fmt: off\n",
    "custom_formatting = [\n",
    "    0,  1,  2,\n",
    "    3,  4,  5\n",
    "]\n",
    "# fmt: on\n",
    "regular_formatting = [\n",
    "    0,  1,  2,\n",
    "    3,  4,  5\n",
    "]\n",
    "```"
   ]
  },
  {
   "cell_type": "markdown",
   "metadata": {},
   "source": [
    "**After** formatting:\n",
    "\n",
    "```python\n",
    "x = {\"a\": 37, \"b\": 42, \"c\": 927}\n",
    "very_long_variable_name = {\"field\": 1, \"is_debug\": True}\n",
    "condition = True\n",
    "\n",
    "if (\n",
    "    very_long_variable_name is not None\n",
    "    and very_long_variable_name[\"field\"] > 0\n",
    "    or very_long_variable_name[\"is_debug\"]\n",
    "):\n",
    "    z = \"hello \" + \"world\"\n",
    "else:\n",
    "    world = \"world\"\n",
    "    a = \"hello {}\".format(world)\n",
    "    f = rf\"hello {world}\"\n",
    "if condition:\n",
    "    y = \"hello \" \"world\"  # FIXME: https://github.com/python/black/issues/26\n",
    "\n",
    "\n",
    "class Foo(object):\n",
    "    def f(self):\n",
    "        return 37 * -2\n",
    "\n",
    "    def g(self, x, y=42):\n",
    "        return y\n",
    "\n",
    "\n",
    "# fmt: off\n",
    "custom_formatting = [\n",
    "    0,  1,  2,\n",
    "    3,  4,  5\n",
    "]\n",
    "# fmt: on\n",
    "regular_formatting = [0, 1, 2, 3, 4, 5]\n",
    "```"
   ]
  },
  {
   "cell_type": "markdown",
   "metadata": {},
   "source": [
    "### Guidelines that cannot be checked automatically\n",
    "\n",
    "- Variable names should use underscores (PEP 8), but also need to make sense.\n",
    "  - e.g. `spin_times` is a reasonable variable name\n",
    "  - `my_list_of_thingies` adheres to PEP 8 but is NOT a reasonable variable name\n",
    "  - same for `lst`---fine for explaining a concept, but not as part of a script that will be reused\n",
    "  \n",
    "- DRY\n",
    "- Magic numbers\n",
    "- Comments"
   ]
  },
  {
   "cell_type": "markdown",
   "metadata": {
    "slideshow": {
     "slide_type": "skip"
    }
   },
   "source": [
    "### (OPTIONAL) Decorators\n",
    "\n",
    "- Decorators can be quite a complex topic, you can read more about them [here](https://realpython.com/primer-on-python-decorators/)\n",
    "- Briefly, they are what they sounds like, they \"decorate\" functions/methods with additional functionality\n",
    "- You can think of a decorator as a function that takes another function and adds functionality (recall last lecture we discussed how functions are objects in Python and can be passed around into other functions!)"
   ]
  },
  {
   "cell_type": "markdown",
   "metadata": {
    "slideshow": {
     "slide_type": "skip"
    }
   },
   "source": [
    "- Let's create a decorator as an example\n",
    "- Recall that functions are data types in Python, they can be passed to other functions\n",
    "- So a decorator simply takes a function as an argument, adds some more functionality to it, and returns a \"decorated function\" that can be executed"
   ]
  },
  {
   "cell_type": "code",
   "execution_count": 246,
   "metadata": {
    "slideshow": {
     "slide_type": "skip"
    }
   },
   "outputs": [],
   "source": [
    "# some function we wish to decorate\n",
    "def original_func():\n",
    "    print(\"I'm the original function!\")\n",
    "\n",
    "\n",
    "# a decorator\n",
    "def my_decorator(original_func):  # takes our original function as input\n",
    "\n",
    "    def wrapper():  # wraps our original function with some extra functionality\n",
    "        print(f\"A decoration before {original_func.__name__}.\")\n",
    "        result = original_func()\n",
    "        print(f\"A decoration after {original_func.__name__}.\")\n",
    "        return result\n",
    "\n",
    "    return wrapper  # returns the unexecuted wrapper function which we can can execute later"
   ]
  },
  {
   "cell_type": "markdown",
   "metadata": {
    "slideshow": {
     "slide_type": "skip"
    }
   },
   "source": [
    "- The `my_decorator()` function will return to us a function which is the decorated version of our original function"
   ]
  },
  {
   "cell_type": "code",
   "execution_count": null,
   "metadata": {
    "slideshow": {
     "slide_type": "skip"
    }
   },
   "outputs": [],
   "source": [
    "my_decorator(original_func)"
   ]
  },
  {
   "cell_type": "markdown",
   "metadata": {
    "slideshow": {
     "slide_type": "skip"
    }
   },
   "source": [
    "- As a function was returned to us, we can execute it by adding parentheses"
   ]
  },
  {
   "cell_type": "code",
   "execution_count": null,
   "metadata": {
    "slideshow": {
     "slide_type": "skip"
    }
   },
   "outputs": [],
   "source": [
    "my_decorator(original_func)()"
   ]
  },
  {
   "cell_type": "markdown",
   "metadata": {
    "slideshow": {
     "slide_type": "skip"
    }
   },
   "source": [
    "- We can decorate any arbitrary function with our decorator"
   ]
  },
  {
   "cell_type": "code",
   "execution_count": 249,
   "metadata": {
    "slideshow": {
     "slide_type": "skip"
    }
   },
   "outputs": [],
   "source": [
    "def another_func():\n",
    "    print(\"I'm a different function!\")"
   ]
  },
  {
   "cell_type": "code",
   "execution_count": null,
   "metadata": {
    "slideshow": {
     "slide_type": "skip"
    }
   },
   "outputs": [],
   "source": [
    "my_decorator(another_func)()"
   ]
  },
  {
   "cell_type": "markdown",
   "metadata": {
    "slideshow": {
     "slide_type": "skip"
    }
   },
   "source": [
    "- The syntax of calling our decorator is not that readable\n",
    "- Instead, we use the `@` symbol as \"syntactic sugar\" to improve readability and reuseability of decorators"
   ]
  },
  {
   "cell_type": "code",
   "execution_count": 251,
   "metadata": {
    "slideshow": {
     "slide_type": "skip"
    }
   },
   "outputs": [],
   "source": [
    "@my_decorator\n",
    "def one_more_func():\n",
    "    print(\"One more function...\")"
   ]
  },
  {
   "cell_type": "code",
   "execution_count": null,
   "metadata": {
    "slideshow": {
     "slide_type": "skip"
    }
   },
   "outputs": [],
   "source": [
    "one_more_func()"
   ]
  },
  {
   "cell_type": "markdown",
   "metadata": {
    "slideshow": {
     "slide_type": "skip"
    }
   },
   "source": [
    "- Okay, let's make something a little more useful\n",
    "- We will create a decorator that times the execution time of any arbitrary function"
   ]
  },
  {
   "cell_type": "code",
   "execution_count": 253,
   "metadata": {
    "slideshow": {
     "slide_type": "skip"
    }
   },
   "outputs": [],
   "source": [
    "import time  # import the time module, we'll learn about imports next lecture\n",
    "\n",
    "\n",
    "def timer(my_function):  # the decorator\n",
    "\n",
    "    def wrapper():  # the added functionality\n",
    "        t1 = time.time()\n",
    "        result = my_function()  # the original function\n",
    "        t2 = time.time()\n",
    "        print(f\"{my_function.__name__} ran in {t2 - t1:.3f} sec\")  # print the execution time\n",
    "        return result\n",
    "    return wrapper"
   ]
  },
  {
   "cell_type": "code",
   "execution_count": 254,
   "metadata": {
    "slideshow": {
     "slide_type": "skip"
    }
   },
   "outputs": [],
   "source": [
    "@timer\n",
    "def silly_function():\n",
    "    for i in range(10_000_000):\n",
    "        if (i % 1_000_000) == 0:\n",
    "            print(i)\n",
    "        else:\n",
    "            pass"
   ]
  },
  {
   "cell_type": "code",
   "execution_count": null,
   "metadata": {
    "slideshow": {
     "slide_type": "skip"
    }
   },
   "outputs": [],
   "source": [
    "silly_function()"
   ]
  },
  {
   "cell_type": "markdown",
   "metadata": {
    "slideshow": {
     "slide_type": "skip"
    }
   },
   "source": [
    "- Python's built-in decorators like `classmethod` and `staticmethod` are coded in C so I'm not showing them here\n",
    "- You may not often create your own decorators, but many built-in can come in handy!"
   ]
  },
  {
   "cell_type": "markdown",
   "metadata": {
    "slideshow": {
     "slide_type": "skip"
    }
   },
   "source": [
    "### (OPTIONAL) Getters/setters/deleters\n",
    "\n",
    "- There's one more import topic to talk about with Python classes and that is getters/setters/deleters\n",
    "- (You might be familiar with these terms coming from other OOP languages)\n",
    "- The necessity for these actions is best illustrated by example\n",
    "- Here's a stripped down version of the `MdsMember` class from earlier"
   ]
  },
  {
   "cell_type": "code",
   "execution_count": 256,
   "metadata": {
    "slideshow": {
     "slide_type": "skip"
    }
   },
   "outputs": [],
   "source": [
    "class MdsMember:\n",
    "    \n",
    "    def __init__(self, first, last):\n",
    "        self.first = first\n",
    "        self.last = last\n",
    "        self.initials = (first[0] + last[0]).upper()\n",
    "        \n",
    "    def full_name(self):\n",
    "        return f\"{self.first} {self.last}\""
   ]
  },
  {
   "cell_type": "code",
   "execution_count": null,
   "metadata": {
    "slideshow": {
     "slide_type": "skip"
    }
   },
   "outputs": [],
   "source": [
    "mds_1 = MdsMember('Quan', 'Nguyen')\n",
    "print(mds_1.first)\n",
    "print(mds_1.last)\n",
    "print(mds_1.initials)\n",
    "print(mds_1.full_name())"
   ]
  },
  {
   "cell_type": "markdown",
   "metadata": {
    "slideshow": {
     "slide_type": "skip"
    }
   },
   "source": [
    "- Imagine that I mis-spelled the name of this class instance and wanted to correct it\n",
    "- Watch what happens..."
   ]
  },
  {
   "cell_type": "code",
   "execution_count": null,
   "metadata": {
    "slideshow": {
     "slide_type": "skip"
    }
   },
   "outputs": [],
   "source": [
    "mds_1.first = 'Juan'\n",
    "print(mds_1.first)\n",
    "print(mds_1.last)\n",
    "print(mds_1.initials)\n",
    "print(mds_1.full_name())"
   ]
  },
  {
   "cell_type": "markdown",
   "metadata": {
    "slideshow": {
     "slide_type": "skip"
    }
   },
   "source": [
    "- Uh oh... the initials didn't update with the new first name!\n",
    "- We didn't have this problem with the `full_name()` method because it just calls the current `first` and `last` name\n",
    "- You might think that the best thing to do here is to create a method for `initials()` like we have for `full_name()`\n",
    "- But this is bad coding for a variety of reasons, for example it means that users of your code will have to change every reference to the `initials` attribute to a call to the `initials()` method. We'd call that a breaking change to our software and we want to avoid that where possible.\n",
    "- What we can do instead, is define our `initials` like a method, but keep it as an attribute using the `@property` decorator"
   ]
  },
  {
   "cell_type": "code",
   "execution_count": 259,
   "metadata": {
    "slideshow": {
     "slide_type": "skip"
    }
   },
   "outputs": [],
   "source": [
    "class MdsMember:\n",
    "    \n",
    "    def __init__(self, first, last):\n",
    "        self.first = first\n",
    "        self.last = last\n",
    "        \n",
    "    def full_name(self):\n",
    "        return f\"{self.first} {self.last}\"\n",
    "    \n",
    "    @property\n",
    "    def initials(self):\n",
    "        return (self.first[0] + self.last[0]).upper()"
   ]
  },
  {
   "cell_type": "code",
   "execution_count": null,
   "metadata": {
    "slideshow": {
     "slide_type": "skip"
    }
   },
   "outputs": [],
   "source": [
    "mds_1 = MdsMember('Quan', 'Nguyen')\n",
    "mds_1.first = 'Juan'\n",
    "print(mds_1.first)\n",
    "print(mds_1.last)\n",
    "print(mds_1.initials)\n",
    "print(mds_1.full_name())"
   ]
  },
  {
   "cell_type": "markdown",
   "metadata": {
    "slideshow": {
     "slide_type": "skip"
    }
   },
   "source": [
    "- We could do the same with the `full_name()` method if we wanted to..."
   ]
  },
  {
   "cell_type": "code",
   "execution_count": 261,
   "metadata": {
    "slideshow": {
     "slide_type": "skip"
    }
   },
   "outputs": [],
   "source": [
    "class MdsMember:\n",
    "    \n",
    "    def __init__(self, first, last):\n",
    "        self.first = first\n",
    "        self.last = last\n",
    "    \n",
    "    @property\n",
    "    def full_name(self):\n",
    "        return f\"{self.first} {self.last}\"\n",
    "    \n",
    "    @property\n",
    "    def initials(self):\n",
    "        return (self.first[0] + self.last[0]).upper()"
   ]
  },
  {
   "cell_type": "code",
   "execution_count": null,
   "metadata": {
    "slideshow": {
     "slide_type": "skip"
    }
   },
   "outputs": [],
   "source": [
    "mds_1 = MdsMember('Juan', 'Nguyen')\n",
    "mds_1.full_name"
   ]
  },
  {
   "cell_type": "markdown",
   "metadata": {
    "slideshow": {
     "slide_type": "skip"
    }
   },
   "source": [
    "- But what happens if we instead want to make a change to the full name now?"
   ]
  },
  {
   "cell_type": "code",
   "execution_count": null,
   "metadata": {
    "slideshow": {
     "slide_type": "skip"
    },
    "tags": [
     "raises-exception"
    ]
   },
   "outputs": [],
   "source": [
    "mds_1.full_name = 'Quan Nguyen'"
   ]
  },
  {
   "cell_type": "markdown",
   "metadata": {
    "slideshow": {
     "slide_type": "skip"
    }
   },
   "source": [
    "- We get an error...\n",
    "- Our class instance doesn't know what to do with the value it was passed\n",
    "- Ideally, we'd like our class instance to use this full name information to update `self.first` and `self.last`\n",
    "- To handle this action, we need a `setter`, defined using the decorator `@<attribute>.setter`"
   ]
  },
  {
   "cell_type": "code",
   "execution_count": 264,
   "metadata": {
    "slideshow": {
     "slide_type": "skip"
    }
   },
   "outputs": [],
   "source": [
    "class MdsMember:\n",
    "    \n",
    "    def __init__(self, first, last):\n",
    "        self.first = first\n",
    "        self.last = last\n",
    "    \n",
    "    @property\n",
    "    def full_name(self):\n",
    "        return f\"{self.first} {self.last}\"\n",
    "    \n",
    "    @full_name.setter\n",
    "    def full_name(self, name):\n",
    "        first, last = name.split(' ')\n",
    "        self.first = first\n",
    "        self.last = last\n",
    "    \n",
    "    @property\n",
    "    def initials(self):\n",
    "        return (self.first[0] + self.last[0]).upper()"
   ]
  },
  {
   "cell_type": "code",
   "execution_count": null,
   "metadata": {
    "slideshow": {
     "slide_type": "skip"
    }
   },
   "outputs": [],
   "source": [
    "mds_1 = MdsMember('Quan', 'Nguyen')\n",
    "mds_1.full_name = 'Juan Nguyen'\n",
    "print(mds_1.first)\n",
    "print(mds_1.last)\n",
    "print(mds_1.initials)\n",
    "print(mds_1.full_name)"
   ]
  },
  {
   "cell_type": "markdown",
   "metadata": {
    "slideshow": {
     "slide_type": "skip"
    }
   },
   "source": [
    "- Almost there! We've talked about getting information and setting information, but what about deleting information?\n",
    "- This is typically used to do some clean up and is defined with the `@<attribute>.deleter` decorator\n",
    "- I rarely use this method but I want you to see it"
   ]
  },
  {
   "cell_type": "code",
   "execution_count": 266,
   "metadata": {
    "slideshow": {
     "slide_type": "skip"
    }
   },
   "outputs": [],
   "source": [
    "class MdsMember:\n",
    "    \n",
    "    def __init__(self, first, last):\n",
    "        self.first = first\n",
    "        self.last = last\n",
    "    \n",
    "    @property\n",
    "    def full_name(self):\n",
    "        return f\"{self.first} {self.last}\"\n",
    "    \n",
    "    @full_name.setter\n",
    "    def full_name(self, name):\n",
    "        first, last = name.split(' ')\n",
    "        self.first = first\n",
    "        self.last = last\n",
    "        \n",
    "    @full_name.deleter\n",
    "    def full_name(self):\n",
    "        print('Name deleted!')\n",
    "        self.first = None\n",
    "        self.last = None\n",
    "    \n",
    "    @property\n",
    "    def initials(self):\n",
    "        return (self.first[0] + self.last[0]).upper()"
   ]
  },
  {
   "cell_type": "code",
   "execution_count": null,
   "metadata": {
    "slideshow": {
     "slide_type": "skip"
    }
   },
   "outputs": [],
   "source": [
    "mds_1 = MdsMember('Quan', 'Nguyen')\n",
    "delattr(mds_1, \"full_name\")\n",
    "print(mds_1.first)\n",
    "print(mds_1.last)"
   ]
  },
  {
   "cell_type": "code",
   "execution_count": null,
   "metadata": {},
   "outputs": [],
   "source": []
  }
 ],
 "metadata": {
  "anaconda-cloud": {},
  "celltoolbar": "Slideshow",
  "kernelspec": {
   "display_name": "Python 3 (ipykernel)",
   "language": "python",
   "name": "python3"
  },
  "language_info": {
   "codemirror_mode": {
    "name": "ipython",
    "version": 3
   },
   "file_extension": ".py",
   "mimetype": "text/x-python",
   "name": "python",
   "nbconvert_exporter": "python",
   "pygments_lexer": "ipython3",
   "version": "3.11.9"
  },
  "toc": {
   "base_numbering": 1,
   "nav_menu": {},
   "number_sections": false,
   "sideBar": true,
   "skip_h1_title": true,
   "title_cell": "Table of Contents",
   "title_sidebar": "Contents",
   "toc_cell": true,
   "toc_position": {},
   "toc_section_display": true,
   "toc_window_display": true
  }
 },
 "nbformat": 4,
 "nbformat_minor": 4
}
