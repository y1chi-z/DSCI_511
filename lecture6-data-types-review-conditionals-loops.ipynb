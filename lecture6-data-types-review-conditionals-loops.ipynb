{
 "cells": [
  {
   "cell_type": "markdown",
   "metadata": {
    "slideshow": {
     "slide_type": "slide"
    }
   },
   "source": [
    "<img src=\"img/dsci511_header.png\" width=\"600\">"
   ]
  },
  {
   "cell_type": "markdown",
   "metadata": {
    "tags": []
   },
   "source": [
    "# Lecture 6: Review of data types, conditionals and iteration"
   ]
  },
  {
   "cell_type": "markdown",
   "metadata": {
    "tags": []
   },
   "source": [
    "## Lecture learning objectives"
   ]
  },
  {
   "cell_type": "markdown",
   "metadata": {
    "tags": []
   },
   "source": [
    "- Create, describe and differentiate standard Python data types such as `int`, `float`, `string`, `list`, `dict`, `tuple`, etc.\n",
    "- Explain the difference between mutable objects like a list and immutable objects like a tuple\n",
    "- Assign, index, slice and subset values to and from tuples, lists, strings and dictionaries\n",
    "- Write a conditional statement with `if`, `elif` and `else`\n",
    "- Identify code blocks by levels of indentation\n",
    "- Write for and while loops in Python\n",
    "- Identify iterable data types which can be used in for loops\n",
    "- Create a list, dictionary, or set using comprehension"
   ]
  },
  {
   "cell_type": "markdown",
   "metadata": {
    "slideshow": {
     "slide_type": "slide"
    }
   },
   "source": [
    "## Common built-in Python data types"
   ]
  },
  {
   "cell_type": "markdown",
   "metadata": {},
   "source": [
    "| English name          | Type name  | Type Category  | Description                                   | Example                                    |\n",
    "| :-------------------- | :--------- | :------------- | :-------------------------------------------- | :----------------------------------------- |\n",
    "| integer               | `int`      | Numeric Type   | positive/negative whole numbers               | `42`                                       |\n",
    "| floating point number | `float`    | Numeric Type   | real number in decimal form                   | `3.14159`                                  |\n",
    "| boolean               | `bool`     | Boolean Values | true or false                                 | `True`                                     |\n",
    "| string                | `str`      | Sequence Type  | text                                          | `\"Can I have a cheezburger?\"`              |\n",
    "| list                  | `list`     | Sequence Type  | a collection of objects - mutable & ordered   | `['Ali', 'Xinyi', 'Miriam']`               |\n",
    "| tuple                 | `tuple`    | Sequence Type  | a collection of objects - immutable & ordered | `('Thursday', 6, 9, 2018)`                 |\n",
    "| dictionary            | `dict`     | Mapping Type   | mapping of key-value pairs - mutable & ordered                   | `{'name':'DSCI', 'code':511, 'credits':2}` |\n",
    "| none                  | `None` | Null Object    | represents no value                           | `None`                                     |"
   ]
  },
  {
   "cell_type": "markdown",
   "metadata": {
    "slideshow": {
     "slide_type": "slide"
    }
   },
   "source": [
    "### Numeric data types"
   ]
  },
  {
   "cell_type": "markdown",
   "metadata": {},
   "source": [
    "- There are three distinct numeric types: **integers**, **floating point numbers**, and **complex numbers** (not covered here)\n",
    "- We can determine the type of an object in Python using `type()`\n",
    "- We can print the value of the object using `print()`"
   ]
  },
  {
   "cell_type": "code",
   "execution_count": null,
   "metadata": {
    "slideshow": {
     "slide_type": "notes"
    }
   },
   "outputs": [],
   "source": [
    "x = 42"
   ]
  },
  {
   "cell_type": "code",
   "execution_count": null,
   "metadata": {
    "slideshow": {
     "slide_type": "notes"
    }
   },
   "outputs": [],
   "source": [
    "type(x)"
   ]
  },
  {
   "cell_type": "code",
   "execution_count": null,
   "metadata": {
    "slideshow": {
     "slide_type": "notes"
    }
   },
   "outputs": [],
   "source": [
    "print(x)"
   ]
  },
  {
   "cell_type": "markdown",
   "metadata": {
    "slideshow": {
     "slide_type": "notes"
    }
   },
   "source": [
    "> With IPython, we don't need to explicitly use `print()` to see the content of a variable:"
   ]
  },
  {
   "cell_type": "code",
   "execution_count": null,
   "metadata": {
    "slideshow": {
     "slide_type": "notes"
    }
   },
   "outputs": [],
   "source": [
    "x"
   ]
  },
  {
   "cell_type": "code",
   "execution_count": null,
   "metadata": {
    "slideshow": {
     "slide_type": "notes"
    }
   },
   "outputs": [],
   "source": [
    "pi = 3.14159"
   ]
  },
  {
   "cell_type": "code",
   "execution_count": null,
   "metadata": {
    "slideshow": {
     "slide_type": "notes"
    }
   },
   "outputs": [],
   "source": [
    "print(pi)"
   ]
  },
  {
   "cell_type": "code",
   "execution_count": null,
   "metadata": {
    "slideshow": {
     "slide_type": "notes"
    }
   },
   "outputs": [],
   "source": [
    "type(pi)"
   ]
  },
  {
   "cell_type": "markdown",
   "metadata": {
    "slideshow": {
     "slide_type": "slide"
    },
    "tags": []
   },
   "source": [
    "### Arithmetic operators"
   ]
  },
  {
   "cell_type": "markdown",
   "metadata": {
    "tags": []
   },
   "source": [
    "- The syntax for the common arithmetic operators are:\n",
    "\n",
    "| Operator |   Description    |\n",
    "| :------: | :--------------: |\n",
    "|   `+`    |     addition     |\n",
    "|   `-`    |   subtraction    |\n",
    "|   `*`    |  multiplication  |\n",
    "|   `/`    |     division     |\n",
    "|   `**`   |  exponentiation  |\n",
    "|   `//`   | integer division / floor division |\n",
    "|   `%`    |      modulo      |\n",
    "\n",
    "- Let's apply these operators to numeric types and observe the results:"
   ]
  },
  {
   "cell_type": "markdown",
   "metadata": {
    "slideshow": {
     "slide_type": "slide"
    }
   },
   "source": [
    "#### Addition\n",
    "\n",
    "The `+` operator can be used to add two numbers together:\n",
    "\n"
   ]
  },
  {
   "cell_type": "code",
   "execution_count": null,
   "metadata": {},
   "outputs": [],
   "source": []
  },
  {
   "cell_type": "code",
   "execution_count": null,
   "metadata": {
    "slideshow": {
     "slide_type": "notes"
    }
   },
   "outputs": [],
   "source": [
    "x = 2\n",
    "y = 3\n",
    "z = x + y\n",
    "print(z)  # Output: 5"
   ]
  },
  {
   "cell_type": "markdown",
   "metadata": {
    "slideshow": {
     "slide_type": "slide"
    }
   },
   "source": [
    "\n",
    "\n",
    "#### Subtraction\n",
    "\n",
    "The `-` operator can be used to subtract one number from another:\n",
    "\n"
   ]
  },
  {
   "cell_type": "code",
   "execution_count": null,
   "metadata": {},
   "outputs": [],
   "source": []
  },
  {
   "cell_type": "code",
   "execution_count": null,
   "metadata": {
    "slideshow": {
     "slide_type": "notes"
    }
   },
   "outputs": [],
   "source": [
    "x = 5\n",
    "y = 3\n",
    "z = x - y\n",
    "print(z)  # Output: 2"
   ]
  },
  {
   "cell_type": "markdown",
   "metadata": {
    "slideshow": {
     "slide_type": "slide"
    }
   },
   "source": [
    "#### Multiplication\n",
    "\n",
    "The `*` operator can be used to multiply two numbers together:\n",
    "\n"
   ]
  },
  {
   "cell_type": "code",
   "execution_count": null,
   "metadata": {},
   "outputs": [],
   "source": []
  },
  {
   "cell_type": "code",
   "execution_count": null,
   "metadata": {
    "slideshow": {
     "slide_type": "notes"
    }
   },
   "outputs": [],
   "source": [
    "x = 2\n",
    "y = 3\n",
    "z = x * y\n",
    "print(z)  # Output: 6"
   ]
  },
  {
   "cell_type": "markdown",
   "metadata": {
    "slideshow": {
     "slide_type": "slide"
    }
   },
   "source": [
    "#### Division\n",
    "\n",
    "The `/` operator can be used to divide one number by another:\n",
    "\n"
   ]
  },
  {
   "cell_type": "code",
   "execution_count": null,
   "metadata": {},
   "outputs": [],
   "source": []
  },
  {
   "cell_type": "code",
   "execution_count": null,
   "metadata": {
    "slideshow": {
     "slide_type": "notes"
    }
   },
   "outputs": [],
   "source": [
    "x = 6\n",
    "y = 3\n",
    "z = x / y\n",
    "print(z)  # Output: 2.0"
   ]
  },
  {
   "cell_type": "markdown",
   "metadata": {
    "slideshow": {
     "slide_type": "fragment"
    }
   },
   "source": [
    "\n",
    "\n",
    "Note that the result of division is a floating-point number, even if both operands are integers.\n"
   ]
  },
  {
   "cell_type": "code",
   "execution_count": null,
   "metadata": {
    "slideshow": {
     "slide_type": "fragment"
    }
   },
   "outputs": [],
   "source": [
    "type(4/2)"
   ]
  },
  {
   "cell_type": "markdown",
   "metadata": {
    "slideshow": {
     "slide_type": "slide"
    }
   },
   "source": [
    "\n",
    "#### Floor Division\n",
    "\n",
    "The `//` operator can be used to perform floor division, which returns the largest integer that is less than or equal to the result of the division:\n",
    "\n"
   ]
  },
  {
   "cell_type": "code",
   "execution_count": null,
   "metadata": {},
   "outputs": [],
   "source": []
  },
  {
   "cell_type": "code",
   "execution_count": null,
   "metadata": {
    "slideshow": {
     "slide_type": "notes"
    }
   },
   "outputs": [],
   "source": [
    "x = 7\n",
    "y = 3\n",
    "z = x // y\n",
    "print(z)  # Output: 2"
   ]
  },
  {
   "cell_type": "markdown",
   "metadata": {
    "slideshow": {
     "slide_type": "slide"
    }
   },
   "source": [
    "\n",
    "\n",
    "#### Modulo\n",
    "\n",
    "The `%` operator can be used to compute the remainder of division:\n",
    "\n"
   ]
  },
  {
   "cell_type": "code",
   "execution_count": null,
   "metadata": {},
   "outputs": [],
   "source": []
  },
  {
   "cell_type": "code",
   "execution_count": null,
   "metadata": {
    "slideshow": {
     "slide_type": "notes"
    }
   },
   "outputs": [],
   "source": [
    "x = 7\n",
    "y = 3\n",
    "z = x % y\n",
    "print(z)  # Output: 1"
   ]
  },
  {
   "cell_type": "markdown",
   "metadata": {
    "slideshow": {
     "slide_type": "slide"
    }
   },
   "source": [
    "#### Exponentiation\n",
    "\n",
    "The `**` operator can be used to raise a number to a power:\n",
    "\n"
   ]
  },
  {
   "cell_type": "code",
   "execution_count": null,
   "metadata": {},
   "outputs": [],
   "source": []
  },
  {
   "cell_type": "code",
   "execution_count": null,
   "metadata": {
    "slideshow": {
     "slide_type": "notes"
    }
   },
   "outputs": [],
   "source": [
    "x = 2\n",
    "y = 3\n",
    "z = x ** y\n",
    "print(z)  # Output: 8"
   ]
  },
  {
   "cell_type": "markdown",
   "metadata": {
    "slideshow": {
     "slide_type": "slide"
    }
   },
   "source": [
    "#### Floating-Point Arithmetic in Python\n",
    "\n",
    "In Python, floating-point numbers are represented using a finite number of bits, which means that they can only approximate real numbers. This can lead to rounding errors when performing arithmetic operations with floating-point numbers.\n",
    "\n",
    "For example, consider the following code:\n",
    "\n"
   ]
  },
  {
   "cell_type": "code",
   "execution_count": null,
   "metadata": {},
   "outputs": [],
   "source": []
  },
  {
   "cell_type": "code",
   "execution_count": null,
   "metadata": {
    "slideshow": {
     "slide_type": "notes"
    }
   },
   "outputs": [],
   "source": [
    "x = 0.1\n",
    "y = 0.2\n",
    "z = x + y\n",
    "print(z == 0.3)  # Output: False"
   ]
  },
  {
   "cell_type": "markdown",
   "metadata": {
    "slideshow": {
     "slide_type": "fragment"
    }
   },
   "source": [
    "> Whoops! What is this? Why is `0.1 + 0.2` not exactly equal to `0.3`? Read more about it [here](https://lemire.me/blog/2020/10/10/why-is-0-1-0-2-not-equal-to-0-3/)"
   ]
  },
  {
   "cell_type": "code",
   "execution_count": null,
   "metadata": {
    "slideshow": {
     "slide_type": "notes"
    }
   },
   "outputs": [],
   "source": [
    "print(x)\n",
    "print(y)\n",
    "print(z)"
   ]
  },
  {
   "cell_type": "markdown",
   "metadata": {
    "slideshow": {
     "slide_type": "notes"
    }
   },
   "source": [
    "\n",
    "\n",
    "In this code, we would expect `z` to be equal to `0.3`, since `0.1 + 0.2` is equal to `0.3`. However, the output of the code is `False`.\n",
    "\n",
    "This is because `0.1` and `0.2` cannot be represented exactly as floating-point numbers. When we add them together, the result is a floating-point number that is close to, but not exactly equal to, `0.3`. When we compare this result to `0.3`, the comparison returns `False`.\n",
    "\n",
    "To avoid rounding errors when working with floating-point numbers, it is important to be aware of the limitations of floating-point arithmetic and to use appropriate methods for comparing floating-point numbers. One common method is to use a tolerance value, which specifies how close two floating-point numbers must be to be considered equal.\n",
    "\n",
    "For example, we could us np.isclose() function with a tolerance value of `1e-9`:\n",
    "\n"
   ]
  },
  {
   "cell_type": "code",
   "execution_count": null,
   "metadata": {
    "slideshow": {
     "slide_type": "fragment"
    }
   },
   "outputs": [],
   "source": [
    "import numpy as np\n",
    "\n",
    "x = 0.1\n",
    "y = 0.2\n",
    "z = x + y\n",
    "tolerance = 1e-9\n",
    "np.isclose(z, 0.3, atol=tolerance)"
   ]
  },
  {
   "cell_type": "markdown",
   "metadata": {
    "slideshow": {
     "slide_type": "slide"
    }
   },
   "source": [
    "Default order of operations:\n",
    "\n",
    "1. Parentheses\n",
    "1. Exponentiation\n",
    "1. Multiplication\n",
    "1. Division\n",
    "1. Addition\n",
    "1. Subtraction."
   ]
  },
  {
   "cell_type": "markdown",
   "metadata": {
    "slideshow": {
     "slide_type": "-"
    }
   },
   "source": [
    "- What is the result of the following calculation?"
   ]
  },
  {
   "cell_type": "code",
   "execution_count": null,
   "metadata": {
    "slideshow": {
     "slide_type": "-"
    }
   },
   "outputs": [],
   "source": [
    "34 + 10 / 2 * (2 - 3)"
   ]
  },
  {
   "cell_type": "markdown",
   "metadata": {
    "slideshow": {
     "slide_type": "notes"
    }
   },
   "source": [
    "In this code, we use the `np.isclose()` function to compare `z` and `0.3` with a tolerance value of `1e-9`. If the absolute difference between `z` and `0.3` is less than or equal to the tolerance value, the comparison returns `True`."
   ]
  },
  {
   "cell_type": "markdown",
   "metadata": {
    "slideshow": {
     "slide_type": "notes"
    }
   },
   "source": [
    "By using appropriate methods for comparing floating-point numbers, we can avoid many of the rounding errors that can occur when working with floating-point arithmetic in Python."
   ]
  },
  {
   "cell_type": "markdown",
   "metadata": {
    "slideshow": {
     "slide_type": "slide"
    }
   },
   "source": [
    "### None"
   ]
  },
  {
   "cell_type": "markdown",
   "metadata": {},
   "source": [
    "- `NoneType` is its own type in Python.\n",
    "- It only has one possible value, `None` - it represents an object with no value"
   ]
  },
  {
   "cell_type": "code",
   "execution_count": null,
   "metadata": {
    "slideshow": {
     "slide_type": "-"
    }
   },
   "outputs": [],
   "source": [
    "x = None"
   ]
  },
  {
   "cell_type": "code",
   "execution_count": null,
   "metadata": {
    "slideshow": {
     "slide_type": "notes"
    }
   },
   "outputs": [],
   "source": [
    "print(x)"
   ]
  },
  {
   "cell_type": "code",
   "execution_count": null,
   "metadata": {
    "slideshow": {
     "slide_type": "notes"
    }
   },
   "outputs": [],
   "source": [
    "type(x)"
   ]
  },
  {
   "cell_type": "markdown",
   "metadata": {
    "slideshow": {
     "slide_type": "skip"
    }
   },
   "source": [
    "- You may have seen similar things in other languages, like `null` in Java, etc.\n",
    "\n",
    "> Note: `None` is related to `NaN`, but there are some key differences. In particular Stands for \"Not a Number\" and is used specifically in numerical contexts to represent undefined or unrepresentable numbers, such as the result of `0/0`. It is a floating-point value and belongs to the float type (from the `math` module or `numpy` library). Other interesting things to note are the differnece in comparisons; `None == None` returns `True`, while `numpy.nan == math.nan == math.nan .nan` returns `False`."
   ]
  },
  {
   "cell_type": "markdown",
   "metadata": {
    "slideshow": {
     "slide_type": "slide"
    }
   },
   "source": [
    "### Comparison operators"
   ]
  },
  {
   "cell_type": "markdown",
   "metadata": {},
   "source": [
    "- Compare objects using comparison operators, with a Boolean result:\n",
    "\n",
    "| Operator  | Description                          |\n",
    "| :-------- | :----------------------------------- |\n",
    "| `x == y ` | is `x` equal to `y`?                 |\n",
    "| `x != y`  | is `x` not equal to `y`?             |\n",
    "| `x > y`   | is `x` greater than `y`?             |\n",
    "| `x >= y`  | is `x` greater than or equal to `y`? |\n",
    "| `x < y`   | is `x` less than `y`?                |\n",
    "| `x <= y`  | is `x` less than or equal to `y`?    |\n",
    "| `x is y`  | is `x` the same object as `y`?       |"
   ]
  },
  {
   "cell_type": "code",
   "execution_count": null,
   "metadata": {
    "slideshow": {
     "slide_type": "notes"
    }
   },
   "outputs": [],
   "source": [
    "2 < 3"
   ]
  },
  {
   "cell_type": "code",
   "execution_count": null,
   "metadata": {
    "slideshow": {
     "slide_type": "notes"
    }
   },
   "outputs": [],
   "source": [
    "\"Deep learning\" == \"Solve all the world's problems\""
   ]
  },
  {
   "cell_type": "code",
   "execution_count": null,
   "metadata": {
    "slideshow": {
     "slide_type": "notes"
    }
   },
   "outputs": [],
   "source": [
    "2 != \"2\""
   ]
  },
  {
   "cell_type": "markdown",
   "metadata": {
    "slideshow": {
     "slide_type": "slide"
    }
   },
   "source": [
    "`is` versus `==`"
   ]
  },
  {
   "cell_type": "code",
   "execution_count": null,
   "metadata": {
    "slideshow": {
     "slide_type": "-"
    }
   },
   "outputs": [],
   "source": [
    "2 is 2"
   ]
  },
  {
   "cell_type": "code",
   "execution_count": null,
   "metadata": {
    "slideshow": {
     "slide_type": "fragment"
    }
   },
   "outputs": [],
   "source": [
    "2 == 2.0"
   ]
  },
  {
   "cell_type": "code",
   "execution_count": null,
   "metadata": {
    "slideshow": {
     "slide_type": "fragment"
    }
   },
   "outputs": [],
   "source": [
    "2 is 2.0"
   ]
  },
  {
   "cell_type": "markdown",
   "metadata": {
    "slideshow": {
     "slide_type": "notes"
    }
   },
   "source": [
    "In Python, the `is` operator and the `==` operator are used to compare objects, but they have different meanings."
   ]
  },
  {
   "cell_type": "markdown",
   "metadata": {
    "slideshow": {
     "slide_type": "fragment"
    }
   },
   "source": [
    "The `is` operator checks if two variables refer to the same object in memory.\n",
    "\n",
    "On the other hand, the `==` operator checks if two variables have the same value. "
   ]
  },
  {
   "cell_type": "markdown",
   "metadata": {
    "slideshow": {
     "slide_type": "notes"
    }
   },
   "source": [
    "In the case of `2 == 2.0`, the `==` operator checks if the values of `2` and `2.0` are the same. Since `2` and `2.0` have the same numerical value, the comparison returns `True`.\n",
    "\n",
    "However, if we use the `is` operator to compare `2` and `2.0`, the comparison will return `False`. This is because `2` and `2.0` are not the same object in memory, even though they have the same value."
   ]
  },
  {
   "cell_type": "code",
   "execution_count": null,
   "metadata": {
    "slideshow": {
     "slide_type": "fragment"
    }
   },
   "outputs": [],
   "source": [
    "# check the location of an object in memory\n",
    "id(2)"
   ]
  },
  {
   "cell_type": "code",
   "execution_count": null,
   "metadata": {
    "slideshow": {
     "slide_type": "fragment"
    }
   },
   "outputs": [],
   "source": [
    "# check the location of an object in memory\n",
    "id(2.0)"
   ]
  },
  {
   "cell_type": "markdown",
   "metadata": {
    "slideshow": {
     "slide_type": "slide"
    }
   },
   "source": [
    "### Boolean\n",
    "\n",
    "- The Boolean (`bool`) type has two values: `True` and `False`. \n",
    "- They are pretty self-explanatory and are constant objects in Python (they always exist)."
   ]
  },
  {
   "cell_type": "code",
   "execution_count": null,
   "metadata": {
    "slideshow": {
     "slide_type": "-"
    }
   },
   "outputs": [],
   "source": [
    "the_truth = True"
   ]
  },
  {
   "cell_type": "code",
   "execution_count": null,
   "metadata": {
    "slideshow": {
     "slide_type": "notes"
    }
   },
   "outputs": [],
   "source": [
    "print(the_truth)"
   ]
  },
  {
   "cell_type": "code",
   "execution_count": null,
   "metadata": {
    "slideshow": {
     "slide_type": "notes"
    }
   },
   "outputs": [],
   "source": [
    "type(the_truth)"
   ]
  },
  {
   "cell_type": "code",
   "execution_count": null,
   "metadata": {
    "slideshow": {
     "slide_type": "notes"
    }
   },
   "outputs": [],
   "source": [
    "lies = False"
   ]
  },
  {
   "cell_type": "code",
   "execution_count": null,
   "metadata": {
    "slideshow": {
     "slide_type": "notes"
    }
   },
   "outputs": [],
   "source": [
    "print(lies)"
   ]
  },
  {
   "cell_type": "code",
   "execution_count": null,
   "metadata": {
    "slideshow": {
     "slide_type": "notes"
    }
   },
   "outputs": [],
   "source": [
    "type(lies)"
   ]
  },
  {
   "cell_type": "markdown",
   "metadata": {
    "slideshow": {
     "slide_type": "slide"
    }
   },
   "source": [
    "### Boolean operators"
   ]
  },
  {
   "cell_type": "markdown",
   "metadata": {},
   "source": [
    "- Evaluates to either `True` or `False`:\n",
    "\n",
    "| Operator | Description |\n",
    "| :---: | :--- |\n",
    "|`x and y`| are `x` and `y` both True? |\n",
    "|`x or y` | is at least one of `x` and `y` True? |\n",
    "| `not x` | is `x` False? | "
   ]
  },
  {
   "cell_type": "code",
   "execution_count": null,
   "metadata": {
    "slideshow": {
     "slide_type": "notes"
    }
   },
   "outputs": [],
   "source": [
    "True and True"
   ]
  },
  {
   "cell_type": "code",
   "execution_count": null,
   "metadata": {
    "slideshow": {
     "slide_type": "notes"
    }
   },
   "outputs": [],
   "source": [
    "True and False"
   ]
  },
  {
   "cell_type": "code",
   "execution_count": null,
   "metadata": {
    "slideshow": {
     "slide_type": "notes"
    }
   },
   "outputs": [],
   "source": [
    "True or False"
   ]
  },
  {
   "cell_type": "code",
   "execution_count": null,
   "metadata": {
    "slideshow": {
     "slide_type": "notes"
    }
   },
   "outputs": [],
   "source": [
    "False or False"
   ]
  },
  {
   "cell_type": "code",
   "execution_count": null,
   "metadata": {
    "slideshow": {
     "slide_type": "-"
    }
   },
   "outputs": [],
   "source": [
    "('Python 2' != 'Python 3') and (2 <= 3)"
   ]
  },
  {
   "cell_type": "code",
   "execution_count": null,
   "metadata": {
    "slideshow": {
     "slide_type": "notes"
    }
   },
   "outputs": [],
   "source": [
    "True"
   ]
  },
  {
   "cell_type": "code",
   "execution_count": null,
   "metadata": {
    "slideshow": {
     "slide_type": "notes"
    }
   },
   "outputs": [],
   "source": [
    "not True"
   ]
  },
  {
   "cell_type": "code",
   "execution_count": null,
   "metadata": {
    "slideshow": {
     "slide_type": "notes"
    }
   },
   "outputs": [],
   "source": [
    "not not True"
   ]
  },
  {
   "cell_type": "markdown",
   "metadata": {
    "slideshow": {
     "slide_type": "slide"
    },
    "tags": []
   },
   "source": [
    "### Casting/Conversion"
   ]
  },
  {
   "cell_type": "markdown",
   "metadata": {
    "tags": []
   },
   "source": [
    "- Sometimes (but pretty rarely) we need to explicitly **cast** or **convert** a value from one type to another.\n",
    "- Python tries to do something reasonable, or throws an error if it has no ideas."
   ]
  },
  {
   "cell_type": "code",
   "execution_count": null,
   "metadata": {
    "slideshow": {
     "slide_type": "notes"
    }
   },
   "outputs": [],
   "source": [
    "x = 5.0\n",
    "type(x)"
   ]
  },
  {
   "cell_type": "code",
   "execution_count": null,
   "metadata": {
    "slideshow": {
     "slide_type": "notes"
    }
   },
   "outputs": [],
   "source": [
    "x = int(5.0)\n",
    "x"
   ]
  },
  {
   "cell_type": "code",
   "execution_count": null,
   "metadata": {
    "slideshow": {
     "slide_type": "notes"
    }
   },
   "outputs": [],
   "source": [
    "type(x)"
   ]
  },
  {
   "cell_type": "code",
   "execution_count": null,
   "metadata": {
    "slideshow": {
     "slide_type": "notes"
    }
   },
   "outputs": [],
   "source": [
    "type(5)"
   ]
  },
  {
   "cell_type": "code",
   "execution_count": null,
   "metadata": {
    "slideshow": {
     "slide_type": "notes"
    }
   },
   "outputs": [],
   "source": [
    "float(5)"
   ]
  },
  {
   "cell_type": "code",
   "execution_count": null,
   "metadata": {
    "slideshow": {
     "slide_type": "-"
    }
   },
   "outputs": [],
   "source": [
    "x = str(5.0)\n",
    "x"
   ]
  },
  {
   "cell_type": "code",
   "execution_count": null,
   "metadata": {
    "slideshow": {
     "slide_type": "notes"
    }
   },
   "outputs": [],
   "source": [
    "type(x)"
   ]
  },
  {
   "cell_type": "code",
   "execution_count": null,
   "metadata": {},
   "outputs": [],
   "source": [
    "str(5.0) == 5.0"
   ]
  },
  {
   "cell_type": "code",
   "execution_count": null,
   "metadata": {
    "slideshow": {
     "slide_type": "notes"
    }
   },
   "outputs": [],
   "source": [
    "int(5.3)"
   ]
  },
  {
   "cell_type": "code",
   "execution_count": null,
   "metadata": {
    "slideshow": {
     "slide_type": "fragment"
    },
    "tags": [
     "raises-exception"
    ]
   },
   "outputs": [],
   "source": [
    "float('hello')"
   ]
  },
  {
   "cell_type": "markdown",
   "metadata": {
    "slideshow": {
     "slide_type": "slide"
    }
   },
   "source": [
    "> Does `a // b` (floor division) do the same thing as `int(a / b)`?"
   ]
  },
  {
   "cell_type": "markdown",
   "metadata": {},
   "source": [
    "- `int()` merely takes away what comes after the decimal point, whereas `//` rounds down:"
   ]
  },
  {
   "cell_type": "code",
   "execution_count": null,
   "metadata": {},
   "outputs": [],
   "source": [
    "5 / 3"
   ]
  },
  {
   "cell_type": "code",
   "execution_count": null,
   "metadata": {},
   "outputs": [],
   "source": [
    "int(5 / 3)"
   ]
  },
  {
   "cell_type": "code",
   "execution_count": null,
   "metadata": {
    "slideshow": {
     "slide_type": "skip"
    }
   },
   "outputs": [],
   "source": [
    "int(-5 / 3)"
   ]
  },
  {
   "cell_type": "code",
   "execution_count": null,
   "metadata": {
    "slideshow": {
     "slide_type": "skip"
    }
   },
   "outputs": [],
   "source": [
    "5 // 3"
   ]
  },
  {
   "cell_type": "code",
   "execution_count": null,
   "metadata": {
    "slideshow": {
     "slide_type": "skip"
    }
   },
   "outputs": [],
   "source": [
    "-5 // 3"
   ]
  },
  {
   "cell_type": "markdown",
   "metadata": {
    "slideshow": {
     "slide_type": "slide"
    }
   },
   "source": [
    "## Strings\n",
    "\n",
    "Strings are a core data type in Python that represent sequences of characters. They are used to store text-based data, such as words, sentences, and more complex textual information.\n",
    "\n",
    "### Creating Strings\n",
    "\n",
    "Strings can be created using single quotes (`'`) or double quotes (`\"`)."
   ]
  },
  {
   "cell_type": "code",
   "execution_count": null,
   "metadata": {},
   "outputs": [],
   "source": [
    "single_quoted = 'Hello, World!'\n",
    "double_quoted = \"Python Programming\""
   ]
  },
  {
   "cell_type": "markdown",
   "metadata": {
    "slideshow": {
     "slide_type": "fragment"
    }
   },
   "source": [
    "- There's another way to prevent Python from interpreting `'` and `\"` as string delimiters\n",
    "- We can escape special characters—such as a `'`, which has a special meaning in Python—using `\\`:"
   ]
  },
  {
   "cell_type": "code",
   "execution_count": null,
   "metadata": {},
   "outputs": [],
   "source": [
    "print('It\\'s a rainy day.')"
   ]
  },
  {
   "cell_type": "markdown",
   "metadata": {
    "slideshow": {
     "slide_type": "slide"
    }
   },
   "source": [
    "### String Indexing and Slicing\n",
    "\n",
    "Strings can be accessed using indexes, allowing you to retrieve individual characters or subsequences.\n",
    "\n",
    "![](https://www.py4e.com/images/string.svg)\n",
    "Credit: Python 4 everyone"
   ]
  },
  {
   "cell_type": "code",
   "execution_count": null,
   "metadata": {},
   "outputs": [],
   "source": [
    "my_string = \"banana\"\n",
    "print(my_string[0])  # Output: 'P'\n",
    "print(my_string[1:4])  # Output: 'yth'"
   ]
  },
  {
   "cell_type": "markdown",
   "metadata": {
    "slideshow": {
     "slide_type": "slide"
    }
   },
   "source": [
    "### String Concatenation\n",
    "\n",
    "Strings can be concatenated using the `+` operator, allowing you to combine multiple strings."
   ]
  },
  {
   "cell_type": "code",
   "execution_count": null,
   "metadata": {},
   "outputs": [],
   "source": [
    "first_name = \"John\"\n",
    "last_name = \"Doe\"\n",
    "full_name = first_name + \" \" + last_name  # Output: 'John Doe'"
   ]
  },
  {
   "cell_type": "markdown",
   "metadata": {
    "slideshow": {
     "slide_type": "slide"
    }
   },
   "source": [
    "### String Methods and Utilities\n",
    "\n",
    "#### 1. Length\n",
    "\n",
    "The `len()` function returns the length of a string, i.e., the number of characters it contains."
   ]
  },
  {
   "cell_type": "code",
   "execution_count": null,
   "metadata": {},
   "outputs": [],
   "source": [
    "text = \"Hello, World!\"\n",
    "length = len(text)  # Output: 13"
   ]
  },
  {
   "cell_type": "markdown",
   "metadata": {
    "slideshow": {
     "slide_type": "slide"
    }
   },
   "source": [
    "#### 2. Case Conversion\n",
    "You can convert strings to lowercase or uppercase using the `lower()` and `upper()` methods."
   ]
  },
  {
   "cell_type": "code",
   "execution_count": null,
   "metadata": {},
   "outputs": [],
   "source": [
    "text = \"Python Programming\"\n",
    "lower_text = text.lower()  # Output: 'python programming'\n",
    "upper_text = text.upper()  # Output: 'PYTHON PROGRAMMING'"
   ]
  },
  {
   "cell_type": "markdown",
   "metadata": {
    "slideshow": {
     "slide_type": "slide"
    }
   },
   "source": [
    "#### 3. Stripping Whitespace\n",
    "\n",
    "You can remove leading and trailing whitespace from strings using `strip()`, `lstrip()`, and `rstrip()`."
   ]
  },
  {
   "cell_type": "code",
   "execution_count": null,
   "metadata": {},
   "outputs": [],
   "source": [
    "text = \"   Spaces   \"\n",
    "stripped_text = text.strip()  # Output: 'Spaces'\n",
    "stripped_text"
   ]
  },
  {
   "cell_type": "markdown",
   "metadata": {
    "slideshow": {
     "slide_type": "slide"
    }
   },
   "source": [
    "#### 4. Finding Substrings\n",
    "\n",
    "The `find()` and `index()` methods help you locate substrings within a string."
   ]
  },
  {
   "cell_type": "code",
   "execution_count": null,
   "metadata": {},
   "outputs": [],
   "source": [
    "text = \"Python Programming\"\n",
    "index = text.index(\"Prog\")  # Output: 7\n",
    "index"
   ]
  },
  {
   "cell_type": "markdown",
   "metadata": {
    "slideshow": {
     "slide_type": "slide"
    }
   },
   "source": [
    "#### 5. Replacing Substrings\n",
    "\n",
    "The `replace()` method allows you to replace occurrences of a substring with another substring.\n"
   ]
  },
  {
   "cell_type": "code",
   "execution_count": null,
   "metadata": {},
   "outputs": [],
   "source": [
    "text = \"Hello, World!\"\n",
    "new_text = text.replace(\"Hello\", \"Hi\")  # Output: 'Hi, World!'\n",
    "new_text"
   ]
  },
  {
   "cell_type": "markdown",
   "metadata": {
    "slideshow": {
     "slide_type": "slide"
    }
   },
   "source": [
    "#### 6. Splitting and Joining\n",
    "\n",
    "The `split()` method splits a string into a list of substrings based on a delimiter. The `join()` method joins a list of strings using a delimiter.\n",
    "\n"
   ]
  },
  {
   "cell_type": "code",
   "execution_count": null,
   "metadata": {},
   "outputs": [],
   "source": [
    "text = \"This is Canada\"\n",
    "text.split()"
   ]
  },
  {
   "cell_type": "code",
   "execution_count": null,
   "metadata": {},
   "outputs": [],
   "source": [
    "text = \"This-is-Canada\"\n",
    "text.split('-')"
   ]
  },
  {
   "cell_type": "markdown",
   "metadata": {
    "slideshow": {
     "slide_type": "slide"
    }
   },
   "source": [
    "### String formatting"
   ]
  },
  {
   "cell_type": "markdown",
   "metadata": {
    "slideshow": {
     "slide_type": "notes"
    }
   },
   "source": [
    "- Python has ways of creating strings by \"filling in the blanks\" and formatting them nicely. \n",
    "- This is helpful for when you want to print statements that include variables or statements.\n",
    "- There are a few ways of doing this. See [here](https://realpython.com/python-string-formatting/) and [here](https://stackoverflow.com/questions/5082452/string-formatting-vs-format) for some discussion.\n",
    "- I use and recommend [f-strings](https://docs.python.org/3.6/whatsnew/3.6.html#whatsnew36-pep498) which were introduced in Python 3.6. See format code options [here](https://docs.python.org/3.4/library/string.html#format-specification-mini-language)."
   ]
  },
  {
   "cell_type": "code",
   "execution_count": null,
   "metadata": {},
   "outputs": [],
   "source": [
    "name = 'Newborn Baby'\n",
    "age = 4 / 12\n",
    "day = 10\n",
    "month = 6\n",
    "year = 2021\n",
    "template_new = f'Hello, my name is {name}. I am {age:.2f} years old. I was born on {day}/{month:02}/{year}.'\n",
    "\n",
    "template_new"
   ]
  },
  {
   "cell_type": "markdown",
   "metadata": {
    "slideshow": {
     "slide_type": "slide"
    }
   },
   "source": [
    "### `print()` behavior"
   ]
  },
  {
   "cell_type": "markdown",
   "metadata": {},
   "source": [
    "- The `print()` function puts spaces between the printed objects by default and also moves to the next line.\n",
    "- But we also have the option of changing the default behaviour:\n",
    "\n",
    "python\n",
    "print(*objects, sep=' ', end='\\n', file=sys.stdout)\n"
   ]
  },
  {
   "cell_type": "code",
   "execution_count": null,
   "metadata": {},
   "outputs": [],
   "source": [
    "# default behavior:\n",
    "a, b, c = True, 30, 'UBC'\n",
    "print(a, b)\n",
    "print(c)"
   ]
  },
  {
   "cell_type": "markdown",
   "metadata": {
    "slideshow": {
     "slide_type": "fragment"
    }
   },
   "source": [
    "We can change the separation and end characters:"
   ]
  },
  {
   "cell_type": "code",
   "execution_count": null,
   "metadata": {},
   "outputs": [],
   "source": [
    "print(a, b, sep='_', end=' ')\n",
    "print(c)"
   ]
  },
  {
   "cell_type": "markdown",
   "metadata": {
    "slideshow": {
     "slide_type": "skip"
    }
   },
   "source": [
    "### Escape characters"
   ]
  },
  {
   "cell_type": "markdown",
   "metadata": {
    "slideshow": {
     "slide_type": "skip"
    }
   },
   "source": [
    "- With the `print()`, you've probably noticed the use of a special combination such as `\\n` for the `end` argument.\n",
    "\n",
    "- This is called an [**escape character**](https://en.wikipedia.org/wiki/Escape_character):\n",
    "\n",
    "| Escape character | What it prints   |\n",
    "| :--------------- | :--------------- |\n",
    "| `\\\\`             | Backslash `\\`    |\n",
    "| `\\'`             | Single quote `'` |\n",
    "| `\\\"`             | Double quote `\\` |\n",
    "| `\\n`             | New line         |\n",
    "| `\\t`             | Tab space        |"
   ]
  },
  {
   "cell_type": "code",
   "execution_count": null,
   "metadata": {
    "slideshow": {
     "slide_type": "skip"
    }
   },
   "outputs": [],
   "source": [
    "a, b, c = 1.5, 30, 'MDS'\n",
    "print('The variable value is: \\n\\t\\t\\t{a}')\n",
    "print(f'The variable value is: \\n\\t\\t\\t{a}')"
   ]
  },
  {
   "cell_type": "markdown",
   "metadata": {
    "slideshow": {
     "slide_type": "skip"
    }
   },
   "source": [
    "- We can precede strings with the letter `r` (`r` for raw text) just as we did with `f` (formatted strings). The `r` tells Python to treat everything as **raw text** and not look for escape characters."
   ]
  },
  {
   "cell_type": "code",
   "execution_count": null,
   "metadata": {
    "slideshow": {
     "slide_type": "skip"
    }
   },
   "outputs": [],
   "source": [
    "print(r'The variable value is: \\n\\t\\t\\t{a}')"
   ]
  },
  {
   "cell_type": "markdown",
   "metadata": {
    "slideshow": {
     "slide_type": "skip"
    }
   },
   "source": [
    "- Remember this example from before?"
   ]
  },
  {
   "cell_type": "code",
   "execution_count": null,
   "metadata": {
    "slideshow": {
     "slide_type": "skip"
    }
   },
   "outputs": [],
   "source": [
    "quote = 'Donald Knuth: \"Premature optimization is the root of all evil.\"'\n",
    "print(quote)"
   ]
  },
  {
   "cell_type": "markdown",
   "metadata": {
    "slideshow": {
     "slide_type": "skip"
    }
   },
   "source": [
    "- With escape characters, we no longer need to use both types of quotes. Literal quotes can simply be escaped:"
   ]
  },
  {
   "cell_type": "code",
   "execution_count": null,
   "metadata": {
    "slideshow": {
     "slide_type": "skip"
    }
   },
   "outputs": [],
   "source": [
    "quote = \"Donald Knuth: \\\"Premature optimization is the root of all evil.\\\"\"\n",
    "print(quote)"
   ]
  },
  {
   "cell_type": "markdown",
   "metadata": {
    "slideshow": {
     "slide_type": "slide"
    }
   },
   "source": [
    "## Lists\n",
    "\n",
    "Lists are one of the most versatile and widely used data structures in Python. They allow you to store collections of items, such as numbers, strings, or other objects, in a single variable. Lists are mutable, which means you can modify their contents after creation. \n",
    "\n",
    "### Creating Lists\n",
    "\n",
    "Lists are created by enclosing items in square brackets `[]`, separated by commas."
   ]
  },
  {
   "cell_type": "code",
   "execution_count": null,
   "metadata": {},
   "outputs": [],
   "source": [
    "numbers = [1, 2, 3, 4, 5]\n",
    "fruits = [\"apple\", \"banana\", \"orange\"]\n",
    "mixed_list = [10, \"Hello\", 3.14]"
   ]
  },
  {
   "cell_type": "markdown",
   "metadata": {
    "slideshow": {
     "slide_type": "slide"
    }
   },
   "source": [
    "### Accessing List Elements\n",
    "\n",
    "List elements can be accessed using indexing, starting from 0."
   ]
  },
  {
   "cell_type": "code",
   "execution_count": null,
   "metadata": {},
   "outputs": [],
   "source": [
    "fruits = [\"apple\", \"banana\", \"orange\"]\n",
    "print(fruits[0])  # Output: 'apple'"
   ]
  },
  {
   "cell_type": "markdown",
   "metadata": {
    "slideshow": {
     "slide_type": "slide"
    }
   },
   "source": [
    "### Changing List Elements\n",
    "\n",
    "Lists are mutable, which means you can change their elements after creation."
   ]
  },
  {
   "cell_type": "code",
   "execution_count": null,
   "metadata": {},
   "outputs": [],
   "source": [
    "fruits = [\"apple\", \"banana\", \"orange\"]\n",
    "fruits[1] = \"grape\"\n",
    "print(fruits)  # Output: ['apple', 'grape', 'orange']"
   ]
  },
  {
   "cell_type": "markdown",
   "metadata": {
    "slideshow": {
     "slide_type": "slide"
    }
   },
   "source": [
    "### List Slicing\n",
    "\n",
    "You can use slicing to extract a portion of a list."
   ]
  },
  {
   "cell_type": "code",
   "execution_count": null,
   "metadata": {},
   "outputs": [],
   "source": [
    "numbers = [1, 2, 3, 4, 5]\n",
    "sliced_numbers = numbers[1:4]  # Output: [2, 3, 4]"
   ]
  },
  {
   "cell_type": "markdown",
   "metadata": {
    "slideshow": {
     "slide_type": "slide"
    }
   },
   "source": [
    "### List Methods and Utilities\n",
    "\n",
    "#### 1. Length\n",
    "\n",
    "The `len()` function returns the number of items in a list."
   ]
  },
  {
   "cell_type": "code",
   "execution_count": null,
   "metadata": {},
   "outputs": [],
   "source": [
    "numbers = [1, 2, 3, 4, 5]\n",
    "length = len(numbers)  # Output: 5"
   ]
  },
  {
   "cell_type": "markdown",
   "metadata": {
    "slideshow": {
     "slide_type": "slide"
    }
   },
   "source": [
    "#### 2. Adding Elements\n",
    "\n",
    "The `append()` method adds an element to the end of a list. The `insert()` method inserts an element at a specified position."
   ]
  },
  {
   "cell_type": "code",
   "execution_count": null,
   "metadata": {},
   "outputs": [],
   "source": [
    "fruits = [\"apple\", \"banana\"]\n",
    "fruits.append(\"orange\")  # Now, fruits = [\"apple\", \"banana\", \"orange\"]\n",
    "fruits.insert(1, \"grape\")  # Now, fruits = [\"apple\", \"grape\", \"banana\", \"orange\"]"
   ]
  },
  {
   "cell_type": "markdown",
   "metadata": {
    "slideshow": {
     "slide_type": "slide"
    }
   },
   "source": [
    "#### 3. Removing Elements\n",
    "\n",
    "The `remove()` method removes the first occurrence of a specified value. The `pop()` method removes and returns an element at a given index."
   ]
  },
  {
   "cell_type": "code",
   "execution_count": null,
   "metadata": {},
   "outputs": [],
   "source": [
    "fruits = [\"apple\", \"banana\", \"orange\"]\n",
    "fruits.remove(\"banana\")  # Now, fruits = [\"apple\", \"orange\"]\n",
    "removed_fruit = fruits.pop(1)  # Now, fruits = [\"apple\"], removed_fruit = \"orange\""
   ]
  },
  {
   "cell_type": "markdown",
   "metadata": {
    "slideshow": {
     "slide_type": "slide"
    }
   },
   "source": [
    "#### 4. Sorting\n",
    "\n",
    "The `sort()` method sorts a list in place. The `sorted()` function returns a new sorted list."
   ]
  },
  {
   "cell_type": "code",
   "execution_count": null,
   "metadata": {},
   "outputs": [],
   "source": [
    "numbers = [3, 1, 4, 2, 5]\n",
    "numbers.sort()  # Now, numbers = [1, 2, 3, 4, 5]\n",
    "sorted_numbers = sorted(numbers)  # sorted_numbers = [1, 2, 3, 4, 5]"
   ]
  },
  {
   "cell_type": "markdown",
   "metadata": {
    "slideshow": {
     "slide_type": "slide"
    }
   },
   "source": [
    "#### 5. Reversing\n",
    "\n",
    "The `reverse()` method reverses the order of elements in a list."
   ]
  },
  {
   "cell_type": "code",
   "execution_count": null,
   "metadata": {},
   "outputs": [],
   "source": [
    "numbers = [1, 2, 3, 4, 5]\n",
    "numbers.reverse()  # Now, numbers = [5, 4, 3, 2, 1]"
   ]
  },
  {
   "cell_type": "markdown",
   "metadata": {
    "slideshow": {
     "slide_type": "slide"
    }
   },
   "source": [
    "#### 6. Membership Testing\n",
    "\n",
    "You can use the `in` keyword to check if an element is present in a list."
   ]
  },
  {
   "cell_type": "code",
   "execution_count": null,
   "metadata": {},
   "outputs": [],
   "source": [
    "fruits = [\"apple\", \"banana\", \"orange\"]\n",
    "print(\"banana\" in fruits)  # Output: True"
   ]
  },
  {
   "cell_type": "markdown",
   "metadata": {
    "slideshow": {
     "slide_type": "slide"
    }
   },
   "source": [
    "## Dictionaries\n",
    "\n",
    "Dictionaries are powerful and versatile data structures in Python that allow you to store data in key-value pairs. Unlike lists that use numeric indices, dictionaries use unique keys to access their values. Dictionaries are unordered and mutable, providing efficient lookups and modification of data."
   ]
  },
  {
   "cell_type": "markdown",
   "metadata": {},
   "source": [
    "### Creating Dictionaries\n",
    "\n",
    "Dictionaries are created using curly braces `{}` and contain key-value pairs separated by colons `:`.\n",
    "\n"
   ]
  },
  {
   "cell_type": "code",
   "execution_count": null,
   "metadata": {},
   "outputs": [],
   "source": [
    "student = {\n",
    "    \"name\": \"John\",\n",
    "    \"age\": 20,\n",
    "    \"major\": \"Computer Science\"\n",
    "}"
   ]
  },
  {
   "cell_type": "markdown",
   "metadata": {
    "slideshow": {
     "slide_type": "slide"
    }
   },
   "source": [
    "### Accessing and Modifying Values\n",
    "\n",
    "Values in dictionaries are accessed using their corresponding keys.\n",
    "\n"
   ]
  },
  {
   "cell_type": "code",
   "execution_count": null,
   "metadata": {},
   "outputs": [],
   "source": [
    "student = {\n",
    "    \"name\": \"John\",\n",
    "    \"age\": 20,\n",
    "    \"major\": \"Computer Science\"\n",
    "}\n",
    "print(student[\"name\"])  # Output: 'John'"
   ]
  },
  {
   "cell_type": "markdown",
   "metadata": {
    "slideshow": {
     "slide_type": "fragment"
    }
   },
   "source": [
    "The `get()` method provides a way to access dictionary values using a key, with an optional default value if the key is not found."
   ]
  },
  {
   "cell_type": "code",
   "execution_count": null,
   "metadata": {},
   "outputs": [],
   "source": [
    "name = student.get(\"name\")\n",
    "print(\"Name:\", name)  # Output: Name: John"
   ]
  },
  {
   "cell_type": "code",
   "execution_count": null,
   "metadata": {},
   "outputs": [],
   "source": [
    "# Using get() with a default value\n",
    "gender = student.get(\"gender\", \"Unknown\")\n",
    "print(\"Gender:\", gender)  # Output: Gender: Unknown"
   ]
  },
  {
   "cell_type": "markdown",
   "metadata": {
    "slideshow": {
     "slide_type": "slide"
    }
   },
   "source": [
    "### Dictionary Methods and Utilities\n",
    "\n",
    "#### 1. Adding and Updating Items\n",
    "\n",
    "You can add or update items in a dictionary using their keys.\n",
    "\n",
    "\n"
   ]
  },
  {
   "cell_type": "code",
   "execution_count": null,
   "metadata": {},
   "outputs": [],
   "source": [
    "student[\"GPA\"] = 3.8  # Adding a new item\n",
    "student[\"age\"] = 22  # Updating an existing item"
   ]
  },
  {
   "cell_type": "markdown",
   "metadata": {
    "slideshow": {
     "slide_type": "slide"
    }
   },
   "source": [
    "#### 2. Removing Items\n",
    "\n",
    "You can use the `del` statement or the `pop()` method to remove items from a dictionary.\n",
    "\n",
    "\n"
   ]
  },
  {
   "cell_type": "code",
   "execution_count": null,
   "metadata": {},
   "outputs": [],
   "source": [
    "del student[\"major\"]  # Remove using del\n",
    "gpa = student.pop(\"GPA\")  # Remove using pop"
   ]
  },
  {
   "cell_type": "markdown",
   "metadata": {
    "slideshow": {
     "slide_type": "slide"
    }
   },
   "source": [
    "#### 3. Length\n",
    "\n",
    "The `len()` function returns the number of key-value pairs in a dictionary.\n",
    "\n",
    "\n"
   ]
  },
  {
   "cell_type": "code",
   "execution_count": null,
   "metadata": {},
   "outputs": [],
   "source": [
    "num_items = len(student)  # Output: 2 (if 'major' is removed)\n",
    "num_items"
   ]
  },
  {
   "cell_type": "markdown",
   "metadata": {
    "slideshow": {
     "slide_type": "slide"
    }
   },
   "source": [
    "#### 4. Checking Membership\n",
    "\n",
    "You can use the `in` keyword to check if a key is present in a dictionary.\n",
    "\n",
    "\n"
   ]
  },
  {
   "cell_type": "code",
   "execution_count": null,
   "metadata": {},
   "outputs": [],
   "source": [
    "if \"name\" in student:\n",
    "    print(\"Name is present\")"
   ]
  },
  {
   "cell_type": "markdown",
   "metadata": {
    "slideshow": {
     "slide_type": "slide"
    }
   },
   "source": [
    "#### 5. Getting Keys and Values\n",
    "\n",
    "You can get lists of keys, values, or key-value pairs using these methods.\n",
    "\n",
    "\n"
   ]
  },
  {
   "cell_type": "code",
   "execution_count": null,
   "metadata": {},
   "outputs": [],
   "source": [
    "keys = student.keys() # get all keys\n",
    "values = student.values() # get all values\n",
    "items = student.items() # get all items\n",
    "\n",
    "print(keys, values, items, sep='\\n')"
   ]
  },
  {
   "cell_type": "markdown",
   "metadata": {
    "slideshow": {
     "slide_type": "slide"
    }
   },
   "source": [
    "#### 6. Clearing and Copying\n",
    "\n",
    "The `clear()` method removes all items from a dictionary, and `copy()` creates a shallow copy of the dictionary.\n",
    "\n",
    "\n"
   ]
  },
  {
   "cell_type": "code",
   "execution_count": null,
   "metadata": {},
   "outputs": [],
   "source": [
    "student.clear()  # Removes all items\n",
    "student_copy = student.copy()  # Creates a copy"
   ]
  },
  {
   "cell_type": "markdown",
   "metadata": {
    "slideshow": {
     "slide_type": "slide"
    }
   },
   "source": [
    "## Tuples\n",
    "\n",
    "A tuple is an ordered, immutable collection of elements in Python. Tuples are similar to lists, but they cannot be modified once they are created. Tuples are often used to represent fixed collections of related values.\n",
    "\n",
    "Here's an example of creating a tuple in Python:\n",
    "\n"
   ]
  },
  {
   "cell_type": "code",
   "execution_count": null,
   "metadata": {},
   "outputs": [],
   "source": [
    "my_tuple = (1, 2, 3)"
   ]
  },
  {
   "cell_type": "markdown",
   "metadata": {
    "slideshow": {
     "slide_type": "fragment"
    }
   },
   "source": [
    "\n",
    "\n",
    "In this example, we create a tuple `my_tuple` with the values `1`, `2`, and `3`.\n",
    "\n",
    "We can access individual elements of a tuple using indexing, just like with lists:\n",
    "\n"
   ]
  },
  {
   "cell_type": "code",
   "execution_count": null,
   "metadata": {},
   "outputs": [],
   "source": [
    "print(my_tuple[0])  # Output: 1\n",
    "print(my_tuple[1])  # Output: 2\n",
    "print(my_tuple[2])  # Output: 3"
   ]
  },
  {
   "cell_type": "markdown",
   "metadata": {
    "slideshow": {
     "slide_type": "fragment"
    }
   },
   "source": [
    "\n",
    "\n",
    "We can also use slicing to access a range of elements in a tuple:\n",
    "\n"
   ]
  },
  {
   "cell_type": "code",
   "execution_count": null,
   "metadata": {},
   "outputs": [],
   "source": [
    "print(my_tuple[1:3])  # Output: (2, 3)"
   ]
  },
  {
   "cell_type": "markdown",
   "metadata": {
    "slideshow": {
     "slide_type": "slide"
    }
   },
   "source": [
    "\n",
    "\n",
    "Note that since tuples are immutable, we cannot modify individual elements of a tuple:\n",
    "\n"
   ]
  },
  {
   "cell_type": "code",
   "execution_count": null,
   "metadata": {},
   "outputs": [],
   "source": [
    "my_tuple[0] = 4  # Raises a TypeError"
   ]
  },
  {
   "cell_type": "markdown",
   "metadata": {
    "slideshow": {
     "slide_type": "slide"
    }
   },
   "source": [
    "\n",
    "\n",
    "This code raises a `TypeError`, because we are trying to modify an element of a tuple, which is not allowed.\n",
    "\n",
    "## Sets\n",
    "\n",
    "A set is an unordered collection of unique elements in Python. Sets are similar to lists and tuples, but they cannot contain duplicate elements. Sets are often used to perform mathematical operations such as union, intersection, and difference.\n",
    "\n",
    "Here's an example of creating a set in Python:\n",
    "\n"
   ]
  },
  {
   "cell_type": "code",
   "execution_count": null,
   "metadata": {},
   "outputs": [],
   "source": [
    "my_set = {1, 2, 3}"
   ]
  },
  {
   "cell_type": "markdown",
   "metadata": {
    "slideshow": {
     "slide_type": "fragment"
    }
   },
   "source": [
    "\n",
    "\n",
    "In this example, we create a set `my_set` with the values `1`, `2`, and `3`.\n",
    "\n",
    "We can add elements to a set using the `add()` method:\n",
    "\n"
   ]
  },
  {
   "cell_type": "code",
   "execution_count": null,
   "metadata": {},
   "outputs": [],
   "source": [
    "my_set.add(4)"
   ]
  },
  {
   "cell_type": "markdown",
   "metadata": {
    "slideshow": {
     "slide_type": "fragment"
    }
   },
   "source": [
    "\n",
    "\n",
    "We can remove elements from a set using the `remove()` method:\n",
    "\n"
   ]
  },
  {
   "cell_type": "code",
   "execution_count": null,
   "metadata": {},
   "outputs": [],
   "source": [
    "my_set.remove(3)"
   ]
  },
  {
   "cell_type": "markdown",
   "metadata": {
    "slideshow": {
     "slide_type": "slide"
    }
   },
   "source": [
    "\n",
    "\n",
    "We can perform mathematical operations on sets using methods such as `union()`, `intersection()`, and `difference()`:\n",
    "\n"
   ]
  },
  {
   "cell_type": "code",
   "execution_count": null,
   "metadata": {},
   "outputs": [],
   "source": [
    "set1 = {1, 2, 3}\n",
    "set2 = {2, 3, 4}\n",
    "\n",
    "print(set1.union(set2))  # Output: {1, 2, 3, 4}\n",
    "print(set1.intersection(set2))  # Output: {2, 3}\n",
    "print(set1.difference(set2))  # Output: {1}"
   ]
  },
  {
   "cell_type": "markdown",
   "metadata": {},
   "source": [
    "\n",
    "\n",
    "Note that since sets are unordered, we cannot access individual elements of a set using indexing or slicing."
   ]
  },
  {
   "cell_type": "markdown",
   "metadata": {
    "slideshow": {
     "slide_type": "slide"
    }
   },
   "source": [
    "## Comparison between lists, tuples, sets, dict\n",
    "\n",
    "| Feature                | List                       | Tuple                      | Dictionary (dict)           | Set                         |\n",
    "|------------------------|----------------------------|----------------------------|-----------------------------|----------------------------|\n",
    "| **Mutable**            | Yes                        | No                         | Yes                         | Yes                        |\n",
    "| **Ordered**            | Yes                        | Yes                        | Yes (as of Python 3.7)                          | No                         |\n",
    "| **Indexing**           | By index (0-based)         | By index (0-based)         | By key                      | No                         |\n",
    "| **Duplicates**         | Allowed                    | Allowed                    | Keys must be unique         | Duplicates not allowed     |\n",
    "| **Modification**       | Can change elements        | Cannot change elements     | Values can be updated       | Elements can be added/removed |\n",
    "| **Syntax**             | Square brackets `[]`       | Parentheses `()`           | Curly braces `{}`           | Curly braces `{}`           |\n",
    "| **Use Case**           | When order matters         | When data should not change| Mapping keys to values      | For unique values and set operations |\n",
    "| **Example**            | `[1, 2, 'three']`           | `(1, 2, 'three')`           | `{'name': 'Alice', 'age': 30}` | `{'apple', 'banana', 'cherry'}` |\n"
   ]
  },
  {
   "cell_type": "markdown",
   "metadata": {
    "slideshow": {
     "slide_type": "slide"
    }
   },
   "source": [
    "## Conditionals"
   ]
  },
  {
   "cell_type": "markdown",
   "metadata": {
    "slideshow": {
     "slide_type": "notes"
    }
   },
   "source": [
    "- [Conditional statements](https://docs.python.org/3/tutorial/controlflow.html) allow us to write programs where only certain blocks of code are executed depending on the state of the program.\n",
    "- Check out the [Python documentation](https://docs.python.org/3/tutorial/controlflow.html) and [Think Python (Chapter 5)](http://greenteapress.com/thinkpython/html/thinkpython006.html) for more information about conditional execution.- Check out the [Python documentation](https://docs.python.org/3/tutorial/controlflow.html) and [Think Python (Chapter 5)](http://greenteapress.com/thinkpython/html/thinkpython006.html) for more information about conditional execution.\n",
    "\n"
   ]
  },
  {
   "cell_type": "markdown",
   "metadata": {},
   "source": [
    "### The `if` Statement\n",
    "\n",
    "The `if` statement is used to execute a block of code if a certain condition is true. Here's the basic syntax of an `if` statement in Python:\n",
    "\n"
   ]
  },
  {
   "cell_type": "markdown",
   "metadata": {},
   "source": [
    "```python\n",
    "if condition:\n",
    "    # code to execute if condition is true\n",
    "````"
   ]
  },
  {
   "cell_type": "markdown",
   "metadata": {
    "slideshow": {
     "slide_type": "notes"
    }
   },
   "source": [
    "\n",
    "\n",
    "In this syntax, `condition` is a Boolean expression that evaluates to either `True` or `False`. \n",
    "\n",
    "If `condition` is `True`, the code block indented under the `if` statement will be executed. \n",
    "\n",
    "If `condition` is `False`, the code block will be skipped.\n",
    "\n",
    "Here's an example of using an `if` statement in Python:\n",
    "\n"
   ]
  },
  {
   "cell_type": "code",
   "execution_count": null,
   "metadata": {
    "slideshow": {
     "slide_type": "fragment"
    }
   },
   "outputs": [],
   "source": [
    "x = 5\n",
    "\n",
    "if x > 0:\n",
    "    print(\"x is positive\")"
   ]
  },
  {
   "cell_type": "markdown",
   "metadata": {
    "slideshow": {
     "slide_type": "slide"
    }
   },
   "source": [
    "\n",
    "### The `if-else` Statement\n",
    "\n",
    "The `if-else` statement is used to execute one block of code if a certain condition is true, and another block of code if the condition is false. Here's the basic syntax of an `if-else` statement in Python:\n",
    "\n"
   ]
  },
  {
   "cell_type": "markdown",
   "metadata": {
    "slideshow": {
     "slide_type": "fragment"
    }
   },
   "source": [
    "```python\n",
    "if condition:\n",
    "    # code to execute if condition is true\n",
    "else:\n",
    "    # code to execute if condition is false\n",
    "```"
   ]
  },
  {
   "cell_type": "code",
   "execution_count": null,
   "metadata": {},
   "outputs": [],
   "source": [
    "x = -5\n",
    "\n",
    "if x > 0:\n",
    "    print(\"x is positive\")\n",
    "else:\n",
    "    print(\"x is not positive\")"
   ]
  },
  {
   "cell_type": "markdown",
   "metadata": {
    "slideshow": {
     "slide_type": "notes"
    }
   },
   "source": [
    "If `condition` is `True`, the code block indented under the `if` statement will be executed. \n",
    "\n",
    "If `condition` is `False`, the code block indented under the `else` statement will be executed.\n",
    "\n",
    "Here's an example of using an `if-else` statement in Python:\n",
    "\n"
   ]
  },
  {
   "cell_type": "markdown",
   "metadata": {
    "slideshow": {
     "slide_type": "slide"
    }
   },
   "source": [
    "### The `if-elif-else` Statement\n",
    "\n",
    "The `if-elif-else` statement is used to execute different blocks of code depending on multiple conditions. Here's the basic syntax of an `if-elif-else` statement in Python:\n",
    "\n"
   ]
  },
  {
   "cell_type": "markdown",
   "metadata": {},
   "source": [
    "```python\n",
    "if condition1:\n",
    "    # code to execute if condition1 is true\n",
    "elif condition2:\n",
    "    # code to execute if condition2 is true\n",
    "else:\n",
    "    # code to execute if all conditions are false\n",
    "```"
   ]
  },
  {
   "cell_type": "markdown",
   "metadata": {
    "slideshow": {
     "slide_type": "fragment"
    }
   },
   "source": [
    "Here's an example of using an `if-elif-else` statement in Python:\n",
    "\n"
   ]
  },
  {
   "cell_type": "code",
   "execution_count": null,
   "metadata": {},
   "outputs": [],
   "source": [
    "x = 0\n",
    "\n",
    "if x > 0:\n",
    "    print(\"x is positive\")\n",
    "elif x < 0:\n",
    "    print(\"x is negative\")\n",
    "else:\n",
    "    print(\"x is zero\")"
   ]
  },
  {
   "cell_type": "markdown",
   "metadata": {
    "slideshow": {
     "slide_type": "slide"
    }
   },
   "source": [
    "\n",
    "### Nested Conditionals\n",
    "\n",
    "Nested conditionals are conditional statements that are nested inside other conditional statements. Here's an example of a nested `if-else` statement in Python:\n",
    "\n"
   ]
  },
  {
   "cell_type": "code",
   "execution_count": null,
   "metadata": {},
   "outputs": [],
   "source": [
    "x = 5\n",
    "y = 10\n",
    "\n",
    "if x > 0:\n",
    "    if y > 0:\n",
    "        print(\"x and y are both positive\")\n",
    "    else:\n",
    "        print(\"x is positive but y is not\")\n",
    "elif x < 0:\n",
    "    if y > 0:\n",
    "        print(\"x is negative but y is positive\")\n",
    "    else:\n",
    "        print(\"x and y are both negative\")\n",
    "else:\n",
    "    print(\"x and y are both zero\")"
   ]
  },
  {
   "cell_type": "markdown",
   "metadata": {
    "slideshow": {
     "slide_type": "notes"
    }
   },
   "source": [
    "- The main points to notice:\n",
    "  - **Indentation (by 4 empty space) defines code blocks**\n",
    "  - Use keywords `if`, `elif` and `else`\n",
    "  - The colon `:` ends each conditional expression\n",
    "  - In an `if` statement, the first block whose conditional statement returns `True` is executed and the program exits the `if` block\n",
    "  - `if` statements don't necessarily need `elif` or `else`\n",
    "  - `elif` lets us check several conditions\n",
    "  - `else` lets us evaluate a default block if all other conditions are `False`\n",
    "  - the end of the entire `if` statement is where the indentation returns to the same level as the first `if` keyword"
   ]
  },
  {
   "cell_type": "markdown",
   "metadata": {
    "slideshow": {
     "slide_type": "slide"
    }
   },
   "source": [
    "**Multi-way puzzle**\n",
    "\n",
    "What do you expect the output of the following code will be?\n",
    "\n"
   ]
  },
  {
   "cell_type": "code",
   "execution_count": null,
   "metadata": {},
   "outputs": [],
   "source": [
    "x = 5\n",
    "y = -10\n",
    "\n",
    "if x > 0:\n",
    "    if y > 0:\n",
    "        if x > y:\n",
    "            print(\"x is greater than y\")\n",
    "        elif x < y:\n",
    "            print(\"x is less than y\")\n",
    "        else:\n",
    "            print(\"x is equal to y\")\n",
    "    else:\n",
    "        print(\"y is not positive\")\n",
    "else:\n",
    "    print(\"x is not positive\")"
   ]
  },
  {
   "cell_type": "markdown",
   "metadata": {
    "slideshow": {
     "slide_type": "slide"
    }
   },
   "source": [
    "### Truth Value Testing\n",
    "\n",
    "In Python, every value has a truth value, which is either `True` or `False`. Here are some examples of truth value testing in Python:\n",
    "\n"
   ]
  },
  {
   "cell_type": "code",
   "execution_count": null,
   "metadata": {},
   "outputs": [],
   "source": [
    "bool(0)  # False\n",
    "bool(1)  # True\n",
    "bool(\"\")  # False\n",
    "bool(\"hello\")  # True\n",
    "bool([])  # False\n",
    "bool([1, 2, 3])  # True"
   ]
  },
  {
   "cell_type": "markdown",
   "metadata": {
    "slideshow": {
     "slide_type": "fragment"
    }
   },
   "source": [
    "In Python, the following values are considered `False`:\n",
    "\n",
    "- `False`\n",
    "- `None`\n",
    "- `0`\n",
    "- `0.0`\n",
    "- `\"\"`\n",
    "- `[]`\n",
    "- `()`\n",
    "- `{}`\n",
    "\n",
    "All other values are considered `True`."
   ]
  },
  {
   "cell_type": "markdown",
   "metadata": {
    "slideshow": {
     "slide_type": "slide"
    }
   },
   "source": [
    "Truth value testing is often used in conditional statements to check if a certain value is `True` or `False`. For example:"
   ]
  },
  {
   "cell_type": "code",
   "execution_count": null,
   "metadata": {
    "slideshow": {
     "slide_type": "-"
    }
   },
   "outputs": [],
   "source": [
    "x = 5\n",
    "\n",
    "if x:\n",
    "    print(\"x is not zero\")\n",
    "else:\n",
    "    print(\"x is zero\")"
   ]
  },
  {
   "cell_type": "markdown",
   "metadata": {
    "slideshow": {
     "slide_type": "slide"
    }
   },
   "source": [
    "### Inline if/else"
   ]
  },
  {
   "cell_type": "markdown",
   "metadata": {},
   "source": [
    "- We can write simple `if` statements \"inline\", i.e., in a single line"
   ]
  },
  {
   "cell_type": "code",
   "execution_count": null,
   "metadata": {
    "collapsed": false,
    "jupyter": {
     "outputs_hidden": false
    }
   },
   "outputs": [],
   "source": [
    "words = [\"the\", \"list\", \"of\", \"words\"]\n",
    "\n",
    "x = \"long list\" if len(words) > 10 else \"short list\"\n",
    "x"
   ]
  },
  {
   "cell_type": "markdown",
   "metadata": {
    "slideshow": {
     "slide_type": "skip"
    }
   },
   "source": [
    "### Short-circuiting"
   ]
  },
  {
   "cell_type": "markdown",
   "metadata": {
    "slideshow": {
     "slide_type": "skip"
    }
   },
   "source": [
    "- Python supports short-circuiting\n",
    "- This is the automatic stopping of the execution of boolean operation if the truth value of expression has already been determined"
   ]
  },
  {
   "cell_type": "code",
   "execution_count": null,
   "metadata": {
    "slideshow": {
     "slide_type": "skip"
    },
    "tags": [
     "raises-exception"
    ]
   },
   "outputs": [],
   "source": [
    "fake_variable  # not defined"
   ]
  },
  {
   "cell_type": "code",
   "execution_count": null,
   "metadata": {
    "slideshow": {
     "slide_type": "skip"
    }
   },
   "outputs": [],
   "source": [
    "True or fake_variable"
   ]
  },
  {
   "cell_type": "code",
   "execution_count": null,
   "metadata": {
    "slideshow": {
     "slide_type": "skip"
    },
    "tags": [
     "raises-exception"
    ]
   },
   "outputs": [],
   "source": [
    "True and fake_variable"
   ]
  },
  {
   "cell_type": "code",
   "execution_count": null,
   "metadata": {
    "slideshow": {
     "slide_type": "skip"
    }
   },
   "outputs": [],
   "source": [
    "False and fake_variable"
   ]
  },
  {
   "cell_type": "markdown",
   "metadata": {
    "slideshow": {
     "slide_type": "skip"
    }
   },
   "source": [
    "|Expression|Result|Detail|\n",
    "|---|---|---|\n",
    "|A or B|If A is `True` then A else B|B only executed if A is `False`|\n",
    "|A and B|If A is `False` then A else B|B only executed if A is `True`|"
   ]
  },
  {
   "cell_type": "markdown",
   "metadata": {
    "slideshow": {
     "slide_type": "slide"
    }
   },
   "source": [
    "## `for` loops"
   ]
  },
  {
   "cell_type": "markdown",
   "metadata": {
    "slideshow": {
     "slide_type": "skip"
    }
   },
   "source": [
    "In programming, a loop is a sequence of instructions that is executed repeatedly until a certain condition is met. One type of loop is the **for loop**, which is used to iterate over a sequence of values."
   ]
  },
  {
   "cell_type": "markdown",
   "metadata": {},
   "source": [
    "```\n",
    "for variable in sequence:\n",
    "    # code to be executed\n",
    "```"
   ]
  },
  {
   "cell_type": "markdown",
   "metadata": {},
   "source": [
    "Below we create a list containing the integers 1, 2, 3 and 4. And we create a temporary variable, `n` to hold an integer for each iteration of the loop. The loop will perform as many iteration as there are items in our list.\n",
    "\n",
    "The first time through the loop, `n` will be 1, the second time through the loop, `n` will be 2, the third time through the loop, `n` will be 3, and the fourth (and last) time through the loop, `n` will be 4. \n",
    "\n",
    "Because the loop has 4 iterations, we will get 4 print statements. Each using one of the values from the list."
   ]
  },
  {
   "cell_type": "code",
   "execution_count": null,
   "metadata": {
    "slideshow": {
     "slide_type": "fragment"
    }
   },
   "outputs": [],
   "source": [
    "for n in [1, 2, 3, 4]:\n",
    "    print(f\"The number is {n} and its square is {n**2}\")\n",
    "\n",
    "print(\"I'm outside the loop!\")"
   ]
  },
  {
   "cell_type": "markdown",
   "metadata": {
    "slideshow": {
     "slide_type": "fragment"
    }
   },
   "source": [
    "The main points to notice:\n",
    "\n",
    "* Keyword `for` begins the loop. Colon `:` ends the first line of the loop.\n",
    "* The indented block of code is executed for each value in the list (hence the name \"for\" loops)\n",
    "* The loop ends after the variable `n` has taken all the values in the list\n",
    "* We can iterate over any kind of **\"iterable\"**: `list`, `tuple`, `range`, `set`, `string`.\n",
    "* An iterable is really just any object with a sequence of values that can be looped over. In this case, we are iterating over the values in a list."
   ]
  },
  {
   "cell_type": "code",
   "execution_count": null,
   "metadata": {
    "slideshow": {
     "slide_type": "slide"
    }
   },
   "outputs": [],
   "source": [
    "word = \"Python\"\n",
    "for letter in word:\n",
    "    print(\"Gimme a \" + letter + \"!\")\n",
    "\n",
    "print(f\"What's that spell?!! {word}!\")"
   ]
  },
  {
   "cell_type": "markdown",
   "metadata": {
    "slideshow": {
     "slide_type": "slide"
    }
   },
   "source": [
    "- A very common pattern is to use `for` with the `range` object. \n",
    "- `range` gives you a sequence of integers up to some value (non-inclusive of the end-value) and is typically used for looping."
   ]
  },
  {
   "cell_type": "code",
   "execution_count": null,
   "metadata": {},
   "outputs": [],
   "source": [
    "range(10)"
   ]
  },
  {
   "cell_type": "code",
   "execution_count": null,
   "metadata": {
    "slideshow": {
     "slide_type": "skip"
    }
   },
   "outputs": [],
   "source": [
    "list(range(10))"
   ]
  },
  {
   "cell_type": "code",
   "execution_count": null,
   "metadata": {
    "slideshow": {
     "slide_type": "fragment"
    }
   },
   "outputs": [],
   "source": [
    "for i in range(10):\n",
    "    print(i)"
   ]
  },
  {
   "cell_type": "markdown",
   "metadata": {
    "slideshow": {
     "slide_type": "fragment"
    }
   },
   "source": [
    "- We can also specify a start value and a step value with `range`:"
   ]
  },
  {
   "cell_type": "code",
   "execution_count": null,
   "metadata": {},
   "outputs": [],
   "source": [
    "for i in range(1, 101, 10):\n",
    "    print(i)"
   ]
  },
  {
   "cell_type": "markdown",
   "metadata": {
    "slideshow": {
     "slide_type": "slide"
    }
   },
   "source": [
    "- We can write a loop inside another loop to iterate over multiple dimensions of data. Consider the following loop as enumerating the coordinates in a 3 by 3 grid of points."
   ]
  },
  {
   "cell_type": "code",
   "execution_count": null,
   "metadata": {
    "slideshow": {
     "slide_type": "-"
    }
   },
   "outputs": [],
   "source": [
    "list_1 = [0, 1, 2]\n",
    "list_2 = [\"a\", \"b\", \"c\"]"
   ]
  },
  {
   "cell_type": "code",
   "execution_count": null,
   "metadata": {},
   "outputs": [],
   "source": [
    "for x in list_1:\n",
    "    for y in list_2:\n",
    "        print((x, y))"
   ]
  },
  {
   "cell_type": "markdown",
   "metadata": {},
   "source": [
    "Indices can be useful when you want to iterate over to different objects:"
   ]
  },
  {
   "cell_type": "code",
   "execution_count": null,
   "metadata": {
    "slideshow": {
     "slide_type": "fragment"
    }
   },
   "outputs": [],
   "source": [
    "for i in range(3):\n",
    "    print(list_1[i], list_2[i])"
   ]
  },
  {
   "cell_type": "markdown",
   "metadata": {
    "slideshow": {
     "slide_type": "slide"
    }
   },
   "source": [
    "- There are many clever ways of doing these kinds of things in Python\n",
    "\n",
    "- `zip()` returns a zip object which is an iterable of tuples"
   ]
  },
  {
   "cell_type": "code",
   "execution_count": null,
   "metadata": {},
   "outputs": [],
   "source": [
    "for i in zip(list_1, list_2):\n",
    "    print(i)"
   ]
  },
  {
   "cell_type": "markdown",
   "metadata": {
    "slideshow": {
     "slide_type": "fragment"
    }
   },
   "source": [
    "- We can \"unpack\" this tuples directly in the `for` loop:"
   ]
  },
  {
   "cell_type": "code",
   "execution_count": null,
   "metadata": {},
   "outputs": [],
   "source": [
    "for i, j in zip(list_1, list_2):\n",
    "    print(i, j)"
   ]
  },
  {
   "cell_type": "markdown",
   "metadata": {
    "slideshow": {
     "slide_type": "slide"
    }
   },
   "source": [
    "- `enumerate()` adds a counter to an iterable.\n",
    "It creates an iterable that contains tuples of the form `(index, element)` for each element in the list."
   ]
  },
  {
   "cell_type": "code",
   "execution_count": null,
   "metadata": {},
   "outputs": [],
   "source": [
    "for i in enumerate(list_2):\n",
    "    print(i)"
   ]
  },
  {
   "cell_type": "markdown",
   "metadata": {
    "slideshow": {
     "slide_type": "fragment"
    }
   },
   "source": [
    "- It is also possible to extract the counter and the value:"
   ]
  },
  {
   "cell_type": "code",
   "execution_count": null,
   "metadata": {},
   "outputs": [],
   "source": [
    "list_2"
   ]
  },
  {
   "cell_type": "code",
   "execution_count": null,
   "metadata": {},
   "outputs": [],
   "source": [
    "for n, i in enumerate(list_2):\n",
    "    print(f\"index {n}, value {i}\")"
   ]
  },
  {
   "cell_type": "markdown",
   "metadata": {
    "slideshow": {
     "slide_type": "slide"
    }
   },
   "source": [
    "- We can loop through key-value pairs of a dictionary using `.items()`\n",
    "- The general syntax is `for key, value in dictionary.items()`"
   ]
  },
  {
   "cell_type": "code",
   "execution_count": null,
   "metadata": {},
   "outputs": [],
   "source": [
    "courses = {521: \"awesome 🤗\",\n",
    "           551: \"riveting 🤯\",\n",
    "           523: \"a party time 🥳\",\n",
    "           511: \"a slithering good time 🐍\"}"
   ]
  },
  {
   "cell_type": "code",
   "execution_count": null,
   "metadata": {
    "slideshow": {
     "slide_type": "fragment"
    }
   },
   "outputs": [],
   "source": [
    "for course_num, description in courses.items():\n",
    "    print(f\"DSCI {course_num}, is {description}\")"
   ]
  },
  {
   "cell_type": "markdown",
   "metadata": {
    "slideshow": {
     "slide_type": "fragment"
    }
   },
   "source": [
    "- We can even use `enumerate()` to do more complex un-packing:"
   ]
  },
  {
   "cell_type": "code",
   "execution_count": null,
   "metadata": {},
   "outputs": [],
   "source": [
    "for n, (course_num, description) in enumerate(courses.items()):\n",
    "    print(f\"Item {n}: DSCI {course_num}, is {description}\")"
   ]
  },
  {
   "cell_type": "markdown",
   "metadata": {
    "slideshow": {
     "slide_type": "slide"
    }
   },
   "source": [
    "### Challenge: Pairwise Differences\n",
    "\n",
    "Write a loop that takes a list of integers as input and returns a new list that contains the absolute differences between each pair of adjacent elements in the input list.\n",
    "\n",
    "For example, if the input list is `[1, 3, 5, 7]`, the output list should be `[2, 2, 2]`, which represents the absolute differences between adjacent elements: `abs(3-1)`, `abs(5-3)`, and `abs(7-5)`."
   ]
  },
  {
   "cell_type": "code",
   "execution_count": null,
   "metadata": {
    "slideshow": {
     "slide_type": "fragment"
    }
   },
   "outputs": [],
   "source": []
  },
  {
   "cell_type": "markdown",
   "metadata": {
    "slideshow": {
     "slide_type": "slide"
    }
   },
   "source": [
    "## `while` loops"
   ]
  },
  {
   "cell_type": "markdown",
   "metadata": {},
   "source": [
    "- We can also use a [`while` loop](https://docs.python.org/3/reference/compound_stmts.html#while) to execute a block of code until a condition becomes `False`.\n",
    "- Beware! If the conditional expression is always `True`, then you've got an infinite loop!\n",
    ">(Use the \"Stop\" button in the toolbar above, or `Ctrl+C` in the terminal, to kill the program if you get an infinite loop.)\n",
    "\n",
    "Here is the structure of a `while` loop:"
   ]
  },
  {
   "cell_type": "markdown",
   "metadata": {},
   "source": [
    "```\n",
    "while some_condition:\n",
    "    # do these things\n",
    "```\n",
    "\n",
    "Below we show an example of a simple `while` loop to get us started:"
   ]
  },
  {
   "cell_type": "code",
   "execution_count": null,
   "metadata": {},
   "outputs": [],
   "source": [
    "n = 5\n",
    "while n > 0:\n",
    "    print(n)\n",
    "    n -= 1\n",
    "\n",
    "print(\"Lift off!\")"
   ]
  },
  {
   "cell_type": "markdown",
   "metadata": {
    "slideshow": {
     "slide_type": "fragment"
    }
   },
   "source": [
    "- We can read the `while` statement above as if it were English.\n",
    "- It means, \n",
    "> _While n is greater than 0, display the value of n and then decrement n by 1. When you get to 0, display \"Lift off!\"_\n",
    "- But for some loops, it's hard to tell when, or if, they will stop!"
   ]
  },
  {
   "cell_type": "markdown",
   "metadata": {
    "slideshow": {
     "slide_type": "slide"
    }
   },
   "source": [
    "**Coding challenge: the [Collatz conjecture](https://en.wikipedia.org/wiki/Collatz_conjecture)**\n",
    "\n",
    "Pick a starting positive integer $ n $. Next terms are obtained as follows: if the previous term is even, the next term is one half of the previous term. If the previous term is odd, the next term is 3 times the previous term plus 1\n",
    "\n",
    "The conjecture states that no matter what positive integer $ n $ we start with, the sequence will always eventually reach 1"
   ]
  },
  {
   "cell_type": "code",
   "execution_count": null,
   "metadata": {
    "slideshow": {
     "slide_type": "fragment"
    }
   },
   "outputs": [],
   "source": [
    "n = 5\n",
    "\n",
    "while n != 1:\n",
    "    print(n)\n",
    "    if n % 2 == 0:  # n is even\n",
    "        n = n // 2\n",
    "    else:  # n is odd\n",
    "        n = n * 3 + 1\n",
    "\n",
    "print(n)"
   ]
  },
  {
   "cell_type": "markdown",
   "metadata": {
    "slideshow": {
     "slide_type": "slide"
    }
   },
   "source": [
    "- In some cases, you may want to force a `while` loop to stop based on some criteria, using the `break` keyword"
   ]
  },
  {
   "cell_type": "code",
   "execution_count": null,
   "metadata": {},
   "outputs": [],
   "source": [
    "n = 123\n",
    "i = 0\n",
    "\n",
    "while n != 1:\n",
    "    print(n)\n",
    "    if n % 2 == 0:  # n is even\n",
    "        n = n // 2\n",
    "    else:  # n is odd\n",
    "        n = n * 3 + 1\n",
    "    i += 1\n",
    "    if i == 10:\n",
    "        print(f\"Ugh, too many iterations!\")\n",
    "        break"
   ]
  },
  {
   "cell_type": "markdown",
   "metadata": {
    "slideshow": {
     "slide_type": "slide"
    }
   },
   "source": [
    "- The `continue` keyword is similar to `break` but won't stop the loop\n",
    "- Instead, `continue` ignores what comes after it, and goes to the next iteration."
   ]
  },
  {
   "cell_type": "code",
   "execution_count": null,
   "metadata": {},
   "outputs": [],
   "source": [
    "n = 10\n",
    "while n > 0:\n",
    "    if n % 2 != 0:  # n is odd\n",
    "        n -= 1\n",
    "        continue\n",
    "        print('Can anyone hear me?')  # this line is never executed\n",
    "    print(n)\n",
    "    n -= 1\n",
    "\n",
    "print(\"Lift off!\")"
   ]
  },
  {
   "cell_type": "markdown",
   "metadata": {
    "slideshow": {
     "slide_type": "slide"
    }
   },
   "source": [
    "## Comprehensions"
   ]
  },
  {
   "cell_type": "markdown",
   "metadata": {},
   "source": [
    "#### Iteration in comprehensions\n",
    "\n",
    "Comprehensions allow us to build lists/tuples/sets/dictionaries in one convenient, compact line of code. Below is a standard for loop you might use to iterate over an iterable and create a list"
   ]
  },
  {
   "cell_type": "code",
   "execution_count": null,
   "metadata": {},
   "outputs": [],
   "source": [
    "subliminal = ['Toby', 'ingests', 'many', 'eggs', 'to', 'outrun',\n",
    "              'large', 'eagles', 'after', 'running', 'near', '!']\n",
    "\n",
    "first_letters = []\n",
    "\n",
    "for word in subliminal:\n",
    "    first_letters.append(word[0])\n",
    "\n",
    "print(first_letters)"
   ]
  },
  {
   "cell_type": "markdown",
   "metadata": {
    "slideshow": {
     "slide_type": "fragment"
    }
   },
   "source": [
    "A list comprehension allows us to do this in one line"
   ]
  },
  {
   "cell_type": "code",
   "execution_count": null,
   "metadata": {},
   "outputs": [],
   "source": [
    "letters = [word[0] for word in subliminal]  # list comprehension\n",
    "letters"
   ]
  },
  {
   "cell_type": "markdown",
   "metadata": {},
   "source": [
    "Similar to `for` loops, we can choose to use indexing instead of iterating directly over the items of the iterable. Here's the example above using indexing:"
   ]
  },
  {
   "cell_type": "code",
   "execution_count": null,
   "metadata": {},
   "outputs": [],
   "source": [
    "[subliminal[i][0] for i in range(len(subliminal))]"
   ]
  },
  {
   "cell_type": "markdown",
   "metadata": {
    "slideshow": {
     "slide_type": "slide"
    }
   },
   "source": [
    "We can do more complex loops with comprehensions, including multiple iterations. Below we perform a comprehension that is equivalent to a nested for loop, where the outer loop is `for i in range(3)` and the inner loop is `for j in range(4)`:"
   ]
  },
  {
   "cell_type": "code",
   "execution_count": null,
   "metadata": {},
   "outputs": [],
   "source": [
    "[(i, j) for i in range(3) for j in range(4)]"
   ]
  },
  {
   "cell_type": "markdown",
   "metadata": {},
   "source": [
    "To convince you of this, here's the equivalent code as a nested for loop:"
   ]
  },
  {
   "cell_type": "code",
   "execution_count": null,
   "metadata": {},
   "outputs": [],
   "source": [
    "my_list = []\n",
    "for i in range(3):\n",
    "    for j in range(4):\n",
    "        my_list.append((i, j))\n",
    "\n",
    "my_list"
   ]
  },
  {
   "cell_type": "markdown",
   "metadata": {
    "slideshow": {
     "slide_type": "skip"
    }
   },
   "source": [
    "#### Conditionals in comprehensions\n",
    "\n",
    "Condition the iterator to select even numbers only:"
   ]
  },
  {
   "cell_type": "code",
   "execution_count": null,
   "metadata": {
    "slideshow": {
     "slide_type": "skip"
    }
   },
   "outputs": [],
   "source": [
    "[i for i in range(11) if i % 2 == 0]"
   ]
  },
  {
   "cell_type": "markdown",
   "metadata": {},
   "source": [
    "Condition the iterator to multiply `i` by `-1` if `i` is even:"
   ]
  },
  {
   "cell_type": "code",
   "execution_count": null,
   "metadata": {
    "slideshow": {
     "slide_type": "skip"
    }
   },
   "outputs": [],
   "source": [
    "[-i if i % 2 == 0 else i for i in range(11)]"
   ]
  },
  {
   "cell_type": "markdown",
   "metadata": {
    "slideshow": {
     "slide_type": "skip"
    }
   },
   "source": [
    "Note that:\n",
    "\n",
    "> - if you only want to keep certain elements, put the condition at the end. **You can't have an `else` statement in this case.**\n",
    "\n",
    "> - If you need all elements in the list, put the condition at the beginning. **Having an `else` statement is mandatory in this case**"
   ]
  },
  {
   "cell_type": "markdown",
   "metadata": {
    "slideshow": {
     "slide_type": "slide"
    }
   },
   "source": [
    "#### Comprehensions and data types\n",
    "\n",
    "We are not limited to lists for comprehensions. We can make a comprehension with several iterables, including lists, tuples, sets and dictionaries.\n",
    "\n",
    "Below we demonstrate a set comprehension that returns the set of first characters from a list of words:"
   ]
  },
  {
   "cell_type": "code",
   "execution_count": null,
   "metadata": {},
   "outputs": [],
   "source": [
    "words = ['hello', 'goodbye', 'the', 'antidisestablishmentarianism']\n",
    "y = {word[-1] for word in words}  # set comprehension\n",
    "y"
   ]
  },
  {
   "cell_type": "markdown",
   "metadata": {},
   "source": [
    "We see only 3 elements because a set contains only unique items and there would have been two \"e\"s."
   ]
  },
  {
   "cell_type": "markdown",
   "metadata": {
    "slideshow": {
     "slide_type": "slide"
    }
   },
   "source": [
    "Below we demonstrate a dictionary comprehension that iterates over a list, and returns a dictionary where the keys are the words, and the values are the number of characters in each word:"
   ]
  },
  {
   "cell_type": "code",
   "execution_count": null,
   "metadata": {},
   "outputs": [],
   "source": [
    "words = ['hello', 'goodbye', 'the', 'antidisestablishmentarianism']\n",
    "word_lengths = {word: len(word) for word in words}  # dictionary comprehension\n",
    "word_lengths"
   ]
  },
  {
   "cell_type": "markdown",
   "metadata": {
    "slideshow": {
     "slide_type": "skip"
    }
   },
   "source": [
    "Interestingly, there are not tuple comprehensions in Python. Instead we need to create a generator that we then convert to a tuple.\n",
    "\n",
    "What the heck is a generator? It is a special type of function in Python that returns a lazy iterator (an iterator that is not immediately evaluated). Given that it is not immediately evaluated, these can be more memory efficient as well as time efficient for larger data sets. Generators can be iterated over later to yield their values. It is important to note however, that once a generator is iterated over, it cannot be re-used\n",
    "\n",
    "Later in MDS we will get more into generators, for now we will only demonstrate how we can write a generator expression to get a tuple.\n",
    "\n",
    "Generator comprehensions use `(` notation (which differs from the `[` and `{` syntax used by lists, sets and dictionaries). And the iteration setup inside the generator comprehension is the same as that of other comprehensions. \n",
    "\n",
    "Going back to our first example, where we have the `words` list and we want to get the first letter from each word, if we use `(` brackets, we obtain a generator object:"
   ]
  },
  {
   "cell_type": "code",
   "execution_count": null,
   "metadata": {},
   "outputs": [],
   "source": [
    "subliminal"
   ]
  },
  {
   "cell_type": "code",
   "execution_count": null,
   "metadata": {
    "slideshow": {
     "slide_type": "skip"
    }
   },
   "outputs": [],
   "source": [
    "(word[0] for word in subliminal)"
   ]
  },
  {
   "cell_type": "markdown",
   "metadata": {},
   "source": [
    "We can then get the values back from the generator object by applying a function like `list` or `tuple`, or `set` to evaluate it:"
   ]
  },
  {
   "cell_type": "code",
   "execution_count": null,
   "metadata": {},
   "outputs": [],
   "source": [
    "list(word[0] for word in subliminal)"
   ]
  },
  {
   "cell_type": "code",
   "execution_count": null,
   "metadata": {},
   "outputs": [],
   "source": [
    "tuple(word[0] for word in subliminal)"
   ]
  },
  {
   "cell_type": "code",
   "execution_count": null,
   "metadata": {},
   "outputs": [],
   "source": [
    "set(word[0] for word in subliminal)"
   ]
  },
  {
   "cell_type": "markdown",
   "metadata": {},
   "source": [
    "In summary, while Python doesn't have tuple comprehensions directly, we can use generator expressions to achieve similar functionality, which can then be converted into tuples, lists, or sets as needed. Generator expressions offer both memory efficiency and flexibility by generating values on the fly rather than storing them in memory.\n",
    "\n",
    "As we move forward, we’ll encounter more examples of how generators can be powerful tools for optimizing performance, especially when dealing with large datasets. For now, this introduction should give you a solid foundation for using generator expressions in simple cases."
   ]
  },
  {
   "cell_type": "code",
   "execution_count": null,
   "metadata": {},
   "outputs": [],
   "source": []
  }
 ],
 "metadata": {
  "celltoolbar": "Slideshow",
  "kernelspec": {
   "display_name": "Python 3 (ipykernel)",
   "language": "python",
   "name": "python3"
  },
  "language_info": {
   "codemirror_mode": {
    "name": "ipython",
    "version": 3
   },
   "file_extension": ".py",
   "mimetype": "text/x-python",
   "name": "python",
   "nbconvert_exporter": "python",
   "pygments_lexer": "ipython3",
   "version": "3.11.10"
  },
  "toc": {
   "base_numbering": 1,
   "nav_menu": {},
   "number_sections": false,
   "sideBar": true,
   "skip_h1_title": true,
   "title_cell": "Lecture Outline",
   "title_sidebar": "Contents",
   "toc_cell": true,
   "toc_position": {},
   "toc_section_display": true,
   "toc_window_display": true
  },
  "toc-autonumbering": false,
  "toc-showcode": false,
  "toc-showmarkdowntxt": false,
  "toc-showtags": false
 },
 "nbformat": 4,
 "nbformat_minor": 4
}
