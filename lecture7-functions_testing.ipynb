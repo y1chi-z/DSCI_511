{
 "cells": [
  {
   "cell_type": "markdown",
   "metadata": {
    "slideshow": {
     "slide_type": "slide"
    }
   },
   "source": [
    "<img src=\"img/dsci511_header.png\" width=\"600\">"
   ]
  },
  {
   "cell_type": "markdown",
   "metadata": {},
   "source": [
    "# Lecture 7: Functions & Testing"
   ]
  },
  {
   "cell_type": "markdown",
   "metadata": {},
   "source": [
    "## Lecture learning objectives\n",
    "\n",
    "- Define a function and an anonymous function in Python\n",
    "- Describe the difference between positional and keyword arguments\n",
    "- Describe the difference between local and global arguments\n",
    "- Apply the DRY principle to write modular code\n",
    "- Assess whether a function has side effects\n",
    "- Write a docstring for a function that describes parameters, return values, behaviour and usage\n",
    "- Write a try/except statement\n",
    "- Explain the notion of scoping in Python\n",
    "- Predict whether a function modifies a global variable with scope outside of the function definition.\n",
    "- Formulate a test case to prove a function design specification\n",
    "- Use an assert statement to validate a test case"
   ]
  },
  {
   "cell_type": "markdown",
   "metadata": {
    "slideshow": {
     "slide_type": "slide"
    }
   },
   "source": [
    "## Functions"
   ]
  },
  {
   "cell_type": "markdown",
   "metadata": {},
   "source": [
    "- Define a [**function**](https://docs.python.org/3/tutorial/controlflow.html#defining-functions) to re-use a block of code with different inputs.\n",
    "- Function definition syntax:\n",
    "\n",
    "```python\n",
    "def function(param1=arg1, param2=arg2, ...):\n",
    "    # do something\n",
    "    output = ...\n",
    "    return output\n",
    "```"
   ]
  },
  {
   "cell_type": "markdown",
   "metadata": {
    "slideshow": {
     "slide_type": "notes"
    }
   },
   "source": [
    "* Functions begin with the `def` keyword, then the function name, parameters/arguments in parentheses, and then a colon (`:`)\n",
    "* The function block defined by indentation\n",
    "* Output or \"return\" value of the function is given by the `return` keyword"
   ]
  },
  {
   "cell_type": "markdown",
   "metadata": {
    "slideshow": {
     "slide_type": "slide"
    }
   },
   "source": [
    "For example, suppose that we want to compute the probability density function of the [normal distribution](https://en.wikipedia.org/wiki/Normal_distribution), which is given by:\n",
    "\n",
    "$$\n",
    "f(x) = \\frac{1}{\\sigma\\sqrt{2\\pi}} e^{-\\frac{1}{2}\\left(\\frac{x - \\mu}{\\sigma}\\right)^2}\n",
    "$$\n",
    "\n",
    "Let's assume that we want to compute $ f(2) $ for a mean of $ \\mu = 2.5 $ and variance of $ \\sigma = 0.3 $:"
   ]
  },
  {
   "cell_type": "code",
   "execution_count": 1,
   "metadata": {},
   "outputs": [
    {
     "data": {
      "text/plain": [
       "0.3315904626424956"
      ]
     },
     "execution_count": 1,
     "metadata": {},
     "output_type": "execute_result"
    }
   ],
   "source": [
    "import math\n",
    "\n",
    "(1 / (0.3 * (2 * math.pi)**0.5)) * math.exp(-0.5 * ((2 - 2.5) / 0.3)**2)"
   ]
  },
  {
   "cell_type": "markdown",
   "metadata": {
    "slideshow": {
     "slide_type": "fragment"
    }
   },
   "source": [
    "- With a function, we can abstract things and avoid repetition:"
   ]
  },
  {
   "cell_type": "code",
   "execution_count": 2,
   "metadata": {},
   "outputs": [],
   "source": [
    "def pdf_normal(x, μ, σ):\n",
    "    prefactor = (1 / (σ * (2 * math.pi)**0.5))\n",
    "    exp_value = math.exp(-0.5 * ((x - μ) / σ)**2)\n",
    "    pdf = prefactor * exp_value\n",
    "    return pdf"
   ]
  },
  {
   "cell_type": "code",
   "execution_count": 3,
   "metadata": {},
   "outputs": [
    {
     "data": {
      "text/plain": [
       "0.3315904626424956"
      ]
     },
     "execution_count": 3,
     "metadata": {},
     "output_type": "execute_result"
    }
   ],
   "source": [
    "pdf_normal(2, 2.5, 0.3)"
   ]
  },
  {
   "cell_type": "code",
   "execution_count": 4,
   "metadata": {},
   "outputs": [
    {
     "data": {
      "text/plain": [
       "0.24197072451914337"
      ]
     },
     "execution_count": 4,
     "metadata": {},
     "output_type": "execute_result"
    }
   ],
   "source": [
    "pdf_normal(1, 0, 1)"
   ]
  },
  {
   "cell_type": "markdown",
   "metadata": {},
   "source": [
    "### Functions and Data Science"
   ]
  },
  {
   "cell_type": "markdown",
   "metadata": {},
   "source": [
    "#### Reminder from Worksheet 1"
   ]
  },
  {
   "cell_type": "code",
   "execution_count": 122,
   "metadata": {},
   "outputs": [],
   "source": [
    "import pandas as pd\n",
    "url = \"https://raw.githubusercontent.com/rfordatascience/tidytuesday/master/data/2020/2020-02-18/food_consumption.csv\"\n",
    "df = pd.read_csv(url)"
   ]
  },
  {
   "cell_type": "code",
   "execution_count": 125,
   "metadata": {},
   "outputs": [
    {
     "data": {
      "text/plain": [
       "Index(['country', 'food_category', 'consumption', 'co2_emmission'], dtype='object')"
      ]
     },
     "execution_count": 125,
     "metadata": {},
     "output_type": "execute_result"
    }
   ],
   "source": [
    "df.columns"
   ]
  },
  {
   "cell_type": "markdown",
   "metadata": {},
   "source": [
    "How many different kinds of foods are there in the dataset? How many countries are in the dataset?"
   ]
  },
  {
   "cell_type": "code",
   "execution_count": 139,
   "metadata": {},
   "outputs": [],
   "source": [
    "n_food = df[\"food_category\"].nunique() # Week 1 SOLUTION\n",
    "n_country = df[\"country\"].nunique() # Week 1 SOLUTION"
   ]
  },
  {
   "cell_type": "markdown",
   "metadata": {},
   "source": [
    "What if we want to do this for an arbitrary DataFrame and column?"
   ]
  },
  {
   "cell_type": "code",
   "execution_count": 133,
   "metadata": {},
   "outputs": [],
   "source": [
    "def count_kind(df, column_name):\n",
    "    count = df[column_name].nunique()\n",
    "    return count"
   ]
  },
  {
   "cell_type": "code",
   "execution_count": 134,
   "metadata": {},
   "outputs": [
    {
     "data": {
      "text/plain": [
       "11"
      ]
     },
     "execution_count": 134,
     "metadata": {},
     "output_type": "execute_result"
    }
   ],
   "source": [
    "count_kind(df, \"food_category\")"
   ]
  },
  {
   "cell_type": "markdown",
   "metadata": {},
   "source": [
    "Can we read modify this so that it takes the `url` as an input?"
   ]
  },
  {
   "cell_type": "code",
   "execution_count": 135,
   "metadata": {},
   "outputs": [],
   "source": [
    "def count_kind(url, column_name):\n",
    "    df = pd.read_csv(url)\n",
    "    count = df[column_name].nunique()\n",
    "    return count"
   ]
  },
  {
   "cell_type": "code",
   "execution_count": 136,
   "metadata": {},
   "outputs": [
    {
     "data": {
      "text/plain": [
       "11"
      ]
     },
     "execution_count": 136,
     "metadata": {},
     "output_type": "execute_result"
    }
   ],
   "source": [
    "count_kind(url, \"food_category\")"
   ]
  },
  {
   "cell_type": "markdown",
   "metadata": {
    "slideshow": {
     "slide_type": "slide"
    }
   },
   "source": [
    "### Side effects & local variables"
   ]
  },
  {
   "cell_type": "markdown",
   "metadata": {},
   "source": [
    "- When you create a variable inside a function, it is **local**, which means that it only exists inside the function. For example:"
   ]
  },
  {
   "cell_type": "code",
   "execution_count": 2,
   "metadata": {},
   "outputs": [],
   "source": [
    "import numpy as np\n",
    "\n",
    "def sum_arrays(array_1, array_2):\n",
    "    final_array = array_1 + array_2\n",
    "    return final_array"
   ]
  },
  {
   "cell_type": "code",
   "execution_count": 3,
   "metadata": {},
   "outputs": [
    {
     "data": {
      "text/plain": [
       "array([3, 3, 3])"
      ]
     },
     "execution_count": 3,
     "metadata": {},
     "output_type": "execute_result"
    }
   ],
   "source": [
    "array_1 = np.array([1,1,1])\n",
    "array_2 = np.array([2,2,2])\n",
    "\n",
    "sum_arrays(array_1, array_2)"
   ]
  },
  {
   "cell_type": "code",
   "execution_count": 4,
   "metadata": {},
   "outputs": [
    {
     "ename": "NameError",
     "evalue": "name 'final_array' is not defined",
     "output_type": "error",
     "traceback": [
      "\u001b[0;31m---------------------------------------------------------------------------\u001b[0m",
      "\u001b[0;31mNameError\u001b[0m                                 Traceback (most recent call last)",
      "Cell \u001b[0;32mIn[4], line 1\u001b[0m\n\u001b[0;32m----> 1\u001b[0m \u001b[43mfinal_array\u001b[49m\n",
      "\u001b[0;31mNameError\u001b[0m: name 'final_array' is not defined"
     ]
    }
   ],
   "source": [
    "final_array"
   ]
  },
  {
   "cell_type": "markdown",
   "metadata": {
    "slideshow": {
     "slide_type": "slide"
    }
   },
   "source": [
    "- If a function does anything other than returning a value, it is said to have **side effects**. An example of this is when a function changes the variables passed into it, or when a function prints something to the screen.\n",
    "\n",
    "- Example:"
   ]
  },
  {
   "cell_type": "code",
   "execution_count": 6,
   "metadata": {},
   "outputs": [],
   "source": [
    "def silly_sum(my_list):\n",
    "    my_list.append(8.5)\n",
    "    return sum(my_list)"
   ]
  },
  {
   "cell_type": "code",
   "execution_count": 7,
   "metadata": {},
   "outputs": [
    {
     "data": {
      "text/plain": [
       "18.5"
      ]
     },
     "execution_count": 7,
     "metadata": {},
     "output_type": "execute_result"
    }
   ],
   "source": [
    "nums = [1, 2, 3, 4]\n",
    "out = silly_sum(nums)\n",
    "out"
   ]
  },
  {
   "cell_type": "markdown",
   "metadata": {
    "slideshow": {
     "slide_type": "fragment"
    }
   },
   "source": [
    "- Looks like what we wanted.\n",
    "- But wait... it changed our `nums` object..."
   ]
  },
  {
   "cell_type": "code",
   "execution_count": 8,
   "metadata": {},
   "outputs": [
    {
     "data": {
      "text/plain": [
       "[1, 2, 3, 4, 8.5]"
      ]
     },
     "execution_count": 8,
     "metadata": {},
     "output_type": "execute_result"
    }
   ],
   "source": [
    "nums"
   ]
  },
  {
   "cell_type": "markdown",
   "metadata": {},
   "source": [
    "What if we do this with a numpy array?"
   ]
  },
  {
   "cell_type": "code",
   "execution_count": 14,
   "metadata": {},
   "outputs": [],
   "source": [
    "def silly_sum_np(my_array):\n",
    "    my_array = np.append(my_array, 8.5)\n",
    "    return my_array.sum()"
   ]
  },
  {
   "cell_type": "code",
   "execution_count": 15,
   "metadata": {},
   "outputs": [
    {
     "data": {
      "text/plain": [
       "np.float64(18.5)"
      ]
     },
     "execution_count": 15,
     "metadata": {},
     "output_type": "execute_result"
    }
   ],
   "source": [
    "test_array = np.array([1, 2, 3, 4])\n",
    "np_out = silly_sum_np(test_array)\n",
    "np_out"
   ]
  },
  {
   "cell_type": "code",
   "execution_count": 16,
   "metadata": {},
   "outputs": [
    {
     "data": {
      "text/plain": [
       "array([1, 2, 3, 4])"
      ]
     },
     "execution_count": 16,
     "metadata": {},
     "output_type": "execute_result"
    }
   ],
   "source": [
    "test_array"
   ]
  },
  {
   "cell_type": "markdown",
   "metadata": {
    "slideshow": {
     "slide_type": "fragment"
    }
   },
   "source": [
    "- If your function has side effects, you must mention it in the documentation (later today)."
   ]
  },
  {
   "cell_type": "markdown",
   "metadata": {},
   "source": [
    "### `None` return type"
   ]
  },
  {
   "cell_type": "markdown",
   "metadata": {},
   "source": [
    "- If you do not specify a return value, the function returns `None` when it terminates:"
   ]
  },
  {
   "cell_type": "code",
   "execution_count": 4,
   "metadata": {},
   "outputs": [
    {
     "name": "stdout",
     "output_type": "stream",
     "text": [
      "x = 999!\n",
      "None\n"
     ]
    }
   ],
   "source": [
    "def f(x):\n",
    "    x + 1  # no return!\n",
    "    if x == 999:\n",
    "        print('x = 999!')\n",
    "\n",
    "\n",
    "print(f(999))"
   ]
  },
  {
   "cell_type": "markdown",
   "metadata": {
    "slideshow": {
     "slide_type": "slide"
    }
   },
   "source": [
    "### Optional & required arguments"
   ]
  },
  {
   "cell_type": "markdown",
   "metadata": {},
   "source": [
    "- Sometimes it is convenient to have _default values_ for some arguments in a function. \n",
    "- Because they have default values, these arguments are optional, hence \"optional arguments\"\n",
    "- Example:"
   ]
  },
  {
   "cell_type": "code",
   "execution_count": 25,
   "metadata": {},
   "outputs": [],
   "source": [
    "def magnify_numbers(s, n=2):\n",
    "    return s*n"
   ]
  },
  {
   "cell_type": "code",
   "execution_count": 26,
   "metadata": {
    "slideshow": {
     "slide_type": "fragment"
    }
   },
   "outputs": [
    {
     "data": {
      "text/plain": [
       "array([2, 4])"
      ]
     },
     "execution_count": 26,
     "metadata": {},
     "output_type": "execute_result"
    }
   ],
   "source": [
    "magnify_numbers(np.array([1,2]), 2)"
   ]
  },
  {
   "cell_type": "code",
   "execution_count": 29,
   "metadata": {
    "slideshow": {
     "slide_type": "fragment"
    }
   },
   "outputs": [
    {
     "data": {
      "text/plain": [
       "array([ 5, 10])"
      ]
     },
     "execution_count": 29,
     "metadata": {},
     "output_type": "execute_result"
    }
   ],
   "source": [
    "magnify_numbers(np.array([1,2]), 5)"
   ]
  },
  {
   "cell_type": "code",
   "execution_count": 30,
   "metadata": {
    "slideshow": {
     "slide_type": "fragment"
    }
   },
   "outputs": [
    {
     "data": {
      "text/plain": [
       "array([2, 4])"
      ]
     },
     "execution_count": 30,
     "metadata": {},
     "output_type": "execute_result"
    }
   ],
   "source": [
    "magnify_numbers(np.array([1,2]))  # do not specify `n`; it is optional"
   ]
  },
  {
   "cell_type": "markdown",
   "metadata": {
    "slideshow": {
     "slide_type": "skip"
    }
   },
   "source": [
    "- You can have any number of required arguments and any number of default arguments\n",
    "- All the default arguments must come after the required arguments\n",
    "- The required arguments are mapped by the order they appear\n",
    "- The default arguments can be specified out of order"
   ]
  },
  {
   "cell_type": "code",
   "execution_count": 230,
   "metadata": {
    "slideshow": {
     "slide_type": "skip"
    }
   },
   "outputs": [
    {
     "name": "stdout",
     "output_type": "stream",
     "text": [
      "1 2 3 4\n"
     ]
    }
   ],
   "source": [
    "def example(a, b, c=\"DEFAULT\", d=\"DEFAULT\"):\n",
    "    print(a, b, c, d)\n",
    "\n",
    "\n",
    "example(1, 2, 3, 4)"
   ]
  },
  {
   "cell_type": "code",
   "execution_count": 242,
   "metadata": {},
   "outputs": [
    {
     "name": "stdout",
     "output_type": "stream",
     "text": [
      "1 2 3 4\n"
     ]
    }
   ],
   "source": [
    "example(1, b = 2, c = 3, d = 4)"
   ]
  },
  {
   "cell_type": "markdown",
   "metadata": {
    "slideshow": {
     "slide_type": "skip"
    }
   },
   "source": [
    "- Using the defaults for `c` and `d`:"
   ]
  },
  {
   "cell_type": "code",
   "execution_count": 32,
   "metadata": {
    "slideshow": {
     "slide_type": "skip"
    }
   },
   "outputs": [
    {
     "name": "stdout",
     "output_type": "stream",
     "text": [
      "1 2 DEFAULT DEFAULT\n"
     ]
    }
   ],
   "source": [
    "example(1, 2)"
   ]
  },
  {
   "cell_type": "markdown",
   "metadata": {
    "slideshow": {
     "slide_type": "skip"
    }
   },
   "source": [
    "- Specifying `c` and `d` as **keyword arguments** (i.e. by name):"
   ]
  },
  {
   "cell_type": "code",
   "execution_count": 33,
   "metadata": {
    "slideshow": {
     "slide_type": "skip"
    }
   },
   "outputs": [
    {
     "name": "stdout",
     "output_type": "stream",
     "text": [
      "1 2 3 4\n"
     ]
    }
   ],
   "source": [
    "example(1, 2, c=3, d=4)"
   ]
  },
  {
   "cell_type": "markdown",
   "metadata": {
    "slideshow": {
     "slide_type": "skip"
    }
   },
   "source": [
    "- Specifying only one of the optional arguments, by keyword:"
   ]
  },
  {
   "cell_type": "code",
   "execution_count": 38,
   "metadata": {
    "slideshow": {
     "slide_type": "skip"
    }
   },
   "outputs": [
    {
     "name": "stdout",
     "output_type": "stream",
     "text": [
      "1 2 3 DEFAULT\n"
     ]
    }
   ],
   "source": [
    "example(1, 2, c=3)"
   ]
  },
  {
   "cell_type": "markdown",
   "metadata": {
    "slideshow": {
     "slide_type": "skip"
    }
   },
   "source": [
    "- Specifying all the arguments as keyword arguments, even though only `c` and `d` are optional:"
   ]
  },
  {
   "cell_type": "code",
   "execution_count": 39,
   "metadata": {
    "slideshow": {
     "slide_type": "skip"
    }
   },
   "outputs": [
    {
     "name": "stdout",
     "output_type": "stream",
     "text": [
      "1 2 3 4\n"
     ]
    }
   ],
   "source": [
    "example(a=1, b=2, c=3, d=4)"
   ]
  },
  {
   "cell_type": "markdown",
   "metadata": {
    "slideshow": {
     "slide_type": "skip"
    }
   },
   "source": [
    "- Specifying `c` by the fact that it comes 3rd (I do not recommend this because I find it is confusing):"
   ]
  },
  {
   "cell_type": "code",
   "execution_count": 40,
   "metadata": {
    "slideshow": {
     "slide_type": "skip"
    }
   },
   "outputs": [
    {
     "name": "stdout",
     "output_type": "stream",
     "text": [
      "1 2 3 DEFAULT\n"
     ]
    }
   ],
   "source": [
    "example(1, 2, 3)"
   ]
  },
  {
   "cell_type": "markdown",
   "metadata": {
    "slideshow": {
     "slide_type": "skip"
    }
   },
   "source": [
    "- Specifying the optional arguments by keyword, but out of order:"
   ]
  },
  {
   "cell_type": "code",
   "execution_count": 41,
   "metadata": {
    "slideshow": {
     "slide_type": "skip"
    }
   },
   "outputs": [
    {
     "name": "stdout",
     "output_type": "stream",
     "text": [
      "1 2 3 4\n"
     ]
    }
   ],
   "source": [
    "example(1, 2, d=4, c=3)"
   ]
  },
  {
   "cell_type": "markdown",
   "metadata": {
    "slideshow": {
     "slide_type": "skip"
    }
   },
   "source": [
    "- Specifying the non-optional arguments by keyword (I am fine with this):"
   ]
  },
  {
   "cell_type": "code",
   "execution_count": 42,
   "metadata": {
    "slideshow": {
     "slide_type": "skip"
    }
   },
   "outputs": [
    {
     "name": "stdout",
     "output_type": "stream",
     "text": [
      "1 2 DEFAULT DEFAULT\n"
     ]
    }
   ],
   "source": [
    "example(a=1, b=2)"
   ]
  },
  {
   "cell_type": "markdown",
   "metadata": {
    "slideshow": {
     "slide_type": "skip"
    }
   },
   "source": [
    "- Specifying the non-optional arguments by keyword, but in the wrong order (not recommended, I find it confusing):"
   ]
  },
  {
   "cell_type": "code",
   "execution_count": 43,
   "metadata": {
    "slideshow": {
     "slide_type": "skip"
    }
   },
   "outputs": [
    {
     "name": "stdout",
     "output_type": "stream",
     "text": [
      "1 2 DEFAULT DEFAULT\n"
     ]
    }
   ],
   "source": [
    "example(b=2, a=1)"
   ]
  },
  {
   "cell_type": "markdown",
   "metadata": {
    "slideshow": {
     "slide_type": "skip"
    }
   },
   "source": [
    "- Specifying keyword arguments before non-keyword arguments (this throws an error):"
   ]
  },
  {
   "cell_type": "code",
   "execution_count": 44,
   "metadata": {
    "slideshow": {
     "slide_type": "skip"
    }
   },
   "outputs": [
    {
     "ename": "SyntaxError",
     "evalue": "positional argument follows keyword argument (1657783790.py, line 1)",
     "output_type": "error",
     "traceback": [
      "\u001b[0;36m  Cell \u001b[0;32mIn[44], line 1\u001b[0;36m\u001b[0m\n\u001b[0;31m    example(a=2, 1)\u001b[0m\n\u001b[0m                  ^\u001b[0m\n\u001b[0;31mSyntaxError\u001b[0m\u001b[0;31m:\u001b[0m positional argument follows keyword argument\n"
     ]
    }
   ],
   "source": [
    "example(a=2, 1)"
   ]
  },
  {
   "cell_type": "markdown",
   "metadata": {
    "slideshow": {
     "slide_type": "skip"
    }
   },
   "source": [
    "- In general, I am used to calling non-optional arguments by order, and optional arguments by keyword.\n",
    "- The language allows us to deviate from this, but it can be unnecessarily confusing sometimes."
   ]
  },
  {
   "cell_type": "markdown",
   "metadata": {
    "slideshow": {
     "slide_type": "notes"
    }
   },
   "source": [
    "- Ideally, the default should be carefully chosen. \n",
    "- Here, the idea of \"repeating\" something makes me think of having 2 copies, so `n=2` feels like a sane default."
   ]
  },
  {
   "cell_type": "markdown",
   "metadata": {
    "slideshow": {
     "slide_type": "slide"
    }
   },
   "source": [
    "### Multiple return values"
   ]
  },
  {
   "cell_type": "markdown",
   "metadata": {},
   "source": [
    "- In many programming languages, functions can only return one object\n",
    "- That is technically true in Python, but there is a \"workaround\", which is to return a tuple."
   ]
  },
  {
   "cell_type": "code",
   "execution_count": 78,
   "metadata": {},
   "outputs": [],
   "source": [
    "def mean_and_median(x):\n",
    "    return (np.mean(x), np.median(x))"
   ]
  },
  {
   "cell_type": "code",
   "execution_count": 80,
   "metadata": {},
   "outputs": [
    {
     "data": {
      "text/plain": [
       "(np.float64(3.0), np.float64(3.0))"
      ]
     },
     "execution_count": 80,
     "metadata": {},
     "output_type": "execute_result"
    }
   ],
   "source": [
    "mean_and_median([1,2,3,4,5])"
   ]
  },
  {
   "cell_type": "markdown",
   "metadata": {
    "slideshow": {
     "slide_type": "skip"
    }
   },
   "source": [
    "- The parentheses can be omitted in this case, and a `tuple` is implicitly returned as defined by the use of the comma: "
   ]
  },
  {
   "cell_type": "code",
   "execution_count": 81,
   "metadata": {
    "slideshow": {
     "slide_type": "skip"
    }
   },
   "outputs": [],
   "source": [
    "def mean_and_median(x):\n",
    "    return np.mean(x), np.median(x)"
   ]
  },
  {
   "cell_type": "code",
   "execution_count": 82,
   "metadata": {
    "slideshow": {
     "slide_type": "skip"
    }
   },
   "outputs": [
    {
     "data": {
      "text/plain": [
       "(np.float64(3.0), np.float64(3.0))"
      ]
     },
     "execution_count": 82,
     "metadata": {},
     "output_type": "execute_result"
    }
   ],
   "source": [
    "mean_and_median([1,2,3,4,5])"
   ]
  },
  {
   "cell_type": "markdown",
   "metadata": {
    "slideshow": {
     "slide_type": "fragment"
    }
   },
   "source": [
    "- It is common to immediately unpack a returned tuple into separate variables, so it really feels like the function is returning multiple values:"
   ]
  },
  {
   "cell_type": "code",
   "execution_count": 83,
   "metadata": {},
   "outputs": [],
   "source": [
    "s, p = mean_and_median([1,2,3.2,4,5])"
   ]
  },
  {
   "cell_type": "code",
   "execution_count": 84,
   "metadata": {},
   "outputs": [
    {
     "data": {
      "text/plain": [
       "np.float64(3.04)"
      ]
     },
     "execution_count": 84,
     "metadata": {},
     "output_type": "execute_result"
    }
   ],
   "source": [
    "s"
   ]
  },
  {
   "cell_type": "code",
   "execution_count": 85,
   "metadata": {},
   "outputs": [
    {
     "data": {
      "text/plain": [
       "np.float64(3.2)"
      ]
     },
     "execution_count": 85,
     "metadata": {},
     "output_type": "execute_result"
    }
   ],
   "source": [
    "p"
   ]
  },
  {
   "cell_type": "markdown",
   "metadata": {
    "slideshow": {
     "slide_type": "slide"
    }
   },
   "source": [
    "- As an aside, it is conventional in Python to use `_` for values you don't want:"
   ]
  },
  {
   "cell_type": "code",
   "execution_count": 86,
   "metadata": {},
   "outputs": [],
   "source": [
    "s, _ = mean_and_median([1,2,3.2,4,5])"
   ]
  },
  {
   "cell_type": "code",
   "execution_count": 87,
   "metadata": {},
   "outputs": [
    {
     "data": {
      "text/plain": [
       "np.float64(3.04)"
      ]
     },
     "execution_count": 87,
     "metadata": {},
     "output_type": "execute_result"
    }
   ],
   "source": [
    "s"
   ]
  },
  {
   "cell_type": "code",
   "execution_count": 88,
   "metadata": {},
   "outputs": [
    {
     "data": {
      "text/plain": [
       "np.float64(3.2)"
      ]
     },
     "execution_count": 88,
     "metadata": {},
     "output_type": "execute_result"
    }
   ],
   "source": [
    "_"
   ]
  },
  {
   "cell_type": "markdown",
   "metadata": {
    "slideshow": {
     "slide_type": "slide"
    }
   },
   "source": [
    "### Passing Multiple Arguments to a Function"
   ]
  },
  {
   "cell_type": "markdown",
   "metadata": {},
   "source": [
    "```python\n",
    "def my_sum(a, b):\n",
    "    return a + b\n",
    "```\n",
    "\n",
    "- This function works fine, but it’s limited to only two arguments. \n",
    "- What if you need to sum a varying number of arguments, where the specific number of arguments passed is only determined at runtime? \n",
    "- Wouldn’t it be great to create a function that could sum all the integers passed to it, no matter how many there are?"
   ]
  },
  {
   "cell_type": "markdown",
   "metadata": {
    "slideshow": {
     "slide_type": "fragment"
    }
   },
   "source": [
    "- You can also call/define functions that accept an arbitrary number of positional or keyword arguments using `*args` and `**kwargs`. See, e.g. [here](https://realpython.com/python-kwargs-and-args/)"
   ]
  },
  {
   "cell_type": "code",
   "execution_count": 89,
   "metadata": {},
   "outputs": [],
   "source": [
    "def add(*args):\n",
    "    print(args)\n",
    "    return sum(args)"
   ]
  },
  {
   "cell_type": "code",
   "execution_count": 90,
   "metadata": {},
   "outputs": [
    {
     "name": "stdout",
     "output_type": "stream",
     "text": [
      "(1, 2, 3, 4, 5, 6)\n"
     ]
    },
    {
     "data": {
      "text/plain": [
       "21"
      ]
     },
     "execution_count": 90,
     "metadata": {},
     "output_type": "execute_result"
    }
   ],
   "source": [
    "add(1, 2, 3, 4, 5 , 6)"
   ]
  },
  {
   "cell_type": "markdown",
   "metadata": {
    "slideshow": {
     "slide_type": "fragment"
    }
   },
   "source": [
    "`**kwargs` works just like `*args`, but instead of accepting positional arguments it accepts keyword (or named) arguments"
   ]
  },
  {
   "cell_type": "code",
   "execution_count": 91,
   "metadata": {
    "slideshow": {
     "slide_type": "-"
    }
   },
   "outputs": [],
   "source": [
    "def add(**kwargs):\n",
    "    print(kwargs)\n",
    "    return sum(kwargs.values())"
   ]
  },
  {
   "cell_type": "code",
   "execution_count": 92,
   "metadata": {},
   "outputs": [
    {
     "name": "stdout",
     "output_type": "stream",
     "text": [
      "{'a': 3, 'b': 4, 'c': 5}\n"
     ]
    },
    {
     "data": {
      "text/plain": [
       "12"
      ]
     },
     "execution_count": 92,
     "metadata": {},
     "output_type": "execute_result"
    }
   ],
   "source": [
    "add(a=3, b=4, c=5)"
   ]
  },
  {
   "cell_type": "markdown",
   "metadata": {
    "slideshow": {
     "slide_type": "skip"
    }
   },
   "source": [
    "- Do not instantiate objects (like empty lists) in the function definition - see [here](https://docs.python-guide.org/writing/gotchas/) under \"Mutable Default Arguments\""
   ]
  },
  {
   "cell_type": "code",
   "execution_count": 93,
   "metadata": {
    "slideshow": {
     "slide_type": "skip"
    }
   },
   "outputs": [],
   "source": [
    "def example(a, b=[]):  # don't do this!\n",
    "    b.append(a)\n",
    "    return b"
   ]
  },
  {
   "cell_type": "code",
   "execution_count": 94,
   "metadata": {
    "slideshow": {
     "slide_type": "skip"
    }
   },
   "outputs": [
    {
     "data": {
      "text/plain": [
       "[1]"
      ]
     },
     "execution_count": 94,
     "metadata": {},
     "output_type": "execute_result"
    }
   ],
   "source": [
    "example(1)"
   ]
  },
  {
   "cell_type": "code",
   "execution_count": 95,
   "metadata": {
    "slideshow": {
     "slide_type": "skip"
    }
   },
   "outputs": [
    {
     "data": {
      "text/plain": [
       "[1, 2]"
      ]
     },
     "execution_count": 95,
     "metadata": {},
     "output_type": "execute_result"
    }
   ],
   "source": [
    "example(2)  # the list inside the function persists and got appended to!"
   ]
  },
  {
   "cell_type": "code",
   "execution_count": 96,
   "metadata": {},
   "outputs": [
    {
     "data": {
      "text/plain": [
       "[1, 2, 2]"
      ]
     },
     "execution_count": 96,
     "metadata": {},
     "output_type": "execute_result"
    }
   ],
   "source": [
    "example(2)"
   ]
  },
  {
   "cell_type": "code",
   "execution_count": 97,
   "metadata": {
    "slideshow": {
     "slide_type": "skip"
    }
   },
   "outputs": [],
   "source": [
    "def example(a, b=None):  # instead, do this\n",
    "    if b is None:\n",
    "        b = []\n",
    "    b.append(a)\n",
    "    return b"
   ]
  },
  {
   "cell_type": "code",
   "execution_count": 98,
   "metadata": {
    "slideshow": {
     "slide_type": "skip"
    }
   },
   "outputs": [
    {
     "data": {
      "text/plain": [
       "[1]"
      ]
     },
     "execution_count": 98,
     "metadata": {},
     "output_type": "execute_result"
    }
   ],
   "source": [
    "example(1)"
   ]
  },
  {
   "cell_type": "code",
   "execution_count": 99,
   "metadata": {
    "slideshow": {
     "slide_type": "skip"
    }
   },
   "outputs": [
    {
     "data": {
      "text/plain": [
       "[2]"
      ]
     },
     "execution_count": 99,
     "metadata": {},
     "output_type": "execute_result"
    }
   ],
   "source": [
    "example(2)"
   ]
  },
  {
   "cell_type": "markdown",
   "metadata": {
    "slideshow": {
     "slide_type": "skip"
    }
   },
   "source": [
    "## Functions as a data type"
   ]
  },
  {
   "cell_type": "markdown",
   "metadata": {
    "slideshow": {
     "slide_type": "skip"
    }
   },
   "source": [
    "- In Python, functions are a data type just like anything else. "
   ]
  },
  {
   "cell_type": "code",
   "execution_count": 100,
   "metadata": {
    "slideshow": {
     "slide_type": "skip"
    }
   },
   "outputs": [],
   "source": [
    "def do_nothing(x):\n",
    "    return x"
   ]
  },
  {
   "cell_type": "code",
   "execution_count": 101,
   "metadata": {
    "slideshow": {
     "slide_type": "skip"
    }
   },
   "outputs": [
    {
     "data": {
      "text/plain": [
       "function"
      ]
     },
     "execution_count": 101,
     "metadata": {},
     "output_type": "execute_result"
    }
   ],
   "source": [
    "type(do_nothing)"
   ]
  },
  {
   "cell_type": "code",
   "execution_count": 102,
   "metadata": {
    "slideshow": {
     "slide_type": "skip"
    }
   },
   "outputs": [
    {
     "name": "stdout",
     "output_type": "stream",
     "text": [
      "<function do_nothing at 0x107734d60>\n"
     ]
    }
   ],
   "source": [
    "print(do_nothing)"
   ]
  },
  {
   "cell_type": "markdown",
   "metadata": {
    "slideshow": {
     "slide_type": "skip"
    }
   },
   "source": [
    "- This means you can pass functions as arguments into other functions."
   ]
  },
  {
   "cell_type": "code",
   "execution_count": 103,
   "metadata": {
    "slideshow": {
     "slide_type": "skip"
    }
   },
   "outputs": [],
   "source": [
    "def square(y):\n",
    "    return y**2\n",
    "\n",
    "\n",
    "def evaluate_function_on_x_plus_1(fun, x):\n",
    "    return fun(x+1)"
   ]
  },
  {
   "cell_type": "code",
   "execution_count": 104,
   "metadata": {
    "slideshow": {
     "slide_type": "skip"
    }
   },
   "outputs": [
    {
     "data": {
      "text/plain": [
       "36"
      ]
     },
     "execution_count": 104,
     "metadata": {},
     "output_type": "execute_result"
    }
   ],
   "source": [
    "evaluate_function_on_x_plus_1(square, 5)"
   ]
  },
  {
   "cell_type": "markdown",
   "metadata": {
    "slideshow": {
     "slide_type": "skip"
    }
   },
   "source": [
    "- Above: what happened here?\n",
    "  - `fun(x+1)` becomes `square(5+1)`\n",
    "  - `square(6)` becomes `36`"
   ]
  },
  {
   "cell_type": "markdown",
   "metadata": {
    "slideshow": {
     "slide_type": "skip"
    }
   },
   "source": [
    "- You can also write functions that return functions, or define functions inside of other functions.\n",
    "- We'll see examples of this when we get to classes & decorators"
   ]
  },
  {
   "cell_type": "markdown",
   "metadata": {
    "slideshow": {
     "slide_type": "skip"
    }
   },
   "source": [
    "## Anonymous functions"
   ]
  },
  {
   "cell_type": "markdown",
   "metadata": {
    "slideshow": {
     "slide_type": "skip"
    }
   },
   "source": [
    "- There are two ways to define functions in Python:"
   ]
  },
  {
   "cell_type": "code",
   "execution_count": 105,
   "metadata": {
    "slideshow": {
     "slide_type": "skip"
    }
   },
   "outputs": [],
   "source": [
    "def add_one(x):\n",
    "    return x+1"
   ]
  },
  {
   "cell_type": "code",
   "execution_count": 106,
   "metadata": {
    "slideshow": {
     "slide_type": "skip"
    }
   },
   "outputs": [
    {
     "data": {
      "text/plain": [
       "8.2"
      ]
     },
     "execution_count": 106,
     "metadata": {},
     "output_type": "execute_result"
    }
   ],
   "source": [
    "add_one(7.2)"
   ]
  },
  {
   "cell_type": "code",
   "execution_count": 107,
   "metadata": {
    "slideshow": {
     "slide_type": "skip"
    }
   },
   "outputs": [
    {
     "data": {
      "text/plain": [
       "<function __main__.<lambda>(x)>"
      ]
     },
     "execution_count": 107,
     "metadata": {},
     "output_type": "execute_result"
    }
   ],
   "source": [
    "lambda x: x+1"
   ]
  },
  {
   "cell_type": "code",
   "execution_count": 108,
   "metadata": {
    "slideshow": {
     "slide_type": "skip"
    }
   },
   "outputs": [
    {
     "data": {
      "text/plain": [
       "function"
      ]
     },
     "execution_count": 108,
     "metadata": {},
     "output_type": "execute_result"
    }
   ],
   "source": [
    "type(lambda x: x+1)"
   ]
  },
  {
   "cell_type": "code",
   "execution_count": 109,
   "metadata": {
    "slideshow": {
     "slide_type": "skip"
    }
   },
   "outputs": [
    {
     "data": {
      "text/plain": [
       "8.2"
      ]
     },
     "execution_count": 109,
     "metadata": {},
     "output_type": "execute_result"
    }
   ],
   "source": [
    "(lambda x: x+1)(7.2)"
   ]
  },
  {
   "cell_type": "markdown",
   "metadata": {
    "slideshow": {
     "slide_type": "skip"
    }
   },
   "source": [
    "- The two approaches above are identical. The one with `lambda` is called an **anonymous function**.\n",
    "- Anonymous functions can only take up one line of code, so they aren't appropriate in most cases, but can be useful for smaller things"
   ]
  },
  {
   "cell_type": "code",
   "execution_count": 110,
   "metadata": {
    "slideshow": {
     "slide_type": "skip"
    }
   },
   "outputs": [
    {
     "data": {
      "text/plain": [
       "36"
      ]
     },
     "execution_count": 110,
     "metadata": {},
     "output_type": "execute_result"
    }
   ],
   "source": [
    "evaluate_function_on_x_plus_1(lambda x: x ** 2, 5)"
   ]
  },
  {
   "cell_type": "markdown",
   "metadata": {
    "slideshow": {
     "slide_type": "skip"
    }
   },
   "source": [
    "Above:\n",
    "\n",
    "- First, `lambda x: x**2` evaluates to a value of type `function`\n",
    "  - Notice that this function is never given a name - hence \"anonymous functions\" !\n",
    "- Then, the function and the integer `5` are passed into `evaluate_function_on_x_plus_1`\n",
    "- At which point the anonymous function is evaluated on `5+1`, and we get `36`."
   ]
  },
  {
   "cell_type": "markdown",
   "metadata": {
    "slideshow": {
     "slide_type": "skip"
    }
   },
   "source": [
    "- Anonymous functions can have multiple arguments, as well as multiple outputs:"
   ]
  },
  {
   "cell_type": "code",
   "execution_count": 111,
   "metadata": {
    "slideshow": {
     "slide_type": "skip"
    }
   },
   "outputs": [
    {
     "data": {
      "text/plain": [
       "(7, 3, 25)"
      ]
     },
     "execution_count": 111,
     "metadata": {},
     "output_type": "execute_result"
    }
   ],
   "source": [
    "(lambda x, y: (x+y, x-y, x**y))(5, 2)"
   ]
  },
  {
   "cell_type": "markdown",
   "metadata": {
    "slideshow": {
     "slide_type": "slide"
    }
   },
   "source": [
    "## DRY principle: designing good functions"
   ]
  },
  {
   "cell_type": "markdown",
   "metadata": {},
   "source": [
    "- DRY: **Don't Repeat Yourself**\n",
    "- See [Wikipedia article](https://en.wikipedia.org/wiki/Don%27t_repeat_yourself)\n",
    "- Consider the task of, for each element of a list, turning it into a palindrome\n",
    "  - e.g. \"mike\" => \"mikeekim\""
   ]
  },
  {
   "cell_type": "code",
   "execution_count": 112,
   "metadata": {},
   "outputs": [],
   "source": [
    "names = [\"hedayat\", \"scott\", \"prajeet\"]"
   ]
  },
  {
   "cell_type": "code",
   "execution_count": 113,
   "metadata": {},
   "outputs": [
    {
     "data": {
      "text/plain": [
       "'tayadeh'"
      ]
     },
     "execution_count": 113,
     "metadata": {},
     "output_type": "execute_result"
    }
   ],
   "source": [
    "name = \"hedayat\"\n",
    "name[::-1]  # creates a slice that starts at the end and moves backwards, syntax is [begin:end:step]"
   ]
  },
  {
   "cell_type": "code",
   "execution_count": 243,
   "metadata": {},
   "outputs": [
    {
     "data": {
      "text/plain": [
       "['hedayattayadeh', 'scottttocs', 'prajeetteejarp']"
      ]
     },
     "execution_count": 243,
     "metadata": {},
     "output_type": "execute_result"
    }
   ],
   "source": [
    "names_backwards = list()\n",
    "\n",
    "names_backwards.append(names[0] + names[0][::-1])\n",
    "names_backwards.append(names[1] + names[1][::-1])\n",
    "names_backwards.append(names[2] + names[2][::-1])\n",
    "names_backwards"
   ]
  },
  {
   "cell_type": "markdown",
   "metadata": {
    "slideshow": {
     "slide_type": "fragment"
    }
   },
   "source": [
    "- Above: this is gross and terrible coding:\n",
    "  1. It only works for a list with 3 elements\n",
    "  2. It only works for a list named `names`\n",
    "  3. If we want to change its functionality, we need to change 3 similar lines of code (Don't Repeat Yourself!!)\n",
    "  4. It is hard to understand what it does just by looking at it"
   ]
  },
  {
   "cell_type": "code",
   "execution_count": 244,
   "metadata": {
    "slideshow": {
     "slide_type": "slide"
    }
   },
   "outputs": [
    {
     "data": {
      "text/plain": [
       "['hedayattayadeh', 'scottttocs', 'prajeetteejarp']"
      ]
     },
     "execution_count": 244,
     "metadata": {},
     "output_type": "execute_result"
    }
   ],
   "source": [
    "names_backwards = list()\n",
    "\n",
    "for name in names:\n",
    "    names_backwards.append(name + name[::-1])\n",
    "\n",
    "names_backwards"
   ]
  },
  {
   "cell_type": "markdown",
   "metadata": {},
   "source": [
    "- Above: this is slightly better. We have solved problems (1) and (3).\n",
    "- But let's create a function to make our life easier"
   ]
  },
  {
   "cell_type": "code",
   "execution_count": 245,
   "metadata": {
    "slideshow": {
     "slide_type": "slide"
    }
   },
   "outputs": [],
   "source": [
    "def make_palindromes(names):\n",
    "    names_backwards = []\n",
    "\n",
    "    for name in names:\n",
    "        names_backwards.append(name + name[::-1])\n",
    "\n",
    "    return names_backwards"
   ]
  },
  {
   "cell_type": "code",
   "execution_count": 246,
   "metadata": {},
   "outputs": [
    {
     "data": {
      "text/plain": [
       "['hedayattayadeh', 'scottttocs', 'prajeetteejarp']"
      ]
     },
     "execution_count": 246,
     "metadata": {},
     "output_type": "execute_result"
    }
   ],
   "source": [
    "make_palindromes(names)"
   ]
  },
  {
   "cell_type": "markdown",
   "metadata": {},
   "source": [
    "- Above: this is even better. We have now also solved problem (2), because you can call the function with any list, not just `names`. \n",
    "- For example, what if we had multiple _lists_:"
   ]
  },
  {
   "cell_type": "code",
   "execution_count": 247,
   "metadata": {
    "slideshow": {
     "slide_type": "fragment"
    }
   },
   "outputs": [],
   "source": [
    "names1 = [\"hedayat\", \"scott\", \"prajeet\"]\n",
    "names2 = [\"apple\", \"orange\", \"banana\", \"strawberry\"]"
   ]
  },
  {
   "cell_type": "code",
   "execution_count": 248,
   "metadata": {},
   "outputs": [
    {
     "data": {
      "text/plain": [
       "['hedayattayadeh', 'scottttocs', 'prajeetteejarp']"
      ]
     },
     "execution_count": 248,
     "metadata": {},
     "output_type": "execute_result"
    }
   ],
   "source": [
    "make_palindromes(names1)"
   ]
  },
  {
   "cell_type": "code",
   "execution_count": 249,
   "metadata": {},
   "outputs": [
    {
     "data": {
      "text/plain": [
       "['appleelppa', 'orangeegnaro', 'bananaananab', 'strawberryyrrebwarts']"
      ]
     },
     "execution_count": 249,
     "metadata": {},
     "output_type": "execute_result"
    }
   ],
   "source": [
    "make_palindromes(names2)"
   ]
  },
  {
   "cell_type": "markdown",
   "metadata": {
    "slideshow": {
     "slide_type": "skip"
    }
   },
   "source": [
    "### Designing good functions"
   ]
  },
  {
   "cell_type": "markdown",
   "metadata": {
    "slideshow": {
     "slide_type": "skip"
    }
   },
   "source": [
    "- How far you go and how you choose to apply the DRY principle is up to you and the programming context\n",
    "- These decisions are often ambiguous. For example: \n",
    "  - Should `make_palindromes` be a function if I'm only ever doing it once? Twice?\n",
    "  - Should the loop be inside the function, or outside?\n",
    "  - Or should there be TWO functions, one that loops over the other??"
   ]
  },
  {
   "cell_type": "markdown",
   "metadata": {
    "slideshow": {
     "slide_type": "skip"
    }
   },
   "source": [
    "- In my personal opinion, `make_palindromes` does a bit too much to be understandable.\n",
    "- I prefer this:"
   ]
  },
  {
   "cell_type": "code",
   "execution_count": 252,
   "metadata": {
    "slideshow": {
     "slide_type": "skip"
    }
   },
   "outputs": [],
   "source": [
    "def make_palindrome(name):\n",
    "    return name + name[::-1]"
   ]
  },
  {
   "cell_type": "code",
   "execution_count": 253,
   "metadata": {
    "slideshow": {
     "slide_type": "skip"
    }
   },
   "outputs": [
    {
     "data": {
      "text/plain": [
       "'hedayattayadeh'"
      ]
     },
     "execution_count": 253,
     "metadata": {},
     "output_type": "execute_result"
    }
   ],
   "source": [
    "make_palindrome(\"hedayat\")"
   ]
  },
  {
   "cell_type": "markdown",
   "metadata": {
    "slideshow": {
     "slide_type": "skip"
    }
   },
   "source": [
    "- From here, we want to \"apply `make_palindrome` to every element of a list\"\n",
    "- We could do this with list comprehension"
   ]
  },
  {
   "cell_type": "code",
   "execution_count": 254,
   "metadata": {
    "slideshow": {
     "slide_type": "skip"
    }
   },
   "outputs": [
    {
     "data": {
      "text/plain": [
       "['hedayattayadeh', 'scottttocs', 'prajeetteejarp']"
      ]
     },
     "execution_count": 254,
     "metadata": {},
     "output_type": "execute_result"
    }
   ],
   "source": [
    "[make_palindrome(name) for name in names]"
   ]
  },
  {
   "cell_type": "markdown",
   "metadata": {
    "slideshow": {
     "slide_type": "skip"
    }
   },
   "source": [
    "- Or there is also the in-built `map()` function which does exactly this, applies a function to every element of a sequence"
   ]
  },
  {
   "cell_type": "code",
   "execution_count": 124,
   "metadata": {
    "slideshow": {
     "slide_type": "skip"
    }
   },
   "outputs": [
    {
     "data": {
      "text/plain": [
       "['hedayattayadeh', 'scottttocs', 'prajeetteejarp']"
      ]
     },
     "execution_count": 124,
     "metadata": {},
     "output_type": "execute_result"
    }
   ],
   "source": [
    "list(map(make_palindrome, names))"
   ]
  },
  {
   "cell_type": "markdown",
   "metadata": {
    "slideshow": {
     "slide_type": "skip"
    }
   },
   "source": [
    "## (Optional) Generators"
   ]
  },
  {
   "cell_type": "markdown",
   "metadata": {
    "slideshow": {
     "slide_type": "skip"
    }
   },
   "source": [
    "- Recall list comprehension from the previous lecture"
   ]
  },
  {
   "cell_type": "code",
   "execution_count": 125,
   "metadata": {
    "slideshow": {
     "slide_type": "skip"
    }
   },
   "outputs": [
    {
     "data": {
      "text/plain": [
       "[0, 1, 2, 3, 4, 5, 6, 7, 8, 9]"
      ]
     },
     "execution_count": 125,
     "metadata": {},
     "output_type": "execute_result"
    }
   ],
   "source": [
    "[n for n in range(10)]"
   ]
  },
  {
   "cell_type": "markdown",
   "metadata": {
    "slideshow": {
     "slide_type": "skip"
    }
   },
   "source": [
    "- Comprehensions evaluate the entire expression at once, and then return the full data product\n",
    "- Sometimes, we want to work with just one part of our data at a time, for example, when we can't fit all of our data in memory (I'll show an example of this a little later)\n",
    "- For this, we can use generators (you'll see more of these when we get to DSCI 572!)"
   ]
  },
  {
   "cell_type": "code",
   "execution_count": 126,
   "metadata": {
    "slideshow": {
     "slide_type": "skip"
    }
   },
   "outputs": [
    {
     "data": {
      "text/plain": [
       "<generator object <genexpr> at 0x10c279be0>"
      ]
     },
     "execution_count": 126,
     "metadata": {},
     "output_type": "execute_result"
    }
   ],
   "source": [
    "(n for n in range(10))"
   ]
  },
  {
   "cell_type": "markdown",
   "metadata": {
    "slideshow": {
     "slide_type": "skip"
    }
   },
   "source": [
    "- Notice that we just created a `generator object`\n",
    "- Generator objects are like a \"recipe\" for generating values\n",
    "- They don't actually do any computation until they are asked to\n",
    "- We can get values from a generator in three main ways:\n",
    "  - Using `next()`\n",
    "  - Using `list()`\n",
    "  - Looping"
   ]
  },
  {
   "cell_type": "code",
   "execution_count": 127,
   "metadata": {
    "slideshow": {
     "slide_type": "skip"
    }
   },
   "outputs": [],
   "source": [
    "gen = (n for n in range(10))"
   ]
  },
  {
   "cell_type": "code",
   "execution_count": 128,
   "metadata": {
    "slideshow": {
     "slide_type": "skip"
    }
   },
   "outputs": [
    {
     "data": {
      "text/plain": [
       "0"
      ]
     },
     "execution_count": 128,
     "metadata": {},
     "output_type": "execute_result"
    }
   ],
   "source": [
    "next(gen)"
   ]
  },
  {
   "cell_type": "code",
   "execution_count": 129,
   "metadata": {
    "slideshow": {
     "slide_type": "skip"
    }
   },
   "outputs": [
    {
     "data": {
      "text/plain": [
       "1"
      ]
     },
     "execution_count": 129,
     "metadata": {},
     "output_type": "execute_result"
    }
   ],
   "source": [
    "next(gen)"
   ]
  },
  {
   "cell_type": "code",
   "execution_count": 130,
   "metadata": {},
   "outputs": [
    {
     "data": {
      "text/plain": [
       "[2, 3, 4, 5, 6, 7, 8, 9]"
      ]
     },
     "execution_count": 130,
     "metadata": {},
     "output_type": "execute_result"
    }
   ],
   "source": [
    "list(gen)"
   ]
  },
  {
   "cell_type": "markdown",
   "metadata": {
    "slideshow": {
     "slide_type": "skip"
    }
   },
   "source": [
    "- But once the generator is exhausted, it will no longer return values:"
   ]
  },
  {
   "cell_type": "code",
   "execution_count": 131,
   "metadata": {
    "slideshow": {
     "slide_type": "skip"
    }
   },
   "outputs": [
    {
     "name": "stdout",
     "output_type": "stream",
     "text": [
      "0\n",
      "1\n",
      "2\n",
      "3\n",
      "4\n",
      "5\n",
      "6\n",
      "7\n",
      "8\n",
      "9\n"
     ]
    },
    {
     "ename": "StopIteration",
     "evalue": "",
     "output_type": "error",
     "traceback": [
      "\u001b[0;31m---------------------------------------------------------------------------\u001b[0m",
      "\u001b[0;31mStopIteration\u001b[0m                             Traceback (most recent call last)",
      "Cell \u001b[0;32mIn[131], line 3\u001b[0m\n\u001b[1;32m      1\u001b[0m gen \u001b[38;5;241m=\u001b[39m (n \u001b[38;5;28;01mfor\u001b[39;00m n \u001b[38;5;129;01min\u001b[39;00m \u001b[38;5;28mrange\u001b[39m(\u001b[38;5;241m10\u001b[39m))\n\u001b[1;32m      2\u001b[0m \u001b[38;5;28;01mfor\u001b[39;00m i \u001b[38;5;129;01min\u001b[39;00m \u001b[38;5;28mrange\u001b[39m(\u001b[38;5;241m11\u001b[39m):\n\u001b[0;32m----> 3\u001b[0m     \u001b[38;5;28mprint\u001b[39m(\u001b[38;5;28mnext\u001b[39m(gen))\n",
      "\u001b[0;31mStopIteration\u001b[0m: "
     ]
    }
   ],
   "source": [
    "gen = (n for n in range(10))\n",
    "for i in range(11):\n",
    "    print(next(gen))"
   ]
  },
  {
   "cell_type": "markdown",
   "metadata": {
    "slideshow": {
     "slide_type": "skip"
    }
   },
   "source": [
    "- We can see all the values of a generator using `list()` but this defeats the purpose of using a generator in the first place"
   ]
  },
  {
   "cell_type": "code",
   "execution_count": 132,
   "metadata": {
    "slideshow": {
     "slide_type": "skip"
    }
   },
   "outputs": [
    {
     "data": {
      "text/plain": [
       "[0, 1, 2, 3, 4, 5, 6, 7, 8, 9]"
      ]
     },
     "execution_count": 132,
     "metadata": {},
     "output_type": "execute_result"
    }
   ],
   "source": [
    "gen = (n for n in range(10))\n",
    "list(gen)"
   ]
  },
  {
   "cell_type": "markdown",
   "metadata": {
    "slideshow": {
     "slide_type": "skip"
    }
   },
   "source": [
    "- Finally, we can loop over generator objects too"
   ]
  },
  {
   "cell_type": "code",
   "execution_count": 133,
   "metadata": {
    "slideshow": {
     "slide_type": "skip"
    }
   },
   "outputs": [
    {
     "name": "stdout",
     "output_type": "stream",
     "text": [
      "0\n",
      "1\n",
      "2\n",
      "3\n",
      "4\n",
      "5\n",
      "6\n",
      "7\n",
      "8\n",
      "9\n"
     ]
    }
   ],
   "source": [
    "gen = (n for n in range(10))\n",
    "for i in gen:\n",
    "    print(i)"
   ]
  },
  {
   "cell_type": "markdown",
   "metadata": {
    "slideshow": {
     "slide_type": "skip"
    }
   },
   "source": [
    "- Above, we saw how to create a generator object using comprehension syntax but with parentheses\n",
    "- We can also create a generator using functions and the `yield` keyword (instead of the `return` keyword)"
   ]
  },
  {
   "cell_type": "code",
   "execution_count": 134,
   "metadata": {
    "slideshow": {
     "slide_type": "skip"
    }
   },
   "outputs": [],
   "source": [
    "def gen():\n",
    "    for n in range(10):\n",
    "        yield (n, n ** 2)"
   ]
  },
  {
   "cell_type": "code",
   "execution_count": 135,
   "metadata": {
    "slideshow": {
     "slide_type": "skip"
    }
   },
   "outputs": [
    {
     "name": "stdout",
     "output_type": "stream",
     "text": [
      "(0, 0)\n",
      "(1, 1)\n",
      "(2, 4)\n"
     ]
    },
    {
     "data": {
      "text/plain": [
       "[(3, 9), (4, 16), (5, 25), (6, 36), (7, 49), (8, 64), (9, 81)]"
      ]
     },
     "execution_count": 135,
     "metadata": {},
     "output_type": "execute_result"
    }
   ],
   "source": [
    "g = gen()\n",
    "print(next(g))\n",
    "print(next(g))\n",
    "print(next(g))\n",
    "list(g)"
   ]
  },
  {
   "cell_type": "markdown",
   "metadata": {
    "slideshow": {
     "slide_type": "skip"
    }
   },
   "source": [
    "Generators can thought of as **state-preserving** functions.\n",
    "  - This means that a generator keeps track of what items have been already generated, and what the state of the generator is at any point."
   ]
  },
  {
   "cell_type": "markdown",
   "metadata": {
    "slideshow": {
     "slide_type": "skip"
    }
   },
   "source": [
    "- We'll work with generators more when we get to 572 and other ML courses where we are often working with large datasets (images are especially memory-consuming!)\n",
    "- But so you keep them in the back of your mind, below is some real-world motivation of a case where a generator might be useful\n",
    "- Say we want to create a list of dictionaries containing information about houses in Canada"
   ]
  },
  {
   "cell_type": "code",
   "execution_count": 136,
   "metadata": {
    "slideshow": {
     "slide_type": "skip"
    }
   },
   "outputs": [],
   "source": [
    "# !conda install -y memory_profiler"
   ]
  },
  {
   "cell_type": "code",
   "execution_count": 210,
   "metadata": {
    "slideshow": {
     "slide_type": "skip"
    }
   },
   "outputs": [],
   "source": [
    "import random  \n",
    "import time\n",
    "import memory_profiler\n",
    "city = ['Vancouver', 'Toronto', 'Ottawa',\n",
    "        'Montreal', 'Edmonton', 'Calgary']"
   ]
  },
  {
   "cell_type": "code",
   "execution_count": 138,
   "metadata": {
    "slideshow": {
     "slide_type": "skip"
    }
   },
   "outputs": [],
   "source": [
    "def house_list(n):\n",
    "    houses = []\n",
    "    for i in range(n):\n",
    "        house = {\n",
    "            'id': i,\n",
    "            'city': random.choice(city),\n",
    "            'bedrooms': random.randint(1, 5),\n",
    "            'bathrooms': random.randint(1, 3),\n",
    "            'price ($1000s)': random.randint(300, 1000)\n",
    "        }\n",
    "        houses.append(house)\n",
    "    return houses"
   ]
  },
  {
   "cell_type": "code",
   "execution_count": 139,
   "metadata": {
    "slideshow": {
     "slide_type": "skip"
    }
   },
   "outputs": [
    {
     "data": {
      "text/plain": [
       "[{'id': 0,\n",
       "  'city': 'Ottawa',\n",
       "  'bedrooms': 1,\n",
       "  'bathrooms': 1,\n",
       "  'price ($1000s)': 726},\n",
       " {'id': 1,\n",
       "  'city': 'Edmonton',\n",
       "  'bedrooms': 1,\n",
       "  'bathrooms': 2,\n",
       "  'price ($1000s)': 357}]"
      ]
     },
     "execution_count": 139,
     "metadata": {},
     "output_type": "execute_result"
    }
   ],
   "source": [
    "house_list(2)"
   ]
  },
  {
   "cell_type": "markdown",
   "metadata": {
    "slideshow": {
     "slide_type": "skip"
    }
   },
   "source": [
    "- What happens if we want to create a list of 1,000,000 houses?\n",
    "- How much time/memory will it take?"
   ]
  },
  {
   "cell_type": "code",
   "execution_count": 140,
   "metadata": {
    "slideshow": {
     "slide_type": "skip"
    }
   },
   "outputs": [
    {
     "name": "stdout",
     "output_type": "stream",
     "text": [
      "Memory usage before: 79 MB\n",
      "Memory usage after: 332 MB\n",
      "Time taken: 1.04s\n"
     ]
    }
   ],
   "source": [
    "start = time.time()\n",
    "print(f\"Memory usage before: {memory_profiler.memory_usage()[0]:.0f} MB\")\n",
    "\n",
    "result_list = house_list(1_000_000)\n",
    "\n",
    "print(f\"Memory usage after: {memory_profiler.memory_usage()[0]:.0f} MB\")\n",
    "print(f\"Time taken: {time.time() - start:.2f}s\")"
   ]
  },
  {
   "cell_type": "code",
   "execution_count": 141,
   "metadata": {
    "slideshow": {
     "slide_type": "skip"
    }
   },
   "outputs": [],
   "source": [
    "def house_generator(n):\n",
    "    for i in range(n):\n",
    "        house = {\n",
    "            'id': i,\n",
    "            'city': random.choice(city),\n",
    "            'bedrooms': random.randint(1, 5),\n",
    "            'bathrooms': random.randint(1, 3),\n",
    "            'price ($1000s)': random.randint(300, 1000)\n",
    "        }\n",
    "        yield house"
   ]
  },
  {
   "cell_type": "code",
   "execution_count": 142,
   "metadata": {
    "slideshow": {
     "slide_type": "skip"
    }
   },
   "outputs": [
    {
     "name": "stdout",
     "output_type": "stream",
     "text": [
      "Memory usage before: 332 MB\n",
      "Memory usage after: 332 MB\n",
      "Time taken: 0.21s\n"
     ]
    }
   ],
   "source": [
    "start = time.time()\n",
    "print(f\"Memory usage before: {memory_profiler.memory_usage()[0]:.0f} MB\")\n",
    "\n",
    "result_gen = house_generator(1_000_000)\n",
    "\n",
    "print(f\"Memory usage after: {memory_profiler.memory_usage()[0]:.0f} MB\")\n",
    "print(f\"Time taken: {time.time() - start:.2f}s\")"
   ]
  },
  {
   "cell_type": "code",
   "execution_count": 143,
   "metadata": {
    "slideshow": {
     "slide_type": "skip"
    }
   },
   "outputs": [
    {
     "data": {
      "text/plain": [
       "{'id': 0,\n",
       " 'city': 'Montreal',\n",
       " 'bedrooms': 2,\n",
       " 'bathrooms': 2,\n",
       " 'price ($1000s)': 935}"
      ]
     },
     "execution_count": 143,
     "metadata": {},
     "output_type": "execute_result"
    }
   ],
   "source": [
    "next(result_gen)"
   ]
  },
  {
   "cell_type": "markdown",
   "metadata": {
    "slideshow": {
     "slide_type": "skip"
    }
   },
   "source": [
    "- Although, if we used `list()` to extract all of the genertator values, we'd lose our memory savings"
   ]
  },
  {
   "cell_type": "code",
   "execution_count": 144,
   "metadata": {
    "slideshow": {
     "slide_type": "skip"
    }
   },
   "outputs": [
    {
     "name": "stdout",
     "output_type": "stream",
     "text": [
      "Memory usage before: 332 MB\n",
      "Memory usage after: 585 MB\n"
     ]
    }
   ],
   "source": [
    "print(f\"Memory usage before: {memory_profiler.memory_usage()[0]:.0f} MB\")\n",
    "\n",
    "result_gen = list(house_generator(1_000_000))\n",
    "\n",
    "print(f\"Memory usage after: {memory_profiler.memory_usage()[0]:.0f} MB\")"
   ]
  },
  {
   "cell_type": "markdown",
   "metadata": {
    "slideshow": {
     "slide_type": "notes"
    }
   },
   "source": [
    "Other function design considerations:\n",
    "\n",
    "- Should we print output or produce plots inside or outside functions? \n",
    "  - I would usually say outside, because this is a \"side effect\" of sorts\n",
    "  - Although there are certainly cases where I do plot or print within a function\n",
    "  - In these cases I usually add a function argument such as `plot=False` or `verbose=0` that allows users to control this behaviour.\n",
    "- Should the function do one thing or many things?\n",
    "  - This is a tough one, hard to answer in general, depends on the situation and programming style"
   ]
  },
  {
   "cell_type": "markdown",
   "metadata": {
    "slideshow": {
     "slide_type": "slide"
    }
   },
   "source": [
    "## Docstrings"
   ]
  },
  {
   "cell_type": "markdown",
   "metadata": {},
   "source": [
    "- One problem we never really solved when talking about writing good functions was: **\"4. It is hard to understand what it does just by looking at it\"**\n",
    "- Enter the idea of function documentation, called \"docstrings\"\n",
    "- The [docstring](https://www.python.org/dev/peps/pep-0257/) goes right after the `def` line and is wrapped in **triple quotes** `\"\"\"`"
   ]
  },
  {
   "cell_type": "code",
   "execution_count": 195,
   "metadata": {},
   "outputs": [],
   "source": [
    "def make_palindrome(string):\n",
    "    \"\"\"Turns the string into a palindrome by concatenating itself with a reversed version of itself.\"\"\"\n",
    "    return string + string[::-1]"
   ]
  },
  {
   "cell_type": "markdown",
   "metadata": {
    "slideshow": {
     "slide_type": "skip"
    }
   },
   "source": [
    "- In IPython/Jupyter, we can use `?` to view the documentation string of any function in our environment."
   ]
  },
  {
   "cell_type": "code",
   "execution_count": 196,
   "metadata": {
    "slideshow": {
     "slide_type": "skip"
    }
   },
   "outputs": [
    {
     "data": {
      "text/plain": [
       "\u001b[0;31mSignature:\u001b[0m \u001b[0mmake_palindrome\u001b[0m\u001b[0;34m(\u001b[0m\u001b[0mstring\u001b[0m\u001b[0;34m)\u001b[0m\u001b[0;34m\u001b[0m\u001b[0;34m\u001b[0m\u001b[0m\n",
       "\u001b[0;31mDocstring:\u001b[0m Turns the string into a palindrome by concatenating itself with a reversed version of itself.\n",
       "\u001b[0;31mFile:\u001b[0m      /var/folders/mp/13tr36k17_n99rc7qsh4dgxc0000gp/T/ipykernel_70234/2916775673.py\n",
       "\u001b[0;31mType:\u001b[0m      function"
      ]
     },
     "metadata": {},
     "output_type": "display_data"
    }
   ],
   "source": [
    "make_palindrome?"
   ]
  },
  {
   "cell_type": "markdown",
   "metadata": {
    "slideshow": {
     "slide_type": "skip"
    }
   },
   "source": [
    "- But, even easier than that, if your cursor is in the function parentheses, you can use the shortcut `shift + tab` to open the docstring at will"
   ]
  },
  {
   "cell_type": "code",
   "execution_count": 197,
   "metadata": {
    "slideshow": {
     "slide_type": "skip"
    }
   },
   "outputs": [
    {
     "data": {
      "text/plain": [
       "'uncomment and try pressing shift+tab here..ereh bat+tfihs gnisserp yrt dna tnemmocnu'"
      ]
     },
     "execution_count": 197,
     "metadata": {},
     "output_type": "execute_result"
    }
   ],
   "source": [
    "make_palindrome('uncomment and try pressing shift+tab here.')"
   ]
  },
  {
   "cell_type": "markdown",
   "metadata": {
    "slideshow": {
     "slide_type": "slide"
    }
   },
   "source": [
    "### Docstring structure"
   ]
  },
  {
   "cell_type": "markdown",
   "metadata": {},
   "source": [
    "- General docstring convention in Python is described in [PEP 257 - Docstring Conventions](https://www.python.org/dev/peps/pep-0257/). \n",
    "- There are many different docstring style conventions used in Python.\n",
    "- The exact style you use can be important for helping you to render your documentation (more on that in a later course), or for helping your IDE parse your documentation.\n",
    "- Common styles include:\n",
    "\n",
    "1. **Single-line**: If it's short, then just a single line describing the function will do (as above).\n",
    "2. **reST style**: see [here](https://www.python.org/dev/peps/pep-0287/).\n",
    "3. **NumPy/SciPy style**: see [here](https://sphinxcontrib-napoleon.readthedocs.io/en/latest/example_numpy.html). (RECOMMENDED! and MDS-preferred)\n",
    "4. **Google style**: see [here](https://sphinxcontrib-napoleon.readthedocs.io/en/latest/example_google.html#example-google)."
   ]
  },
  {
   "cell_type": "markdown",
   "metadata": {
    "slideshow": {
     "slide_type": "slide"
    }
   },
   "source": [
    "The NumPy/Scipy style:"
   ]
  },
  {
   "cell_type": "code",
   "execution_count": 148,
   "metadata": {},
   "outputs": [],
   "source": [
    "def function_name(param1, param2, param3):\n",
    "    \"\"\"First line is a short description of the function.\n",
    "\n",
    "    A paragraph describing in a bit more detail what the\n",
    "    function does and what algorithms it uses and common\n",
    "    use cases.\n",
    "\n",
    "    Parameters\n",
    "    ----------\n",
    "    param1 : datatype\n",
    "        A description of param1.\n",
    "    param2 : datatype\n",
    "        A description of param2.\n",
    "    param3 : datatype\n",
    "        A longer description because maybe this requires\n",
    "        more explanation and we can use several lines.\n",
    "\n",
    "    Returns\n",
    "    -------\n",
    "    datatype\n",
    "        A description of the output, datatypes and behaviours.\n",
    "        Describe special cases and anything the user needs to\n",
    "        know to use the function.\n",
    "\n",
    "    Examples\n",
    "    --------\n",
    "    >>> function_name(3,8,-5)\n",
    "    2.0\n",
    "    \"\"\""
   ]
  },
  {
   "cell_type": "code",
   "execution_count": 149,
   "metadata": {
    "slideshow": {
     "slide_type": "slide"
    }
   },
   "outputs": [],
   "source": [
    "def make_palindrome(string):\n",
    "    \"\"\"Turns the string into a palindrome by concatenating\n",
    "    itself with a reversed version of itself.\n",
    "\n",
    "    Parameters\n",
    "    ----------\n",
    "    string : str\n",
    "        The string to turn into a palindrome.\n",
    "\n",
    "    Returns\n",
    "    -------\n",
    "    str\n",
    "        string concatenated with a reversed version of string\n",
    "\n",
    "    Examples\n",
    "    --------\n",
    "    >>> make_palindrome('blah')\n",
    "    'blahhalb'\n",
    "    \"\"\"\n",
    "    return string + string[::-1]"
   ]
  },
  {
   "cell_type": "code",
   "execution_count": 150,
   "metadata": {},
   "outputs": [
    {
     "name": "stdout",
     "output_type": "stream",
     "text": [
      "Turns the string into a palindrome by concatenating\n",
      "    itself with a reversed version of itself.\n",
      "\n",
      "    Parameters\n",
      "    ----------\n",
      "    string : str\n",
      "        The string to turn into a palindrome.\n",
      "\n",
      "    Returns\n",
      "    -------\n",
      "    str\n",
      "        string concatenated with a reversed version of string\n",
      "\n",
      "    Examples\n",
      "    --------\n",
      "    >>> make_palindrome('blah')\n",
      "    'blahhalb'\n",
      "    \n"
     ]
    }
   ],
   "source": [
    "# make_palindrome?\n",
    "print(make_palindrome.__doc__)"
   ]
  },
  {
   "cell_type": "markdown",
   "metadata": {
    "slideshow": {
     "slide_type": "slide"
    }
   },
   "source": [
    "### Docstrings in your labs"
   ]
  },
  {
   "cell_type": "markdown",
   "metadata": {},
   "source": [
    "In MDS we will accept:\n",
    "\n",
    "- One-line docstrings for very simple functions.\n",
    "- Either the PEP-8 or NumPy/SciPy style for bigger functions.\n",
    "  - But we think the NumPy/SciPy style is more common in the wild so you may want to get into the habit of using it."
   ]
  },
  {
   "cell_type": "markdown",
   "metadata": {
    "slideshow": {
     "slide_type": "skip"
    }
   },
   "source": [
    "### Docstrings with optional arguments"
   ]
  },
  {
   "cell_type": "markdown",
   "metadata": {
    "slideshow": {
     "slide_type": "skip"
    }
   },
   "source": [
    "- When specifying the parameters, we specify the defaults for optional arguments:"
   ]
  },
  {
   "cell_type": "code",
   "execution_count": 151,
   "metadata": {
    "slideshow": {
     "slide_type": "skip"
    }
   },
   "outputs": [],
   "source": [
    "# NumPy/SciPy style\n",
    "def repeat_string(s, n=2):\n",
    "    \"\"\"\n",
    "    Repeat the string s, n times.\n",
    "\n",
    "    Parameters\n",
    "    ----------\n",
    "    s : str\n",
    "        the string\n",
    "    n : int, optional\n",
    "        the number of times, by default = 2\n",
    "\n",
    "    Returns\n",
    "    -------\n",
    "    str\n",
    "        the repeated string\n",
    "\n",
    "    Examples\n",
    "    --------\n",
    "    >>> repeat_string(\"Blah\", 3)\n",
    "    \"BlahBlahBlah\"\n",
    "    \"\"\"\n",
    "    return s * n"
   ]
  },
  {
   "cell_type": "markdown",
   "metadata": {
    "slideshow": {
     "slide_type": "skip"
    }
   },
   "source": [
    "### Type hinting"
   ]
  },
  {
   "cell_type": "markdown",
   "metadata": {
    "slideshow": {
     "slide_type": "skip"
    }
   },
   "source": [
    "- [Type hinting](https://docs.python.org/3/library/typing.html) is exactly what it sounds like, it hints at the data type of function arguments\n",
    "- You can indicate the type of an argument in a function using the syntax `argument : dtype`, and the type of the return value using `def func() -> dtype`\n",
    "- Let's see an example:"
   ]
  },
  {
   "cell_type": "code",
   "execution_count": 152,
   "metadata": {
    "slideshow": {
     "slide_type": "skip"
    }
   },
   "outputs": [],
   "source": [
    "# NumPy/SciPy style\n",
    "def repeat_string(s: str, n: int = 2) -> str:  # <- note the type hinting here\n",
    "    \"\"\"\n",
    "    Repeat the string s, n times.\n",
    "\n",
    "    Parameters\n",
    "    ----------\n",
    "    s : str\n",
    "        the string\n",
    "    n : int, optional (default = 2)\n",
    "        the number of times\n",
    "\n",
    "    Returns\n",
    "    -------\n",
    "    str\n",
    "        the repeated string\n",
    "\n",
    "    Examples\n",
    "    --------\n",
    "    >>> repeat_string(\"Blah\", 3)\n",
    "    \"BlahBlahBlah\"\n",
    "    \"\"\"\n",
    "    return s * n"
   ]
  },
  {
   "cell_type": "code",
   "execution_count": 153,
   "metadata": {
    "slideshow": {
     "slide_type": "skip"
    }
   },
   "outputs": [
    {
     "data": {
      "text/plain": [
       "\u001b[0;31mSignature:\u001b[0m \u001b[0mrepeat_string\u001b[0m\u001b[0;34m(\u001b[0m\u001b[0ms\u001b[0m\u001b[0;34m:\u001b[0m \u001b[0mstr\u001b[0m\u001b[0;34m,\u001b[0m \u001b[0mn\u001b[0m\u001b[0;34m:\u001b[0m \u001b[0mint\u001b[0m \u001b[0;34m=\u001b[0m \u001b[0;36m2\u001b[0m\u001b[0;34m)\u001b[0m \u001b[0;34m->\u001b[0m \u001b[0mstr\u001b[0m\u001b[0;34m\u001b[0m\u001b[0;34m\u001b[0m\u001b[0m\n",
       "\u001b[0;31mDocstring:\u001b[0m\n",
       "Repeat the string s, n times.\n",
       "\n",
       "Parameters\n",
       "----------\n",
       "s : str\n",
       "    the string\n",
       "n : int, optional (default = 2)\n",
       "    the number of times\n",
       "\n",
       "Returns\n",
       "-------\n",
       "str\n",
       "    the repeated string\n",
       "\n",
       "Examples\n",
       "--------\n",
       ">>> repeat_string(\"Blah\", 3)\n",
       "\"BlahBlahBlah\"\n",
       "\u001b[0;31mFile:\u001b[0m      /var/folders/mp/13tr36k17_n99rc7qsh4dgxc0000gp/T/ipykernel_70234/2733892460.py\n",
       "\u001b[0;31mType:\u001b[0m      function"
      ]
     },
     "metadata": {},
     "output_type": "display_data"
    }
   ],
   "source": [
    "repeat_string?"
   ]
  },
  {
   "cell_type": "markdown",
   "metadata": {
    "slideshow": {
     "slide_type": "skip"
    }
   },
   "source": [
    "- Type hinting just helps your users and IDE identify dtypes and identify bugs\n",
    "- It's just another level of documentation\n",
    "- They do not force users to use that dtype, for example, I can still pass an `dict` to `repeat_string` if I want to:"
   ]
  },
  {
   "cell_type": "code",
   "execution_count": 154,
   "metadata": {
    "slideshow": {
     "slide_type": "skip"
    }
   },
   "outputs": [
    {
     "ename": "TypeError",
     "evalue": "unsupported operand type(s) for *: 'dict' and 'int'",
     "output_type": "error",
     "traceback": [
      "\u001b[0;31m---------------------------------------------------------------------------\u001b[0m",
      "\u001b[0;31mTypeError\u001b[0m                                 Traceback (most recent call last)",
      "Cell \u001b[0;32mIn[154], line 1\u001b[0m\n\u001b[0;32m----> 1\u001b[0m \u001b[43mrepeat_string\u001b[49m\u001b[43m(\u001b[49m\u001b[43m{\u001b[49m\u001b[38;5;124;43m'\u001b[39;49m\u001b[38;5;124;43mkey_1\u001b[39;49m\u001b[38;5;124;43m'\u001b[39;49m\u001b[43m:\u001b[49m\u001b[43m \u001b[49m\u001b[38;5;241;43m1\u001b[39;49m\u001b[43m,\u001b[49m\u001b[43m \u001b[49m\u001b[38;5;124;43m'\u001b[39;49m\u001b[38;5;124;43mkey_2\u001b[39;49m\u001b[38;5;124;43m'\u001b[39;49m\u001b[43m:\u001b[49m\u001b[43m \u001b[49m\u001b[38;5;241;43m2\u001b[39;49m\u001b[43m}\u001b[49m\u001b[43m)\u001b[49m\n",
      "Cell \u001b[0;32mIn[152], line 23\u001b[0m, in \u001b[0;36mrepeat_string\u001b[0;34m(s, n)\u001b[0m\n\u001b[1;32m      2\u001b[0m \u001b[38;5;28;01mdef\u001b[39;00m \u001b[38;5;21mrepeat_string\u001b[39m(s: \u001b[38;5;28mstr\u001b[39m, n: \u001b[38;5;28mint\u001b[39m \u001b[38;5;241m=\u001b[39m \u001b[38;5;241m2\u001b[39m) \u001b[38;5;241m-\u001b[39m\u001b[38;5;241m>\u001b[39m \u001b[38;5;28mstr\u001b[39m:  \u001b[38;5;66;03m# <- note the type hinting here\u001b[39;00m\n\u001b[1;32m      3\u001b[0m \u001b[38;5;250m    \u001b[39m\u001b[38;5;124;03m\"\"\"\u001b[39;00m\n\u001b[1;32m      4\u001b[0m \u001b[38;5;124;03m    Repeat the string s, n times.\u001b[39;00m\n\u001b[1;32m      5\u001b[0m \n\u001b[0;32m   (...)\u001b[0m\n\u001b[1;32m     21\u001b[0m \u001b[38;5;124;03m    \"BlahBlahBlah\"\u001b[39;00m\n\u001b[1;32m     22\u001b[0m \u001b[38;5;124;03m    \"\"\"\u001b[39;00m\n\u001b[0;32m---> 23\u001b[0m     \u001b[38;5;28;01mreturn\u001b[39;00m \u001b[43ms\u001b[49m\u001b[43m \u001b[49m\u001b[38;5;241;43m*\u001b[39;49m\u001b[43m \u001b[49m\u001b[43mn\u001b[49m\n",
      "\u001b[0;31mTypeError\u001b[0m: unsupported operand type(s) for *: 'dict' and 'int'"
     ]
    }
   ],
   "source": [
    "repeat_string({'key_1': 1, 'key_2': 2})"
   ]
  },
  {
   "cell_type": "markdown",
   "metadata": {},
   "source": [
    "Can we do so with numpy and pandas as well?\n",
    "Of course!"
   ]
  },
  {
   "cell_type": "code",
   "execution_count": 255,
   "metadata": {},
   "outputs": [],
   "source": [
    "import numpy as np\n",
    "import pandas as pd\n",
    "def go_wild(s: pd.DataFrame, n:np.ndarray) -> str:\n",
    "    pass"
   ]
  },
  {
   "cell_type": "markdown",
   "metadata": {
    "slideshow": {
     "slide_type": "skip"
    }
   },
   "source": [
    "- Further, IDE's (e.g VS Code) are clever enough to even read your type hinting and warn you if you're using a different dtype in the function.\n",
    "- You don't **have** to use type hinting in MDS, but it is **highly recommended** to get into the practice of doing so"
   ]
  },
  {
   "cell_type": "markdown",
   "metadata": {
    "slideshow": {
     "slide_type": "skip"
    }
   },
   "source": [
    "### Automatically generated documentation"
   ]
  },
  {
   "cell_type": "markdown",
   "metadata": {
    "slideshow": {
     "slide_type": "skip"
    }
   },
   "source": [
    "- As mentioned before, docstring formatting is important if you want to use standard tools for rendering your documentation into readable, accessible documents using libraries like [sphinx](http://www.sphinx-doc.org/en/master/), [pydoc](https://docs.python.org/3.7/library/pydoc.html) or [Doxygen](http://www.doxygen.nl/).\n",
    "- For example: compare this [documentation](https://scikit-learn.org/stable/modules/generated/sklearn.neighbors.KNeighborsClassifier.html) with this [code](https://github.com/scikit-learn/scikit-learn/blob/1495f6924/sklearn/neighbors/classification.py#L23).\n",
    "- Notice the similarities? The webpage was automatically generated because the authors used standard conventions for docstrings!\n",
    "- You'll have to use some string methods to extract information from a docstring in lab 1.\n",
    "- The [website for this course](https://pages.github.ubc.ca/mds-2021-22/DSCI_511_py-prog_instructors/) is built with **Jupyter Book** which leverages some of the above libraries."
   ]
  },
  {
   "cell_type": "markdown",
   "metadata": {
    "slideshow": {
     "slide_type": "slide"
    }
   },
   "source": [
    "## `try` / `except`"
   ]
  },
  {
   "cell_type": "markdown",
   "metadata": {},
   "source": [
    "- If something goes wrong, we don't want our code to crash - we want it to **fail gracefully**.\n",
    "- In Python, this can be accomplished using `try`/`except` statements"
   ]
  },
  {
   "cell_type": "markdown",
   "metadata": {},
   "source": [
    "```python\n",
    "try:\n",
    "    # code that might raise an exception\n",
    "except ExceptionType:\n",
    "    # code to handle the exception\n",
    "```"
   ]
  },
  {
   "cell_type": "markdown",
   "metadata": {
    "slideshow": {
     "slide_type": "slide"
    }
   },
   "source": [
    "Here is a basic example:"
   ]
  },
  {
   "cell_type": "code",
   "execution_count": 156,
   "metadata": {
    "slideshow": {
     "slide_type": "-"
    }
   },
   "outputs": [
    {
     "ename": "NameError",
     "evalue": "name 'this_variable_does_not_exist' is not defined",
     "output_type": "error",
     "traceback": [
      "\u001b[0;31m---------------------------------------------------------------------------\u001b[0m",
      "\u001b[0;31mNameError\u001b[0m                                 Traceback (most recent call last)",
      "Cell \u001b[0;32mIn[156], line 1\u001b[0m\n\u001b[0;32m----> 1\u001b[0m \u001b[43mthis_variable_does_not_exist\u001b[49m\n\u001b[1;32m      2\u001b[0m \u001b[38;5;28mprint\u001b[39m(\u001b[38;5;124m\"\u001b[39m\u001b[38;5;124mAnother line\u001b[39m\u001b[38;5;124m\"\u001b[39m)  \u001b[38;5;66;03m# code fails before getting to this line\u001b[39;00m\n",
      "\u001b[0;31mNameError\u001b[0m: name 'this_variable_does_not_exist' is not defined"
     ]
    }
   ],
   "source": [
    "this_variable_does_not_exist\n",
    "print(\"Another line\")  # code fails before getting to this line"
   ]
  },
  {
   "cell_type": "code",
   "execution_count": 157,
   "metadata": {
    "slideshow": {
     "slide_type": "fragment"
    }
   },
   "outputs": [
    {
     "name": "stdout",
     "output_type": "stream",
     "text": [
      "You did something bad! But I won't raise an error.\n"
     ]
    }
   ],
   "source": [
    "try:\n",
    "    this_variable_does_not_exist\n",
    "except:\n",
    "    pass  # do nothing\n",
    "    print(\"You did something bad! But I won't raise an error.\")"
   ]
  },
  {
   "cell_type": "markdown",
   "metadata": {
    "slideshow": {
     "slide_type": "fragment"
    }
   },
   "source": [
    "- Python tries to execute the code in the `try` block.\n",
    "- If an error is encountered, we \"catch\" this in the `except` block (also called `try`/`catch` in other languages)."
   ]
  },
  {
   "cell_type": "markdown",
   "metadata": {
    "slideshow": {
     "slide_type": "slide"
    }
   },
   "source": [
    "- There are many different error types, or **exceptions** - we saw `NameError` above. "
   ]
  },
  {
   "cell_type": "code",
   "execution_count": 158,
   "metadata": {
    "slideshow": {
     "slide_type": "fragment"
    }
   },
   "outputs": [
    {
     "ename": "ZeroDivisionError",
     "evalue": "division by zero",
     "output_type": "error",
     "traceback": [
      "\u001b[0;31m---------------------------------------------------------------------------\u001b[0m",
      "\u001b[0;31mZeroDivisionError\u001b[0m                         Traceback (most recent call last)",
      "Cell \u001b[0;32mIn[158], line 1\u001b[0m\n\u001b[0;32m----> 1\u001b[0m \u001b[38;5;241;43m5\u001b[39;49m\u001b[43m \u001b[49m\u001b[38;5;241;43m/\u001b[39;49m\u001b[43m \u001b[49m\u001b[38;5;241;43m0\u001b[39;49m  \u001b[38;5;66;03m# ZeroDivisionError\u001b[39;00m\n",
      "\u001b[0;31mZeroDivisionError\u001b[0m: division by zero"
     ]
    }
   ],
   "source": [
    "5 / 0  # ZeroDivisionError"
   ]
  },
  {
   "cell_type": "code",
   "execution_count": 159,
   "metadata": {
    "slideshow": {
     "slide_type": "fragment"
    }
   },
   "outputs": [
    {
     "ename": "IndexError",
     "evalue": "list index out of range",
     "output_type": "error",
     "traceback": [
      "\u001b[0;31m---------------------------------------------------------------------------\u001b[0m",
      "\u001b[0;31mIndexError\u001b[0m                                Traceback (most recent call last)",
      "Cell \u001b[0;32mIn[159], line 2\u001b[0m\n\u001b[1;32m      1\u001b[0m my_list \u001b[38;5;241m=\u001b[39m [\u001b[38;5;241m1\u001b[39m, \u001b[38;5;241m2\u001b[39m, \u001b[38;5;241m3\u001b[39m]\n\u001b[0;32m----> 2\u001b[0m \u001b[43mmy_list\u001b[49m\u001b[43m[\u001b[49m\u001b[38;5;241;43m5\u001b[39;49m\u001b[43m]\u001b[49m  \u001b[38;5;66;03m# IndexError\u001b[39;00m\n",
      "\u001b[0;31mIndexError\u001b[0m: list index out of range"
     ]
    }
   ],
   "source": [
    "my_list = [1, 2, 3]\n",
    "my_list[5]  # IndexError"
   ]
  },
  {
   "cell_type": "code",
   "execution_count": 160,
   "metadata": {
    "slideshow": {
     "slide_type": "fragment"
    }
   },
   "outputs": [
    {
     "ename": "TypeError",
     "evalue": "'tuple' object does not support item assignment",
     "output_type": "error",
     "traceback": [
      "\u001b[0;31m---------------------------------------------------------------------------\u001b[0m",
      "\u001b[0;31mTypeError\u001b[0m                                 Traceback (most recent call last)",
      "Cell \u001b[0;32mIn[160], line 2\u001b[0m\n\u001b[1;32m      1\u001b[0m my_tuple \u001b[38;5;241m=\u001b[39m (\u001b[38;5;241m1\u001b[39m, \u001b[38;5;241m2\u001b[39m, \u001b[38;5;241m3\u001b[39m)\n\u001b[0;32m----> 2\u001b[0m \u001b[43mmy_tuple\u001b[49m\u001b[43m[\u001b[49m\u001b[38;5;241;43m0\u001b[39;49m\u001b[43m]\u001b[49m \u001b[38;5;241m=\u001b[39m \u001b[38;5;241m0\u001b[39m  \u001b[38;5;66;03m# TypeError\u001b[39;00m\n",
      "\u001b[0;31mTypeError\u001b[0m: 'tuple' object does not support item assignment"
     ]
    }
   ],
   "source": [
    "my_tuple = (1, 2, 3)\n",
    "my_tuple[0] = 0  # TypeError"
   ]
  },
  {
   "cell_type": "markdown",
   "metadata": {
    "slideshow": {
     "slide_type": "skip"
    }
   },
   "source": [
    "- Ok, so there are apparently a bunch of different errors one could run into. \n",
    "- With `try`/`except` you can also catch the exception itself:"
   ]
  },
  {
   "cell_type": "code",
   "execution_count": 161,
   "metadata": {
    "slideshow": {
     "slide_type": "skip"
    }
   },
   "outputs": [
    {
     "name": "stdout",
     "output_type": "stream",
     "text": [
      "You did something bad!\n",
      "name 'this_variable_does_not_exist' is not defined\n",
      "<class 'NameError'>\n"
     ]
    }
   ],
   "source": [
    "try:\n",
    "    this_variable_does_not_exist\n",
    "except Exception as ex:\n",
    "    print(\"You did something bad!\")\n",
    "    print(ex)\n",
    "    print(type(ex))"
   ]
  },
  {
   "cell_type": "markdown",
   "metadata": {
    "slideshow": {
     "slide_type": "skip"
    }
   },
   "source": [
    "- In the above, we caught the exception and assigned it to the variable `ex` so that we could print it out.\n",
    "- This is useful because you can see what the error message would have been, without crashing your program."
   ]
  },
  {
   "cell_type": "markdown",
   "metadata": {
    "slideshow": {
     "slide_type": "slide"
    }
   },
   "source": [
    "- You can also catch specific exceptions types\n",
    "- This is typically the recommended way to catch errors, you want to be specific in catching your error so you know exactly where and why your code failed."
   ]
  },
  {
   "cell_type": "code",
   "execution_count": 162,
   "metadata": {},
   "outputs": [
    {
     "name": "stdout",
     "output_type": "stream",
     "text": [
      "You made some other sort of error\n"
     ]
    }
   ],
   "source": [
    "try:\n",
    "#     this_variable_does_not_exist  # name error\n",
    "#     (1, 2, 3)[0] = 1  # type error\n",
    "    5/0  # ZeroDivisionError\n",
    "except TypeError:\n",
    "    print(\"You made a type error!\")\n",
    "except NameError:\n",
    "    print(\"You made a name error!\")\n",
    "except:\n",
    "    print(\"You made some other sort of error\")"
   ]
  },
  {
   "cell_type": "markdown",
   "metadata": {},
   "source": [
    "- The last `except` would trigger if the error is none of the above types."
   ]
  },
  {
   "cell_type": "markdown",
   "metadata": {
    "slideshow": {
     "slide_type": "skip"
    }
   },
   "source": [
    "- There is also an optional `else` and `finally` keyword, read more [here](https://docs.python.org/3/tutorial/errors.html)"
   ]
  },
  {
   "cell_type": "code",
   "execution_count": 168,
   "metadata": {
    "slideshow": {
     "slide_type": "skip"
    }
   },
   "outputs": [
    {
     "name": "stdin",
     "output_type": "stream",
     "text": [
      "Enter x: 2\n",
      "Enter y: 3\n"
     ]
    },
    {
     "name": "stdout",
     "output_type": "stream",
     "text": [
      "z**2 =  0.4444444444444444\n",
      "Here I am anyway 😈\n"
     ]
    }
   ],
   "source": [
    "try:\n",
    "    x = int(input(\"Enter x:\"))\n",
    "    y = int(input(\"Enter y:\"))\n",
    "    z = x / y\n",
    "except ValueError:\n",
    "    print(\"You didn't enter a number!\")\n",
    "except ZeroDivisionError:\n",
    "    print(\"Why would you divide by zero?\")\n",
    "else:\n",
    "    print(\"z**2 = \", z**2)\n",
    "finally:\n",
    "    print(\"Here I am anyway 😈\")"
   ]
  },
  {
   "cell_type": "markdown",
   "metadata": {
    "slideshow": {
     "slide_type": "skip"
    }
   },
   "source": [
    "- The `finally` clause will always get executed."
   ]
  },
  {
   "cell_type": "markdown",
   "metadata": {
    "slideshow": {
     "slide_type": "skip"
    }
   },
   "source": [
    "- We can also write code that raises an exception on purpose, using `raise`"
   ]
  },
  {
   "cell_type": "code",
   "execution_count": 169,
   "metadata": {
    "slideshow": {
     "slide_type": "skip"
    }
   },
   "outputs": [],
   "source": [
    "def add_one(x):  # we'll get to functions in the next section\n",
    "    return x + 1"
   ]
  },
  {
   "cell_type": "code",
   "execution_count": 170,
   "metadata": {
    "slideshow": {
     "slide_type": "skip"
    }
   },
   "outputs": [
    {
     "ename": "TypeError",
     "evalue": "can only concatenate str (not \"int\") to str",
     "output_type": "error",
     "traceback": [
      "\u001b[0;31m---------------------------------------------------------------------------\u001b[0m",
      "\u001b[0;31mTypeError\u001b[0m                                 Traceback (most recent call last)",
      "Cell \u001b[0;32mIn[170], line 1\u001b[0m\n\u001b[0;32m----> 1\u001b[0m \u001b[43madd_one\u001b[49m\u001b[43m(\u001b[49m\u001b[38;5;124;43m\"\u001b[39;49m\u001b[38;5;124;43mblah\u001b[39;49m\u001b[38;5;124;43m\"\u001b[39;49m\u001b[43m)\u001b[49m\n",
      "Cell \u001b[0;32mIn[169], line 2\u001b[0m, in \u001b[0;36madd_one\u001b[0;34m(x)\u001b[0m\n\u001b[1;32m      1\u001b[0m \u001b[38;5;28;01mdef\u001b[39;00m \u001b[38;5;21madd_one\u001b[39m(x):  \u001b[38;5;66;03m# we'll get to functions in the next section\u001b[39;00m\n\u001b[0;32m----> 2\u001b[0m     \u001b[38;5;28;01mreturn\u001b[39;00m \u001b[43mx\u001b[49m\u001b[43m \u001b[49m\u001b[38;5;241;43m+\u001b[39;49m\u001b[43m \u001b[49m\u001b[38;5;241;43m1\u001b[39;49m\n",
      "\u001b[0;31mTypeError\u001b[0m: can only concatenate str (not \"int\") to str"
     ]
    }
   ],
   "source": [
    "add_one(\"blah\")"
   ]
  },
  {
   "cell_type": "code",
   "execution_count": 171,
   "metadata": {
    "slideshow": {
     "slide_type": "skip"
    }
   },
   "outputs": [],
   "source": [
    "def add_one(x):\n",
    "    if not isinstance(x, float) and not isinstance(x, int):\n",
    "        raise TypeError(f\"Sorry, x must be numeric, you entered a {type(x)}.\")\n",
    "\n",
    "    return x + 1"
   ]
  },
  {
   "cell_type": "code",
   "execution_count": 172,
   "metadata": {
    "scrolled": true,
    "slideshow": {
     "slide_type": "skip"
    }
   },
   "outputs": [
    {
     "ename": "TypeError",
     "evalue": "Sorry, x must be numeric, you entered a <class 'str'>.",
     "output_type": "error",
     "traceback": [
      "\u001b[0;31m---------------------------------------------------------------------------\u001b[0m",
      "\u001b[0;31mTypeError\u001b[0m                                 Traceback (most recent call last)",
      "Cell \u001b[0;32mIn[172], line 1\u001b[0m\n\u001b[0;32m----> 1\u001b[0m \u001b[43madd_one\u001b[49m\u001b[43m(\u001b[49m\u001b[38;5;124;43m\"\u001b[39;49m\u001b[38;5;124;43mblah\u001b[39;49m\u001b[38;5;124;43m\"\u001b[39;49m\u001b[43m)\u001b[49m\n",
      "Cell \u001b[0;32mIn[171], line 3\u001b[0m, in \u001b[0;36madd_one\u001b[0;34m(x)\u001b[0m\n\u001b[1;32m      1\u001b[0m \u001b[38;5;28;01mdef\u001b[39;00m \u001b[38;5;21madd_one\u001b[39m(x):\n\u001b[1;32m      2\u001b[0m     \u001b[38;5;28;01mif\u001b[39;00m \u001b[38;5;129;01mnot\u001b[39;00m \u001b[38;5;28misinstance\u001b[39m(x, \u001b[38;5;28mfloat\u001b[39m) \u001b[38;5;129;01mand\u001b[39;00m \u001b[38;5;129;01mnot\u001b[39;00m \u001b[38;5;28misinstance\u001b[39m(x, \u001b[38;5;28mint\u001b[39m):\n\u001b[0;32m----> 3\u001b[0m         \u001b[38;5;28;01mraise\u001b[39;00m \u001b[38;5;167;01mTypeError\u001b[39;00m(\u001b[38;5;124mf\u001b[39m\u001b[38;5;124m\"\u001b[39m\u001b[38;5;124mSorry, x must be numeric, you entered a \u001b[39m\u001b[38;5;132;01m{\u001b[39;00m\u001b[38;5;28mtype\u001b[39m(x)\u001b[38;5;132;01m}\u001b[39;00m\u001b[38;5;124m.\u001b[39m\u001b[38;5;124m\"\u001b[39m)\n\u001b[1;32m      5\u001b[0m     \u001b[38;5;28;01mreturn\u001b[39;00m x \u001b[38;5;241m+\u001b[39m \u001b[38;5;241m1\u001b[39m\n",
      "\u001b[0;31mTypeError\u001b[0m: Sorry, x must be numeric, you entered a <class 'str'>."
     ]
    }
   ],
   "source": [
    "add_one(\"blah\")"
   ]
  },
  {
   "cell_type": "markdown",
   "metadata": {
    "slideshow": {
     "slide_type": "skip"
    }
   },
   "source": [
    "- Finally, we can even define our own exception types.\n",
    "- We do this by inheriting from the `Exception` class (more on classes and inheritance next lecture)"
   ]
  },
  {
   "cell_type": "code",
   "execution_count": 176,
   "metadata": {
    "slideshow": {
     "slide_type": "skip"
    }
   },
   "outputs": [],
   "source": [
    "class CustomAdditionError(Exception):\n",
    "    pass"
   ]
  },
  {
   "cell_type": "code",
   "execution_count": 177,
   "metadata": {
    "slideshow": {
     "slide_type": "skip"
    }
   },
   "outputs": [],
   "source": [
    "def add_one(x):\n",
    "    if not isinstance(x, float) and not isinstance(x, int):\n",
    "        raise CustomAdditionError(\"Sorry, x must be numeric\")\n",
    "\n",
    "    return x + 1"
   ]
  },
  {
   "cell_type": "code",
   "execution_count": 178,
   "metadata": {
    "slideshow": {
     "slide_type": "skip"
    }
   },
   "outputs": [
    {
     "ename": "CustomAdditionError",
     "evalue": "Sorry, x must be numeric",
     "output_type": "error",
     "traceback": [
      "\u001b[0;31m---------------------------------------------------------------------------\u001b[0m",
      "\u001b[0;31mCustomAdditionError\u001b[0m                       Traceback (most recent call last)",
      "Cell \u001b[0;32mIn[178], line 1\u001b[0m\n\u001b[0;32m----> 1\u001b[0m \u001b[43madd_one\u001b[49m\u001b[43m(\u001b[49m\u001b[38;5;124;43m\"\u001b[39;49m\u001b[38;5;124;43mblah\u001b[39;49m\u001b[38;5;124;43m\"\u001b[39;49m\u001b[43m)\u001b[49m\n",
      "Cell \u001b[0;32mIn[177], line 3\u001b[0m, in \u001b[0;36madd_one\u001b[0;34m(x)\u001b[0m\n\u001b[1;32m      1\u001b[0m \u001b[38;5;28;01mdef\u001b[39;00m \u001b[38;5;21madd_one\u001b[39m(x):\n\u001b[1;32m      2\u001b[0m     \u001b[38;5;28;01mif\u001b[39;00m \u001b[38;5;129;01mnot\u001b[39;00m \u001b[38;5;28misinstance\u001b[39m(x, \u001b[38;5;28mfloat\u001b[39m) \u001b[38;5;129;01mand\u001b[39;00m \u001b[38;5;129;01mnot\u001b[39;00m \u001b[38;5;28misinstance\u001b[39m(x, \u001b[38;5;28mint\u001b[39m):\n\u001b[0;32m----> 3\u001b[0m         \u001b[38;5;28;01mraise\u001b[39;00m CustomAdditionError(\u001b[38;5;124m\"\u001b[39m\u001b[38;5;124mSorry, x must be numeric\u001b[39m\u001b[38;5;124m\"\u001b[39m)\n\u001b[1;32m      5\u001b[0m     \u001b[38;5;28;01mreturn\u001b[39;00m x \u001b[38;5;241m+\u001b[39m \u001b[38;5;241m1\u001b[39m\n",
      "\u001b[0;31mCustomAdditionError\u001b[0m: Sorry, x must be numeric"
     ]
    }
   ],
   "source": [
    "add_one(\"blah\")"
   ]
  },
  {
   "cell_type": "markdown",
   "metadata": {
    "slideshow": {
     "slide_type": "notes"
    }
   },
   "source": [
    "- This is useful when your function is complicated and would fail in a complicated way, with a weird error message.\n",
    "- You can make the cause of the error much clearer to the _caller_ of the function.\n",
    "- Thus, your function is more usable this way.\n",
    "- If you do this, you should ideally describe these exceptions in the function documentation, so a user knows what to expect if they call your function.  "
   ]
  },
  {
   "cell_type": "markdown",
   "metadata": {
    "slideshow": {
     "slide_type": "slide"
    }
   },
   "source": [
    "## Intriguing behaviour in Python"
   ]
  },
  {
   "cell_type": "markdown",
   "metadata": {
    "slideshow": {
     "slide_type": "skip"
    }
   },
   "source": [
    "### References"
   ]
  },
  {
   "cell_type": "markdown",
   "metadata": {},
   "source": [
    "- What do you think the code below will print?"
   ]
  },
  {
   "cell_type": "code",
   "execution_count": 224,
   "metadata": {
    "collapsed": false,
    "jupyter": {
     "outputs_hidden": false
    }
   },
   "outputs": [],
   "source": [
    "x = 100\n",
    "y = x\n",
    "x = 2\n",
    "# y"
   ]
  },
  {
   "cell_type": "code",
   "execution_count": 225,
   "metadata": {},
   "outputs": [
    {
     "data": {
      "text/plain": [
       "100"
      ]
     },
     "execution_count": 225,
     "metadata": {},
     "output_type": "execute_result"
    }
   ],
   "source": [
    "y"
   ]
  },
  {
   "cell_type": "markdown",
   "metadata": {
    "slideshow": {
     "slide_type": "fragment"
    }
   },
   "source": [
    "- And how about the next one?"
   ]
  },
  {
   "cell_type": "code",
   "execution_count": 226,
   "metadata": {},
   "outputs": [],
   "source": [
    "x = [100]\n",
    "y = x\n",
    "x[0] = 2\n",
    "# y"
   ]
  },
  {
   "cell_type": "code",
   "execution_count": 227,
   "metadata": {},
   "outputs": [
    {
     "data": {
      "text/plain": [
       "[2]"
      ]
     },
     "execution_count": 227,
     "metadata": {},
     "output_type": "execute_result"
    }
   ],
   "source": [
    "y"
   ]
  },
  {
   "cell_type": "markdown",
   "metadata": {
    "slideshow": {
     "slide_type": "slide"
    }
   },
   "source": [
    "- In Python, the list `x` is a **reference** to an object in the computer's memory. \n",
    "- When you set `y = x` these two variables now refer to the same object in the memory - the one that `x` referred to.\n",
    "- Setting `x[0] = 2` modifies the object in memory. So `x` and `y` are both modified. \n",
    "  - It makes no different if you set `x[0] = 2` or `y[0] = 2`, both modify the same place in the memory."
   ]
  },
  {
   "cell_type": "code",
   "execution_count": 181,
   "metadata": {},
   "outputs": [
    {
     "data": {
      "text/plain": [
       "[2]"
      ]
     },
     "execution_count": 181,
     "metadata": {},
     "output_type": "execute_result"
    }
   ],
   "source": [
    "x = [100]\n",
    "y = x\n",
    "x[0] = 2\n",
    "y"
   ]
  },
  {
   "cell_type": "markdown",
   "metadata": {
    "slideshow": {
     "slide_type": "slide"
    }
   },
   "source": [
    "- However, some basic built-in types `int`, `float`, `bool` etc are _exceptions_ to this logic:\n",
    "  - When you set `y = x` it actually copies the value `1`, so `x` and `y` are decoupled.\n",
    "  - Thus, the list example is actually the typical case, the integer example is the \"special\" case."
   ]
  },
  {
   "cell_type": "code",
   "execution_count": 228,
   "metadata": {
    "collapsed": false,
    "jupyter": {
     "outputs_hidden": false
    }
   },
   "outputs": [
    {
     "data": {
      "text/plain": [
       "100"
      ]
     },
     "execution_count": 228,
     "metadata": {},
     "output_type": "execute_result"
    }
   ],
   "source": [
    "x = 100\n",
    "y = x\n",
    "x = 2\n",
    "y"
   ]
  },
  {
   "cell_type": "markdown",
   "metadata": {
    "slideshow": {
     "slide_type": "slide"
    }
   },
   "source": [
    "- Analogy:\n",
    "  - I share a Dropbox folder (or git repo) with you, and you modify it -- I sent you _the location of the stuff_ (this is like the list case)\n",
    "  - I send you an email with a file attached, you download it and modify the file -- I sent you _the stuff itself_ (this is like the integer case)\n",
    "- [This article](https://realpython.com/pointers-in-python/#names-in-python) does a great job of explaining all this in detail if you'd like to know more"
   ]
  },
  {
   "cell_type": "markdown",
   "metadata": {
    "slideshow": {
     "slide_type": "slide"
    }
   },
   "source": [
    "- What do you think will happen here:"
   ]
  },
  {
   "cell_type": "code",
   "execution_count": 229,
   "metadata": {
    "slideshow": {
     "slide_type": "-"
    }
   },
   "outputs": [
    {
     "data": {
      "text/plain": [
       "[100]"
      ]
     },
     "execution_count": 229,
     "metadata": {},
     "output_type": "execute_result"
    }
   ],
   "source": [
    "x = [100]\n",
    "y = x\n",
    "x = [2]  # before we had x[0] = 2\n",
    "y"
   ]
  },
  {
   "cell_type": "markdown",
   "metadata": {
    "slideshow": {
     "slide_type": "fragment"
    }
   },
   "source": [
    "- Here we are not modifying the contents of `x`, we are setting `x` to refer to a new list `[2]`. In fact, we are re-creating `x`."
   ]
  },
  {
   "cell_type": "markdown",
   "metadata": {
    "slideshow": {
     "slide_type": "skip"
    }
   },
   "source": [
    "### Additional weirdness"
   ]
  },
  {
   "cell_type": "markdown",
   "metadata": {
    "slideshow": {
     "slide_type": "skip"
    }
   },
   "source": [
    "- We can use `id()` to return the unique id of an object in memory"
   ]
  },
  {
   "cell_type": "code",
   "execution_count": 184,
   "metadata": {
    "slideshow": {
     "slide_type": "skip"
    }
   },
   "outputs": [
    {
     "name": "stdout",
     "output_type": "stream",
     "text": [
      "x has the value: [ 6  7  8  9 10], id: 13392695664\n",
      "y has the value: [1 2 3 4 5], id: 13392698640\n"
     ]
    }
   ],
   "source": [
    "x = np.array([1, 2, 3, 4, 5])  # this is a numpy array which we'll see next lecture\n",
    "y = x\n",
    "x = x + 5\n",
    "\n",
    "print(f\"x has the value: {x}, id: {id(x)}\")\n",
    "print(f\"y has the value: {y}, id: {id(y)}\")"
   ]
  },
  {
   "cell_type": "code",
   "execution_count": 185,
   "metadata": {
    "slideshow": {
     "slide_type": "skip"
    }
   },
   "outputs": [
    {
     "name": "stdout",
     "output_type": "stream",
     "text": [
      "x has the value: [ 6  7  8  9 10], id: 13392698448\n",
      "y has the value: [ 6  7  8  9 10], id: 13392698448\n"
     ]
    }
   ],
   "source": [
    "x = np.array([1, 2, 3, 4, 5])\n",
    "y = x\n",
    "x += 5\n",
    "\n",
    "print(f\"x has the value: {x}, id: {id(x)}\")\n",
    "print(f\"y has the value: {y}, id: {id(y)}\")"
   ]
  },
  {
   "cell_type": "markdown",
   "metadata": {
    "slideshow": {
     "slide_type": "skip"
    }
   },
   "source": [
    "- So, it turns out `x += 5` is not identical `x = x + 5`.\n",
    "- `x += 5` modifies the contents of `x`.\n",
    "- `x = x + 5` first assigns `x + 5` to a new array of the same size, and then overwrites the name `x` with a reference to this new array."
   ]
  },
  {
   "cell_type": "markdown",
   "metadata": {
    "slideshow": {
     "slide_type": "skip"
    }
   },
   "source": [
    "- **But there's good news**: we don't need to memorize special rules for calling functions. \n",
    "- Copying happens with `int`, `float`, `bool`, (maybe some other ones I'm forgetting?),  the rest is \"by reference\"\n",
    "- Now you see why we care if objects are mutable or immutable... passing around a reference can be dangerous!\n",
    "- **General rule**: if you do `x = ...` then you're not modifying the original, but if you do `x.SOMETHING = y` or `x[SOMETHING] = y` or `x += y` then you probably are."
   ]
  },
  {
   "cell_type": "markdown",
   "metadata": {
    "slideshow": {
     "slide_type": "slide"
    }
   },
   "source": [
    "### `copy` and `deepcopy`"
   ]
  },
  {
   "cell_type": "markdown",
   "metadata": {},
   "source": [
    "- We can force the certain copying behaviour using the `.copy()` method of lists if we want to"
   ]
  },
  {
   "cell_type": "code",
   "execution_count": 186,
   "metadata": {
    "collapsed": false,
    "jupyter": {
     "outputs_hidden": false
    }
   },
   "outputs": [
    {
     "data": {
      "text/plain": [
       "[2]"
      ]
     },
     "execution_count": 186,
     "metadata": {},
     "output_type": "execute_result"
    }
   ],
   "source": [
    "x = [100]\n",
    "y = x\n",
    "x[0] = 2\n",
    "y"
   ]
  },
  {
   "cell_type": "code",
   "execution_count": 187,
   "metadata": {},
   "outputs": [
    {
     "data": {
      "text/plain": [
       "[100]"
      ]
     },
     "execution_count": 187,
     "metadata": {},
     "output_type": "execute_result"
    }
   ],
   "source": [
    "x = [100]\n",
    "y = x.copy()  # We \"copied\" x and saved that new object as y\n",
    "x[0] = 2\n",
    "y"
   ]
  },
  {
   "cell_type": "markdown",
   "metadata": {
    "slideshow": {
     "slide_type": "slide"
    }
   },
   "source": [
    "- Ok, so what do you think will happen here?"
   ]
  },
  {
   "cell_type": "code",
   "execution_count": 188,
   "metadata": {
    "collapsed": false,
    "jupyter": {
     "outputs_hidden": false
    }
   },
   "outputs": [
    {
     "name": "stdout",
     "output_type": "stream",
     "text": [
      "After .copy():\n",
      "[[1], [2, 99], [3, 'hi']]\n",
      "[[1], [2, 99], [3, 'hi']]\n"
     ]
    }
   ],
   "source": [
    "x = [[1], [2, 99], [3, \"hi\"]]  # a list of lists\n",
    "\n",
    "y = x.copy()\n",
    "print(\"After .copy():\")\n",
    "print(x)\n",
    "print(y)"
   ]
  },
  {
   "cell_type": "code",
   "execution_count": 189,
   "metadata": {
    "collapsed": false,
    "jupyter": {
     "outputs_hidden": false
    },
    "slideshow": {
     "slide_type": "fragment"
    }
   },
   "outputs": [
    {
     "name": "stdout",
     "output_type": "stream",
     "text": [
      "\n",
      "After modifying x:\n",
      "[['pikachu'], [2, 99], [3, 'hi']]\n",
      "[['pikachu'], [2, 99], [3, 'hi']]\n"
     ]
    }
   ],
   "source": [
    "x[0][0] = \"pikachu\"\n",
    "print(\"\")\n",
    "print(\"After modifying x:\")\n",
    "print(x)\n",
    "print(y)"
   ]
  },
  {
   "cell_type": "markdown",
   "metadata": {
    "slideshow": {
     "slide_type": "slide"
    }
   },
   "source": [
    "- But wait.. we used `.copy()`, why are `x` and `y` both changed in the latter example?\n",
    "- `.copy()` makes the _containers_ different, i.e., only the outer list. \n",
    "- But the outer lists contain references to objects which were not copied!\n",
    "- This is what happens after `y = x.copy()`:\n",
    "\n",
    "![](img/copy.png)"
   ]
  },
  {
   "cell_type": "markdown",
   "metadata": {
    "slideshow": {
     "slide_type": "fragment"
    }
   },
   "source": [
    "- We can use `is` to tell apart these scenarios (as opposed to `==`)\n",
    "- `is` tells us if two objects are referring to the same object in memory, while `==` tells us if their contents are the same"
   ]
  },
  {
   "cell_type": "code",
   "execution_count": 190,
   "metadata": {},
   "outputs": [
    {
     "data": {
      "text/plain": [
       "True"
      ]
     },
     "execution_count": 190,
     "metadata": {},
     "output_type": "execute_result"
    }
   ],
   "source": [
    "x == y # they are both lists containing the same lists"
   ]
  },
  {
   "cell_type": "code",
   "execution_count": 191,
   "metadata": {},
   "outputs": [
    {
     "data": {
      "text/plain": [
       "False"
      ]
     },
     "execution_count": 191,
     "metadata": {},
     "output_type": "execute_result"
    }
   ],
   "source": [
    "x is y # but they are not the *same* lists of lists"
   ]
  },
  {
   "cell_type": "markdown",
   "metadata": {
    "slideshow": {
     "slide_type": "slide"
    }
   },
   "source": [
    "- So, by that logic we should be able to append to `y` without affecting `x`"
   ]
  },
  {
   "cell_type": "code",
   "execution_count": 192,
   "metadata": {},
   "outputs": [
    {
     "name": "stdout",
     "output_type": "stream",
     "text": [
      "[['pikachu'], [2, 99], [3, 'hi']]\n",
      "[['pikachu'], [2, 99], [3, 'hi'], 5]\n"
     ]
    }
   ],
   "source": [
    "y.append(5)\n",
    "\n",
    "print(x)\n",
    "print(y)"
   ]
  },
  {
   "cell_type": "code",
   "execution_count": 193,
   "metadata": {},
   "outputs": [
    {
     "data": {
      "text/plain": [
       "False"
      ]
     },
     "execution_count": 193,
     "metadata": {},
     "output_type": "execute_result"
    }
   ],
   "source": [
    "x == y"
   ]
  },
  {
   "cell_type": "markdown",
   "metadata": {
    "slideshow": {
     "slide_type": "slide"
    }
   },
   "source": [
    "- That makes sense, as weird as it seems:\n",
    "\n",
    "![](img/copy-append.png)"
   ]
  },
  {
   "cell_type": "markdown",
   "metadata": {
    "slideshow": {
     "slide_type": "fragment"
    }
   },
   "source": [
    "- In short, `copy` only copies **one level down**.\n",
    "- What if we want to copy everything? i.e., even the inner lists in our outer list...\n",
    "- Enter our friend `deepcopy` from the `copy` package (which is part of the standard library):"
   ]
  },
  {
   "cell_type": "code",
   "execution_count": 194,
   "metadata": {
    "collapsed": false,
    "jupyter": {
     "outputs_hidden": false
    },
    "slideshow": {
     "slide_type": "slide"
    }
   },
   "outputs": [
    {
     "name": "stdout",
     "output_type": "stream",
     "text": [
      "[['pikachu'], [2, 99], [3, 'hi']]\n",
      "[[1], [2, 99], [3, 'hi']]\n"
     ]
    }
   ],
   "source": [
    "import copy\n",
    "\n",
    "x = [[1], [2, 99], [3, \"hi\"]]\n",
    "y = copy.deepcopy(x)\n",
    "\n",
    "x[0][0] = \"pikachu\"\n",
    "print(x)\n",
    "print(y)"
   ]
  },
  {
   "cell_type": "markdown",
   "metadata": {},
   "source": [
    "![](img/deep-copy.png)"
   ]
  },
  {
   "cell_type": "markdown",
   "metadata": {},
   "source": [
    "- Find a whole compilation of more intriguing behaviour in Python [here](https://github.com/satwikkansal/wtfpython/blob/master/README.md)!"
   ]
  },
  {
   "cell_type": "markdown",
   "metadata": {
    "slideshow": {
     "slide_type": "slide"
    }
   },
   "source": [
    "## Unit tests"
   ]
  },
  {
   "cell_type": "markdown",
   "metadata": {},
   "source": [
    "- We just talked about Python functions\n",
    "- But how can we be sure that our function is doing exactly what we expect it to do?\n",
    "- **Unit testing** is the process of testing our function to ensure it's giving us the results we expect\n",
    "- You'll explore testing in more detail in DSCI 524, including automating testing and designing robust testing regimes\n",
    "- Let's briefly introduce the concept here"
   ]
  },
  {
   "cell_type": "markdown",
   "metadata": {
    "slideshow": {
     "slide_type": "slide"
    }
   },
   "source": [
    "### `assert` statements\n",
    "\n",
    "- `assert` statements are the most common way to test your functions\n",
    "- They cause your program to fail if the tested condition is `False`\n",
    "- The syntax is:\n",
    "\n",
    "```python\n",
    "assert expression, \"Error message if expression is False or raises an error.\"\n",
    "```"
   ]
  },
  {
   "cell_type": "code",
   "execution_count": 203,
   "metadata": {
    "tags": [
     "raises-exception"
    ]
   },
   "outputs": [
    {
     "ename": "AssertionError",
     "evalue": "1 is not equal to 2.",
     "output_type": "error",
     "traceback": [
      "\u001b[0;31m---------------------------------------------------------------------------\u001b[0m",
      "\u001b[0;31mAssertionError\u001b[0m                            Traceback (most recent call last)",
      "Cell \u001b[0;32mIn[203], line 1\u001b[0m\n\u001b[0;32m----> 1\u001b[0m \u001b[38;5;28;01massert\u001b[39;00m \u001b[38;5;241m1\u001b[39m \u001b[38;5;241m==\u001b[39m \u001b[38;5;241m2\u001b[39m, \u001b[38;5;124m\"\u001b[39m\u001b[38;5;124m1 is not equal to 2.\u001b[39m\u001b[38;5;124m\"\u001b[39m\n",
      "\u001b[0;31mAssertionError\u001b[0m: 1 is not equal to 2."
     ]
    }
   ],
   "source": [
    "assert 1 == 2, \"1 is not equal to 2.\""
   ]
  },
  {
   "cell_type": "markdown",
   "metadata": {
    "slideshow": {
     "slide_type": "slide"
    }
   },
   "source": [
    "- Asserting that two numbers are approximately equal can also be helpful\n",
    "- Due to the limitations of floating-point arithmetic in computers, numbers we expect to be equal are sometimes not (more on that in DSCI 572)"
   ]
  },
  {
   "cell_type": "code",
   "execution_count": 80,
   "metadata": {
    "tags": [
     "raises-exception"
    ]
   },
   "outputs": [
    {
     "ename": "AssertionError",
     "evalue": "Not equal!",
     "output_type": "error",
     "traceback": [
      "\u001b[0;31m---------------------------------------------------------------------------\u001b[0m",
      "\u001b[0;31mAssertionError\u001b[0m                            Traceback (most recent call last)",
      "Cell \u001b[0;32mIn[80], line 1\u001b[0m\n\u001b[0;32m----> 1\u001b[0m \u001b[38;5;28;01massert\u001b[39;00m \u001b[38;5;241m0.1\u001b[39m \u001b[38;5;241m+\u001b[39m \u001b[38;5;241m0.2\u001b[39m \u001b[38;5;241m==\u001b[39m \u001b[38;5;241m0.3\u001b[39m, \u001b[38;5;124m\"\u001b[39m\u001b[38;5;124mNot equal!\u001b[39m\u001b[38;5;124m\"\u001b[39m\n",
      "\u001b[0;31mAssertionError\u001b[0m: Not equal!"
     ]
    }
   ],
   "source": [
    "assert 0.1 + 0.2 == 0.3, \"Not equal!\""
   ]
  },
  {
   "cell_type": "code",
   "execution_count": 199,
   "metadata": {
    "slideshow": {
     "slide_type": "fragment"
    }
   },
   "outputs": [],
   "source": [
    "import math \n",
    "assert math.isclose(0.1 + 0.2, 0.3, abs_tol = 0.001), \"Not equal!\""
   ]
  },
  {
   "cell_type": "markdown",
   "metadata": {
    "slideshow": {
     "slide_type": "fragment"
    }
   },
   "source": [
    "- You can test any statement that evaluates to a boolean"
   ]
  },
  {
   "cell_type": "code",
   "execution_count": 200,
   "metadata": {
    "scrolled": true,
    "tags": [
     "raises-exception"
    ]
   },
   "outputs": [],
   "source": [
    "assert 'hedayat' in ['scot', 'prajeet', 'hedayat'], \"Instructor not present!\""
   ]
  },
  {
   "cell_type": "markdown",
   "metadata": {
    "slideshow": {
     "slide_type": "slide"
    }
   },
   "source": [
    "### Best practices when writing unit test\n",
    "\n",
    "The AAA (Arrange-Act-Assert) principle\n",
    "\n",
    "- Arrange your objects, create and set them up as necessary.\n",
    "- Act on an object.\n",
    "- Assert that something is as expected.\n",
    "\n",
    "**Why?**\n",
    "- Clearly separates what is being tested from the arrange and assert steps.\n",
    "- Less chance to intermix assertions with \"Act\" code."
   ]
  },
  {
   "cell_type": "code",
   "execution_count": 86,
   "metadata": {},
   "outputs": [],
   "source": [
    "def sum(a,b):\n",
    "    return a + b\n",
    "\n",
    "# Not recommended\n",
    "assert sum(1,2) == 3\n",
    "\n",
    "# Arrange\n",
    "a = 1\n",
    "b = 2\n",
    "\n",
    "# Act\n",
    "result = sum(a,b)\n",
    "\n",
    "# Assert\n",
    "assert result == 3"
   ]
  },
  {
   "cell_type": "markdown",
   "metadata": {
    "slideshow": {
     "slide_type": "slide"
    }
   },
   "source": [
    "### Best practices when writing unit test\n",
    "\n",
    "Precise assertion is a double-edged sword"
   ]
  },
  {
   "cell_type": "code",
   "execution_count": 87,
   "metadata": {},
   "outputs": [],
   "source": [
    "solution = 'Something here'\n",
    "answer = 'Something Here '\n",
    "\n",
    "# assert solution == answer \n",
    "# assert solution in answer\n",
    "assert solution.lower() in answer.lower()"
   ]
  },
  {
   "cell_type": "code",
   "execution_count": 88,
   "metadata": {
    "slideshow": {
     "slide_type": "fragment"
    }
   },
   "outputs": [],
   "source": [
    "solution = 5/3\n",
    "answer = 1.666666667\n",
    "\n",
    "# assert solution == answer\n",
    "import math\n",
    "assert math.isclose(solution, answer, abs_tol = 0.01)"
   ]
  },
  {
   "cell_type": "code",
   "execution_count": 185,
   "metadata": {
    "slideshow": {
     "slide_type": "fragment"
    }
   },
   "outputs": [],
   "source": [
    "solution = ['orange', 'apple', 'banana']\n",
    "answer = ['apple', 'orange', 'banana']\n",
    "\n",
    "# Assuming we just want to test membership and don't care about order of items\n",
    "\n",
    "# assert solution == answer\n",
    "# assert answer[0] == 'orange'\n",
    "\n",
    "assert 'orange' in answer\n",
    "assert 'banana' in answer\n",
    "assert 'apple' in answer"
   ]
  },
  {
   "cell_type": "markdown",
   "metadata": {
    "slideshow": {
     "slide_type": "slide"
    }
   },
   "source": [
    "### Best practices when writing unit test\n",
    "\n",
    "Avoid logic in tests\n",
    "\n",
    "When writing your unit tests, avoid manual string concatenation, logical conditions, such as if, while, for, and switch, and other conditions.\n",
    "\n",
    "**Why?**\n",
    "\n",
    "- Less chance to introduce a bug inside of your tests.\n",
    "- Focus on the end result, rather than implementation details."
   ]
  },
  {
   "cell_type": "code",
   "execution_count": 60,
   "metadata": {},
   "outputs": [],
   "source": [
    "def odd_or_even(number):\n",
    "    if number % 2 == 0:\n",
    "        return 'even'\n",
    "    else:\n",
    "        return 'odd'\n",
    "    \n",
    "import random\n",
    "number = random.randint(0,10)\n",
    "\n",
    "# not recommended\n",
    "if number % 2 == 1:\n",
    "    assert odd_or_even(number) == 'odd'\n",
    "else:\n",
    "    assert odd_or_even(number) == 'even'"
   ]
  },
  {
   "cell_type": "code",
   "execution_count": 62,
   "metadata": {
    "slideshow": {
     "slide_type": "fragment"
    }
   },
   "outputs": [],
   "source": [
    "# Arrange\n",
    "odd_number = random.randrange(1, 11, 2)\n",
    "\n",
    "# Act\n",
    "result = odd_or_even(odd_number)\n",
    "\n",
    "# Assert\n",
    "assert result == 'odd'\n",
    "\n",
    "# Arrange\n",
    "odd_number = random.randrange(2, 12, 2)\n",
    "\n",
    "# Act\n",
    "result = odd_or_even(odd_number)\n",
    "\n",
    "# Assert\n",
    "assert result == 'even'"
   ]
  },
  {
   "cell_type": "markdown",
   "metadata": {
    "slideshow": {
     "slide_type": "skip"
    }
   },
   "source": [
    "### Test driven development"
   ]
  },
  {
   "cell_type": "markdown",
   "metadata": {
    "slideshow": {
     "slide_type": "skip"
    }
   },
   "source": [
    "- Test Driven Development (TDD) is where you write your tests before your actual function\n",
    "- This may seem a little counter-intuitive, but you're creating the expectations of your function before the actual function\n",
    "- This can be helpful for several reasons:\n",
    "    - you will better understand exactly what code you need to write;\n",
    "    - you are forced to write tests upfront;\n",
    "    - you will not encounter large time-consuming bugs down the line; and,\n",
    "    - it helps to keep your workflow manageable by focusing on small, incremental code improvements and additions."
   ]
  },
  {
   "cell_type": "markdown",
   "metadata": {
    "slideshow": {
     "slide_type": "skip"
    }
   },
   "source": [
    "- In general, the approach is as follows:\n",
    "    1. Write a stub: a function that does nothing but accept all input parameters and return the correct datatype.\n",
    "    2. Write tests to satisfy your design specifications.\n",
    "    3. Outline the program with pseudo-code.\n",
    "    4. Write code and test frequently.\n",
    "    5. Write documentation."
   ]
  },
  {
   "cell_type": "markdown",
   "metadata": {
    "slideshow": {
     "slide_type": "skip"
    }
   },
   "source": [
    "- **You do not have to do TDD in MDS**, but you may find it helpful, especially when it comes to designing more complex programs/packages."
   ]
  },
  {
   "cell_type": "markdown",
   "metadata": {
    "slideshow": {
     "slide_type": "slide"
    }
   },
   "source": [
    "### Testing woes - false positives\n",
    "\n",
    "- **Just because all your tests pass, this does not mean your program is correct!!**\n",
    "- This happens all the time. How to deal with it?\n",
    "  - Write a lot of tests!\n",
    "  - Write documentation.\n",
    "  - Don't be overconfident, even after writing a lot of tests!"
   ]
  },
  {
   "cell_type": "code",
   "execution_count": 98,
   "metadata": {},
   "outputs": [],
   "source": [
    "def sample_median(x):\n",
    "    \"\"\"Finds the median of a list of numbers.\"\"\"\n",
    "    x_sorted = sorted(x)\n",
    "    return x_sorted[len(x_sorted) // 2]\n",
    "\n",
    "\n",
    "assert sample_median([1, 3, 2]) == 2, \"test failed!\"\n",
    "assert sample_median([0, 0, 0, 0]) == 0, \"test failed!\"\n",
    "assert sample_median([1, 2, 3, 4, 5]) == 3, \"test failed!\""
   ]
  },
  {
   "cell_type": "markdown",
   "metadata": {
    "slideshow": {
     "slide_type": "fragment"
    }
   },
   "source": [
    "- Looks like our tests passed! We must be good to go...\n",
    "- But wait..."
   ]
  },
  {
   "cell_type": "code",
   "execution_count": 99,
   "metadata": {
    "tags": [
     "raises-exception"
    ]
   },
   "outputs": [
    {
     "ename": "AssertionError",
     "evalue": "test failed!",
     "output_type": "error",
     "traceback": [
      "\u001b[0;31m---------------------------------------------------------------------------\u001b[0m",
      "\u001b[0;31mAssertionError\u001b[0m                            Traceback (most recent call last)",
      "Cell \u001b[0;32mIn[99], line 1\u001b[0m\n\u001b[0;32m----> 1\u001b[0m \u001b[39massert\u001b[39;00m sample_median([\u001b[39m1\u001b[39m, \u001b[39m2\u001b[39m, \u001b[39m3\u001b[39m, \u001b[39m4\u001b[39m]) \u001b[39m==\u001b[39m \u001b[39m2.5\u001b[39m, \u001b[39m\"\u001b[39m\u001b[39mtest failed!\u001b[39m\u001b[39m\"\u001b[39m\n",
      "\u001b[0;31mAssertionError\u001b[0m: test failed!"
     ]
    }
   ],
   "source": [
    "assert sample_median([1, 2, 3, 4]) == 2.5, \"test failed!\""
   ]
  },
  {
   "cell_type": "markdown",
   "metadata": {
    "slideshow": {
     "slide_type": "slide"
    }
   },
   "source": [
    "### Corner cases\n",
    "\n",
    "- A **corner case** is an input that is reasonable but a bit unusual, and may trip up your code.\n",
    "- For example, taking the median of an empty list, or a list with only one element. \n",
    "- Often it is desirable to add test cases to address corner cases."
   ]
  },
  {
   "cell_type": "code",
   "execution_count": 100,
   "metadata": {},
   "outputs": [],
   "source": [
    "assert sample_median([1]) == 1"
   ]
  },
  {
   "cell_type": "markdown",
   "metadata": {},
   "source": [
    "- In this case the code worked with no extra effort, but sometimes we need `if` statements to handle the weird cases.\n",
    "- For example, sometimes we want the code to throw a particular error\n",
    "- You'll learn about writing tests for code that raises a specified error in DSCI 524"
   ]
  },
  {
   "cell_type": "markdown",
   "metadata": {
    "slideshow": {
     "slide_type": "slide"
    }
   },
   "source": [
    "### EAFP versus LBYL"
   ]
  },
  {
   "cell_type": "markdown",
   "metadata": {},
   "source": [
    "- Somewhat related to testing and function design are the philosophies EAFP and LBYL\n",
    "- EAFP = \"Easier to ask for forgiveness than permission\"\n",
    "    - In coding lingo: try doing something, and if it doesn't work, catch the error\n",
    "- LBYL = \"Look before you leap\"\n",
    "    - In coding lingo: check that you can do something before trying to do it\n",
    "- These two acronyms refer to coding philosophies about how to write your code\n",
    "- Let's see an example"
   ]
  },
  {
   "cell_type": "code",
   "execution_count": 101,
   "metadata": {
    "slideshow": {
     "slide_type": "slide"
    }
   },
   "outputs": [],
   "source": [
    "d = {'name': 'Doctor Python',\n",
    "     'superpower': 'programming',\n",
    "     'weakness': 'mountain dew',\n",
    "     'enemies': 10}"
   ]
  },
  {
   "cell_type": "code",
   "execution_count": 102,
   "metadata": {},
   "outputs": [
    {
     "name": "stdout",
     "output_type": "stream",
     "text": [
      "Please forgive me!\n"
     ]
    }
   ],
   "source": [
    "# EAFP\n",
    "try:\n",
    "    d['address']\n",
    "except KeyError:\n",
    "    print('Please forgive me!')"
   ]
  },
  {
   "cell_type": "code",
   "execution_count": 103,
   "metadata": {
    "slideshow": {
     "slide_type": "fragment"
    }
   },
   "outputs": [
    {
     "name": "stdout",
     "output_type": "stream",
     "text": [
      "Saved you before you leapt!\n"
     ]
    }
   ],
   "source": [
    "# LBYL\n",
    "if 'address' in d.keys():\n",
    "    d['address']\n",
    "else:\n",
    "    print('Saved you before you leapt!')"
   ]
  },
  {
   "cell_type": "markdown",
   "metadata": {},
   "source": [
    "- While EAFP is often vouched for in Python, there's no right and wrong way to code and it's often context-specific"
   ]
  },
  {
   "cell_type": "markdown",
   "metadata": {
    "slideshow": {
     "slide_type": "slide"
    }
   },
   "source": [
    "## Debugging"
   ]
  },
  {
   "cell_type": "markdown",
   "metadata": {},
   "source": [
    "- My Python code doesn't work: what do I do?\n",
    "- At the moment, most of you probably do \"manual testing\" or \"exploratory testing\"\n",
    "- You keep changing your code until it works, maybe add some `print()` statements around the place to isolate any problems\n",
    "\n",
    "For example, look at the following `random_walker` code, which is adopted with permission from COS 126, [Conditionals and Loops](http://www.cs.princeton.edu/courses/archive/fall10/cos126/assignments/loops.html):"
   ]
  },
  {
   "cell_type": "code",
   "execution_count": 204,
   "metadata": {
    "tags": [
     "ignore"
    ]
   },
   "outputs": [],
   "source": [
    "from random import random"
   ]
  },
  {
   "cell_type": "code",
   "execution_count": 205,
   "metadata": {
    "tags": [
     "ignore"
    ]
   },
   "outputs": [
    {
     "name": "stdout",
     "output_type": "stream",
     "text": [
      "(0, 1)\n",
      "(0, 2)\n",
      "(0, 3)\n",
      "(0, 4)\n",
      "(0, 5)\n"
     ]
    },
    {
     "data": {
      "text/plain": [
       "5.0"
      ]
     },
     "execution_count": 205,
     "metadata": {},
     "output_type": "execute_result"
    }
   ],
   "source": [
    "def random_walker(T):\n",
    "\n",
    "    x = 0\n",
    "    y = 0\n",
    "\n",
    "    for i in range(T):\n",
    "        rand = random()\n",
    "        if rand < 0.25:\n",
    "            x += 1\n",
    "        if rand < 0.5:\n",
    "            x -= 1\n",
    "        if rand < 0.75:\n",
    "            y += 1\n",
    "        else:\n",
    "            y -= 1\n",
    "        print((x, y))\n",
    "\n",
    "    return round((x ** 2 + y ** 2) ** 0.5, 2)\n",
    "\n",
    "\n",
    "random_walker(5)"
   ]
  },
  {
   "cell_type": "markdown",
   "metadata": {},
   "source": [
    "- If we re-run the code above, our random walker never goes right (the x-coordinate is never positive)...\n",
    "- We might try to add some print statement here to see what's going on"
   ]
  },
  {
   "cell_type": "code",
   "execution_count": 206,
   "metadata": {},
   "outputs": [],
   "source": [
    "from random import random"
   ]
  },
  {
   "cell_type": "code",
   "execution_count": 207,
   "metadata": {
    "tags": [
     "ignore"
    ]
   },
   "outputs": [
    {
     "name": "stdout",
     "output_type": "stream",
     "text": [
      "0.38842962923836344\n",
      "I'm going left!\n",
      "I'm going up!\n",
      "(-1, 1) \n",
      "\n",
      "0.37795761762894553\n",
      "I'm going left!\n",
      "I'm going up!\n",
      "(-2, 2) \n",
      "\n",
      "0.28895266518989027\n",
      "I'm going left!\n",
      "I'm going up!\n",
      "(-3, 3) \n",
      "\n",
      "0.08617485947063797\n",
      "I'm going right!\n",
      "I'm going left!\n",
      "I'm going up!\n",
      "(-3, 4) \n",
      "\n",
      "0.7686981222633457\n",
      "I'm going down!\n",
      "(-3, 3) \n",
      "\n"
     ]
    },
    {
     "data": {
      "text/plain": [
       "4.24"
      ]
     },
     "execution_count": 207,
     "metadata": {},
     "output_type": "execute_result"
    }
   ],
   "source": [
    "def random_walker(T):\n",
    "    \"\"\"\n",
    "    Simulates T steps of a 2D random walk, and prints the result of each step.\n",
    "    Returns the squared distance from the origin.\n",
    "\n",
    "    Parameters\n",
    "    ----------\n",
    "    T : int\n",
    "        Number of steps to take\n",
    "\n",
    "    Returns\n",
    "    -------\n",
    "    out : float\n",
    "        Euclidean distance from the origin rounded to 2 decimal places\n",
    "\n",
    "    Examples\n",
    "    --------\n",
    "    >>> random_walker(1)\n",
    "    1.0\n",
    "\n",
    "    >>> random_walker(1)\n",
    "    1.41  # this randomly gives 1.41, 2.0, or 0.0\n",
    "    \"\"\"\n",
    "\n",
    "    x = 0\n",
    "    y = 0\n",
    "\n",
    "    for i in range(T):\n",
    "        rand = random()\n",
    "        print(rand)\n",
    "        if rand < 0.25:\n",
    "            print(\"I'm going right!\")\n",
    "            x += 1\n",
    "        if rand < 0.5:\n",
    "            print(\"I'm going left!\")\n",
    "            x -= 1\n",
    "        if rand < 0.75:\n",
    "            y += 1\n",
    "            print(\"I'm going up!\")\n",
    "        else:\n",
    "            print(\"I'm going down!\")\n",
    "            y -= 1\n",
    "        print((x, y), '\\n')\n",
    "\n",
    "    return round((x ** 2 + y ** 2) ** 0.5, 2)\n",
    "\n",
    "\n",
    "random_walker(5)"
   ]
  },
  {
   "cell_type": "markdown",
   "metadata": {},
   "source": [
    "- Ah! We see that even every time after a `\"I'm going right!\"` we immediately get a `\"I'm going left!\"` and a `\"I'm going up!\"`\n",
    "- Note that a left or right move is always followed by an up move as well!\n",
    "- The problem is in our `if` statements, we should be using `elif` for each statement after the initial `if`, otherwise multiple conditions may be met each time..."
   ]
  },
  {
   "cell_type": "markdown",
   "metadata": {},
   "source": [
    "- This was a pretty simple debugging case, adding print statements is not always helpful or efficient\n",
    "- Alternative: Use debugger feature in VScode (https://code.visualstudio.com/docs/editor/debugging)\n",
    "\n",
    "<img src=\"https://code.visualstudio.com/assets/docs/editor/debugging/debugging_hero.png\" width=\"700\">"
   ]
  },
  {
   "cell_type": "code",
   "execution_count": 208,
   "metadata": {
    "tags": [
     "raises-exception"
    ]
   },
   "outputs": [
    {
     "name": "stdout",
     "output_type": "stream",
     "text": [
      "(0, 1) \n",
      "\n",
      "(0, 2) \n",
      "\n",
      "(0, 3) \n",
      "\n",
      "(0, 4) \n",
      "\n",
      "(0, 3) \n",
      "\n"
     ]
    },
    {
     "data": {
      "text/plain": [
       "3.0"
      ]
     },
     "execution_count": 208,
     "metadata": {},
     "output_type": "execute_result"
    }
   ],
   "source": [
    "def random_walker(T):\n",
    "\n",
    "    x = 0\n",
    "    y = 0\n",
    "\n",
    "    for i in range(T):\n",
    "        rand = random()\n",
    "        \n",
    "        if rand < 0.25:\n",
    "            x += 1\n",
    "        if rand < 0.5:\n",
    "            x -= 1\n",
    "        if rand < 0.75:\n",
    "            y += 1\n",
    "        else:\n",
    "            y -= 1\n",
    "        print((x, y), '\\n')\n",
    "        \n",
    "    return round((x ** 2 + y ** 2) ** 0.5, 2)\n",
    "\n",
    "\n",
    "random_walker(5)"
   ]
  },
  {
   "cell_type": "markdown",
   "metadata": {},
   "source": [
    "- So the correct code should be:"
   ]
  },
  {
   "cell_type": "code",
   "execution_count": 209,
   "metadata": {
    "tags": [
     "ignore"
    ]
   },
   "outputs": [
    {
     "name": "stdout",
     "output_type": "stream",
     "text": [
      "I'm going right!\n",
      "(1, 0) \n",
      "\n",
      "I'm going down!\n",
      "(1, -1) \n",
      "\n",
      "I'm going right!\n",
      "(2, -1) \n",
      "\n",
      "I'm going right!\n",
      "(3, -1) \n",
      "\n",
      "I'm going down!\n",
      "(3, -2) \n",
      "\n"
     ]
    },
    {
     "data": {
      "text/plain": [
       "3.61"
      ]
     },
     "execution_count": 209,
     "metadata": {},
     "output_type": "execute_result"
    }
   ],
   "source": [
    "from random import random\n",
    "\n",
    "def random_walker(T):\n",
    "    \"\"\"\n",
    "    Simulates T steps of a 2D random walk, and prints the result of each step.\n",
    "    Returns the squared distance from the origin.\n",
    "\n",
    "    Parameters\n",
    "    ----------\n",
    "    T : int\n",
    "        Number of steps to take\n",
    "\n",
    "    Returns\n",
    "    -------\n",
    "    out : float\n",
    "        Euclidean distance from the origin rounded to 2 decimal places\n",
    "\n",
    "    Examples\n",
    "    --------\n",
    "    >>> random_walker(1)\n",
    "    1.0\n",
    "\n",
    "    >>> random_walker(1)\n",
    "    1.41  # this randomly gives 1.41, 2.0, or 0.0\n",
    "    \"\"\"\n",
    "\n",
    "    x = 0\n",
    "    y = 0\n",
    "\n",
    "    for i in range(T):\n",
    "        rand = random()\n",
    "        # print(rand)\n",
    "        \n",
    "        if rand < 0.25:\n",
    "            print(\"I'm going right!\")\n",
    "            x += 1\n",
    "        elif rand < 0.5:\n",
    "            print(\"I'm going left!\")\n",
    "            x -= 1\n",
    "        elif rand < 0.75:\n",
    "            print(\"I'm going up!\")\n",
    "            y += 1\n",
    "        else:\n",
    "            print(\"I'm going down!\")\n",
    "            y -= 1\n",
    "        print((x, y), '\\n')\n",
    "        \n",
    "    return round((x ** 2 + y ** 2) ** 0.5, 2)\n",
    "\n",
    "\n",
    "random_walker(5)"
   ]
  },
  {
   "cell_type": "markdown",
   "metadata": {},
   "source": [
    "- Most Python IDE's also have their own debugging workflow, including the visual debugger of VSCode and JupyterLab."
   ]
  }
 ],
 "metadata": {
  "celltoolbar": "Slideshow",
  "kernelspec": {
   "display_name": "Python 3 (ipykernel)",
   "language": "python",
   "name": "python3"
  },
  "language_info": {
   "codemirror_mode": {
    "name": "ipython",
    "version": 3
   },
   "file_extension": ".py",
   "mimetype": "text/x-python",
   "name": "python",
   "nbconvert_exporter": "python",
   "pygments_lexer": "ipython3",
   "version": "3.11.9"
  },
  "toc": {
   "base_numbering": 1,
   "nav_menu": {},
   "number_sections": false,
   "sideBar": true,
   "skip_h1_title": true,
   "title_cell": "Lecture Outline",
   "title_sidebar": "Contents",
   "toc_cell": true,
   "toc_position": {
    "height": "calc(100% - 180px)",
    "left": "10px",
    "top": "150px",
    "width": "333.188px"
   },
   "toc_section_display": true,
   "toc_window_display": true
  },
  "vscode": {
   "interpreter": {
    "hash": "e48f8b1687318edbd5a2a918b592db3baee1b5f69ffdc30179f0c7d8337e101b"
   }
  }
 },
 "nbformat": 4,
 "nbformat_minor": 4
}
